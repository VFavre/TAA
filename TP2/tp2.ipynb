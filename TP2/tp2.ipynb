{
 "cells": [
  {
   "cell_type": "markdown",
   "metadata": {
    "collapsed": true,
    "pycharm": {
     "name": "#%% md\n"
    }
   },
   "source": [
    "## Favre Victor et Badiel Dane"
   ]
  },
  {
   "cell_type": "code",
   "execution_count": 76,
   "outputs": [],
   "source": [
    "import numpy as np\n",
    "np.set_printoptions(threshold=10000,suppress=True)\n",
    "import pandas as pd\n",
    "import warnings\n",
    "import matplotlib.pyplot as plt\n",
    "warnings.filterwarnings('ignore')\n",
    "from sklearn.pipeline import Pipeline"
   ],
   "metadata": {
    "collapsed": false,
    "pycharm": {
     "name": "#%%\n"
    }
   }
  },
  {
   "cell_type": "code",
   "execution_count": 77,
   "outputs": [
    {
     "name": "stdout",
     "output_type": "stream",
     "text": [
      "(4375, 14)\n"
     ]
    },
    {
     "data": {
      "text/plain": "<Figure size 432x288 with 1 Axes>",
      "image/png": "[encoded data removed]"
     },
     "metadata": {
      "needs_background": "light"
     },
     "output_type": "display_data"
    }
   ],
   "source": [
    "data = pd.read_csv(\"credit_scoring.csv\",sep = ';')\n",
    "data_ar = data.to_numpy()\n",
    "print(np.shape(data_ar))\n",
    "\n",
    "positive = data_ar[data_ar[:,13] == 1]\n",
    "negative = data_ar[data_ar[:,13] == 0]\n",
    "\n",
    "plt.hist(data_ar[:,13], ec=\"k\")\n",
    "plt.xticks((0,1))\n",
    "plt.title(\"histogram\")\n",
    "plt.show()"
   ],
   "metadata": {
    "collapsed": false,
    "pycharm": {
     "name": "#%%\n"
    }
   }
  },
  {
   "cell_type": "code",
   "execution_count": 78,
   "outputs": [],
   "source": [
    "from sklearn.model_selection import train_test_split\n",
    "X = data_ar[:,:13]\n",
    "y = data_ar[:,13]\n",
    "X_train, X_test, y_train, y_test = train_test_split(X, y, test_size=0.5, random_state=1)"
   ],
   "metadata": {
    "collapsed": false,
    "pycharm": {
     "name": "#%%\n"
    }
   }
  },
  {
   "cell_type": "code",
   "execution_count": 79,
   "outputs": [
    {
     "name": "stdout",
     "output_type": "stream",
     "text": [
      "              precision    recall  f1-score   support\n",
      "\n",
      "         0.0       0.51      0.54      0.52       604\n",
      "         1.0       0.82      0.80      0.81      1584\n",
      "\n",
      "    accuracy                           0.73      2188\n",
      "   macro avg       0.66      0.67      0.67      2188\n",
      "weighted avg       0.73      0.73      0.73      2188\n",
      "\n"
     ]
    }
   ],
   "source": [
    "from sklearn import tree\n",
    "from sklearn import metrics\n",
    "\n",
    "clf = tree.DecisionTreeClassifier(random_state=1)\n",
    "clf = clf.fit(X_train,y_train)\n",
    "y_pred = clf.predict(X_test)\n",
    "print(metrics.classification_report(y_test,y_pred))"
   ],
   "metadata": {
    "collapsed": false,
    "pycharm": {
     "name": "#%%\n"
    }
   }
  },
  {
   "cell_type": "markdown",
   "source": [
    "KNeighbors"
   ],
   "metadata": {
    "collapsed": false
   }
  },
  {
   "cell_type": "code",
   "execution_count": 80,
   "outputs": [
    {
     "name": "stdout",
     "output_type": "stream",
     "text": [
      "              precision    recall  f1-score   support\n",
      "\n",
      "         0.0       0.50      0.31      0.39       604\n",
      "         1.0       0.77      0.88      0.82      1584\n",
      "\n",
      "    accuracy                           0.72      2188\n",
      "   macro avg       0.64      0.60      0.60      2188\n",
      "weighted avg       0.70      0.72      0.70      2188\n",
      "\n"
     ]
    }
   ],
   "source": [
    "from sklearn.neighbors import KNeighborsClassifier\n",
    "neigh = KNeighborsClassifier(n_neighbors=5)\n",
    "neigh.fit(X_train, y_train)\n",
    "y_pred = neigh.predict(X_test)\n",
    "print(metrics.classification_report(y_test,y_pred))"
   ],
   "metadata": {
    "collapsed": false,
    "pycharm": {
     "name": "#%%\n"
    }
   }
  },
  {
   "cell_type": "code",
   "execution_count": 81,
   "outputs": [
    {
     "name": "stdout",
     "output_type": "stream",
     "text": [
      "              precision    recall  f1-score   support\n",
      "\n",
      "         0.0       0.36      0.47      0.41       604\n",
      "         1.0       0.77      0.68      0.73      1584\n",
      "\n",
      "    accuracy                           0.63      2188\n",
      "   macro avg       0.57      0.58      0.57      2188\n",
      "weighted avg       0.66      0.63      0.64      2188\n",
      "\n"
     ]
    }
   ],
   "source": [
    "from sklearn.neural_network import MLPClassifier\n",
    "\n",
    "mlp = MLPClassifier(hidden_layer_sizes=(40,20),activation=\"relu\").fit(X_train, y_train)\n",
    "y_pred = mlp.predict(X_test)\n",
    "print(metrics.classification_report(y_test,y_pred))"
   ],
   "metadata": {
    "collapsed": false,
    "pycharm": {
     "name": "#%%\n"
    }
   }
  },
  {
   "cell_type": "markdown",
   "source": [
    "Compte tenu du principe du credit score il est plus intéressant de chercher a maximiser la precision du 1 que le reste.\n",
    "on remarque sur la précision que tout les algorithme sont similaire meme si le neural network est en tete avec 74% d'accuracy. Cependant si l'on regarde la precision sur 1 le deicison tree est dans ce cas ben meilleur que les autre etant donné qu'il atteint 82% de precision compraré aux autre qui atteigne 75 ou 77 %"
   ],
   "metadata": {
    "collapsed": false
   }
  },
  {
   "cell_type": "markdown",
   "source": [
    "# normalisation et standardisation"
   ],
   "metadata": {
    "collapsed": false
   }
  },
  {
   "cell_type": "code",
   "execution_count": 82,
   "outputs": [],
   "source": [
    "from sklearn.preprocessing import StandardScaler\n",
    "sc_X = StandardScaler()\n",
    "X_train_standar = sc_X.fit_transform(X_train)\n",
    "X_test_standar = sc_X.transform(X_test)\n",
    "\n",
    "from sklearn.preprocessing import MinMaxScaler\n",
    "scaler = MinMaxScaler()\n",
    "X_train_minmax = scaler.fit_transform(X_train)\n",
    "X_test_minmax = scaler.transform(X_test)"
   ],
   "metadata": {
    "collapsed": false,
    "pycharm": {
     "name": "#%%\n"
    }
   }
  },
  {
   "cell_type": "code",
   "execution_count": 83,
   "outputs": [
    {
     "name": "stdout",
     "output_type": "stream",
     "text": [
      "              precision    recall  f1-score   support\n",
      "\n",
      "         0.0       0.51      0.53      0.52       604\n",
      "         1.0       0.82      0.80      0.81      1584\n",
      "\n",
      "    accuracy                           0.73      2188\n",
      "   macro avg       0.66      0.67      0.66      2188\n",
      "weighted avg       0.73      0.73      0.73      2188\n",
      "\n"
     ]
    }
   ],
   "source": [
    "from sklearn import tree\n",
    "from sklearn import metrics\n",
    "\n",
    "clf = tree.DecisionTreeClassifier(random_state=1)\n",
    "clf = clf.fit(X_train_standar,y_train)\n",
    "y_pred = clf.predict(X_test_standar)\n",
    "print(metrics.classification_report(y_test,y_pred))"
   ],
   "metadata": {
    "collapsed": false,
    "pycharm": {
     "name": "#%%\n"
    }
   }
  },
  {
   "cell_type": "code",
   "execution_count": 84,
   "outputs": [
    {
     "name": "stdout",
     "output_type": "stream",
     "text": [
      "              precision    recall  f1-score   support\n",
      "\n",
      "         0.0       0.51      0.54      0.52       604\n",
      "         1.0       0.82      0.80      0.81      1584\n",
      "\n",
      "    accuracy                           0.73      2188\n",
      "   macro avg       0.66      0.67      0.67      2188\n",
      "weighted avg       0.73      0.73      0.73      2188\n",
      "\n"
     ]
    }
   ],
   "source": [
    "clf = tree.DecisionTreeClassifier(random_state=1)\n",
    "clf = clf.fit(X_train_minmax,y_train)\n",
    "y_pred = clf.predict(X_test_minmax)\n",
    "print(metrics.classification_report(y_test,y_pred))"
   ],
   "metadata": {
    "collapsed": false,
    "pycharm": {
     "name": "#%%\n"
    }
   }
  },
  {
   "cell_type": "code",
   "execution_count": 85,
   "outputs": [
    {
     "name": "stdout",
     "output_type": "stream",
     "text": [
      "              precision    recall  f1-score   support\n",
      "\n",
      "         0.0       0.56      0.47      0.51       604\n",
      "         1.0       0.81      0.86      0.83      1584\n",
      "\n",
      "    accuracy                           0.75      2188\n",
      "   macro avg       0.69      0.67      0.67      2188\n",
      "weighted avg       0.74      0.75      0.75      2188\n",
      "\n"
     ]
    }
   ],
   "source": [
    "neigh = KNeighborsClassifier(n_neighbors=5)\n",
    "neigh.fit(X_train_standar, y_train)\n",
    "y_pred = neigh.predict(X_test_standar)\n",
    "print(metrics.classification_report(y_test,y_pred))"
   ],
   "metadata": {
    "collapsed": false,
    "pycharm": {
     "name": "#%%\n"
    }
   }
  },
  {
   "cell_type": "code",
   "execution_count": 86,
   "outputs": [
    {
     "name": "stdout",
     "output_type": "stream",
     "text": [
      "              precision    recall  f1-score   support\n",
      "\n",
      "         0.0       0.51      0.54      0.52       604\n",
      "         1.0       0.82      0.80      0.81      1584\n",
      "\n",
      "    accuracy                           0.73      2188\n",
      "   macro avg       0.66      0.67      0.67      2188\n",
      "weighted avg       0.73      0.73      0.73      2188\n",
      "\n"
     ]
    }
   ],
   "source": [
    "neigh.fit(X_train, y_train)\n",
    "y_pred = clf.predict(X_test_minmax)\n",
    "print(metrics.classification_report(y_test,y_pred))"
   ],
   "metadata": {
    "collapsed": false,
    "pycharm": {
     "name": "#%%\n"
    }
   }
  },
  {
   "cell_type": "code",
   "execution_count": 87,
   "outputs": [
    {
     "name": "stdout",
     "output_type": "stream",
     "text": [
      "              precision    recall  f1-score   support\n",
      "\n",
      "         0.0       0.62      0.57      0.59       604\n",
      "         1.0       0.84      0.86      0.85      1584\n",
      "\n",
      "    accuracy                           0.78      2188\n",
      "   macro avg       0.73      0.72      0.72      2188\n",
      "weighted avg       0.78      0.78      0.78      2188\n",
      "\n"
     ]
    }
   ],
   "source": [
    "mlp = MLPClassifier(hidden_layer_sizes=(40,20),activation=\"relu\")\n",
    "mlp.fit(X_train_standar, y_train)\n",
    "y_pred = mlp.predict(X_test_standar)\n",
    "print(metrics.classification_report(y_test,y_pred))"
   ],
   "metadata": {
    "collapsed": false,
    "pycharm": {
     "name": "#%%\n"
    }
   }
  },
  {
   "cell_type": "code",
   "execution_count": 88,
   "outputs": [
    {
     "name": "stdout",
     "output_type": "stream",
     "text": [
      "              precision    recall  f1-score   support\n",
      "\n",
      "         0.0       0.66      0.54      0.60       604\n",
      "         1.0       0.84      0.89      0.86      1584\n",
      "\n",
      "    accuracy                           0.80      2188\n",
      "   macro avg       0.75      0.72      0.73      2188\n",
      "weighted avg       0.79      0.80      0.79      2188\n",
      "\n"
     ]
    }
   ],
   "source": [
    "mlp.fit(X_train_minmax, y_train)\n",
    "y_pred = mlp.predict(X_test_minmax)\n",
    "print(metrics.classification_report(y_test,y_pred))"
   ],
   "metadata": {
    "collapsed": false,
    "pycharm": {
     "name": "#%%\n"
    }
   }
  },
  {
   "cell_type": "markdown",
   "source": [
    "Suite a la normalisation ou la standardisation on remarque une forte augmentation des réusulats pour le neural network de l'odre de de 7 a 9 % pour la précision est de 2 a 3 % d'accuracy. Quand aux autre algorithmes le decision tree n'est pas impacté par la normalisation et la KN quand a lui gagne 5 % de precision. On peux aussi remarquer des differences sur les résultat en fonction de si la standarsisation ou la normalisation est utilisé ..."
   ],
   "metadata": {
    "collapsed": false
   }
  },
  {
   "cell_type": "markdown",
   "source": [
    "PCA"
   ],
   "metadata": {
    "collapsed": false
   }
  },
  {
   "cell_type": "code",
   "execution_count": 89,
   "outputs": [],
   "source": [
    "from sklearn.decomposition import PCA\n",
    "pca = PCA()\n",
    "pca_train = pca.fit_transform(X_train_standar)\n",
    "X_train_pca = np.concatenate([X_train_standar,pca_train[:,:3]], axis = 1)\n",
    "pca_test = pca.transform(X_test_standar)\n",
    "X_test_pca = np.concatenate([X_test_standar,pca_test[:,:3]], axis = 1)"
   ],
   "metadata": {
    "collapsed": false,
    "pycharm": {
     "name": "#%%\n"
    }
   }
  },
  {
   "cell_type": "code",
   "execution_count": 90,
   "outputs": [
    {
     "name": "stdout",
     "output_type": "stream",
     "text": [
      "              precision    recall  f1-score   support\n",
      "\n",
      "         0.0       0.52      0.58      0.55       604\n",
      "         1.0       0.83      0.80      0.81      1584\n",
      "\n",
      "    accuracy                           0.74      2188\n",
      "   macro avg       0.68      0.69      0.68      2188\n",
      "weighted avg       0.75      0.74      0.74      2188\n",
      "\n"
     ]
    }
   ],
   "source": [
    "clf = tree.DecisionTreeClassifier(random_state=1)\n",
    "clf = clf.fit(X_train_pca, y_train)\n",
    "y_pred = clf.predict(X_test_pca)\n",
    "print(metrics.classification_report(y_test, y_pred))"
   ],
   "metadata": {
    "collapsed": false,
    "pycharm": {
     "name": "#%%\n"
    }
   }
  },
  {
   "cell_type": "code",
   "execution_count": 91,
   "outputs": [
    {
     "name": "stdout",
     "output_type": "stream",
     "text": [
      "              precision    recall  f1-score   support\n",
      "\n",
      "         0.0       0.57      0.47      0.52       604\n",
      "         1.0       0.81      0.87      0.84      1584\n",
      "\n",
      "    accuracy                           0.76      2188\n",
      "   macro avg       0.69      0.67      0.68      2188\n",
      "weighted avg       0.74      0.76      0.75      2188\n",
      "\n"
     ]
    }
   ],
   "source": [
    "neigh.fit(X_train_pca, y_train)\n",
    "y_pred = neigh.predict(X_test_pca)\n",
    "print(metrics.classification_report(y_test, y_pred))"
   ],
   "metadata": {
    "collapsed": false,
    "pycharm": {
     "name": "#%%\n"
    }
   }
  },
  {
   "cell_type": "code",
   "execution_count": 92,
   "outputs": [
    {
     "name": "stdout",
     "output_type": "stream",
     "text": [
      "              precision    recall  f1-score   support\n",
      "\n",
      "         0.0       0.59      0.50      0.54       604\n",
      "         1.0       0.82      0.87      0.84      1584\n",
      "\n",
      "    accuracy                           0.77      2188\n",
      "   macro avg       0.71      0.69      0.69      2188\n",
      "weighted avg       0.76      0.77      0.76      2188\n",
      "\n"
     ]
    }
   ],
   "source": [
    "mlp = MLPClassifier(hidden_layer_sizes=(40,20),activation=\"relu\")\n",
    "mlp.fit(X_train_pca, y_train)\n",
    "y_pred = mlp.predict(X_test_pca)\n",
    "print(metrics.classification_report(y_test,y_pred))"
   ],
   "metadata": {
    "collapsed": false,
    "pycharm": {
     "name": "#%%\n"
    }
   }
  },
  {
   "cell_type": "markdown",
   "source": [
    "Suite a la PCA on remarque que l'impact général est res faible et n'entraine une augmentation de precision et d'accuracy de l'odre de 1% et entraine meme une perte de 1% de precision pour certain algothime comme le Neural Network"
   ],
   "metadata": {
    "collapsed": false
   }
  },
  {
   "cell_type": "markdown",
   "source": [
    "# Sélection de variables"
   ],
   "metadata": {
    "collapsed": false
   }
  },
  {
   "cell_type": "code",
   "execution_count": 93,
   "outputs": [
    {
     "name": "stdout",
     "output_type": "stream",
     "text": [
      "Index(['Income', 'Seniority', 'Price', 'Amount', 'Age', 'Assets', 'Expenses',\n",
      "       'Records', 'Time', 'Job', 'Debt', 'Home', 'Marital'],\n",
      "      dtype='object')\n"
     ]
    },
    {
     "data": {
      "text/plain": "<Figure size 432x288 with 1 Axes>",
      "image/png": "[encoded data removed]"
     },
     "metadata": {
      "needs_background": "light"
     },
     "output_type": "display_data"
    }
   ],
   "source": [
    "from sklearn.ensemble import RandomForestClassifier\n",
    "clf = RandomForestClassifier(n_estimators=100)\n",
    "clf.fit(X_train_standar,y_train)\n",
    "importances=clf.feature_importances_\n",
    "std = np.std([tree.feature_importances_ for tree in clf.estimators_],axis=0)\n",
    "sorted_idx = np.argsort(importances)[::-1]\n",
    "nom_cols = data.columns\n",
    "features = nom_cols #see if it's well organized\n",
    "print(features[sorted_idx])\n",
    "padding = np.arange(X_train_standar.size/len(X_train_standar)) + 0.5\n",
    "plt.barh(padding, importances[sorted_idx],xerr=std[sorted_idx], align='center')\n",
    "plt.yticks(padding, features[sorted_idx])\n",
    "plt.xlabel(\"Relative Importance\")\n",
    "plt.title(\"Variable Importance\")\n",
    "plt.show()"
   ],
   "metadata": {
    "collapsed": false,
    "pycharm": {
     "name": "#%%\n"
    }
   }
  },
  {
   "cell_type": "code",
   "execution_count": 94,
   "outputs": [
    {
     "data": {
      "text/plain": "<Figure size 432x288 with 1 Axes>",
      "image/png": "[encoded data removed]"
     },
     "metadata": {
      "needs_background": "light"
     },
     "output_type": "display_data"
    }
   ],
   "source": [
    "from sklearn.neighbors import KNeighborsClassifier\n",
    "KNN=KNeighborsClassifier(n_neighbors=5)\n",
    "scores=np.zeros(X_train_standar.shape[1]+1)\n",
    "for f in np.arange(0, X_train_standar.shape[1]+1):\n",
    "    X1_f = X_train_standar[:,sorted_idx[:f+1]]\n",
    "    X2_f = X_test_standar[:,sorted_idx[:f+1]]\n",
    "    KNN.fit(X1_f,y_train)\n",
    "    YKNN=KNN.predict(X2_f)\n",
    "    scores[f]=np.round(metrics.accuracy_score(y_test,YKNN),3)\n",
    "plt.plot(scores)\n",
    "plt.xlabel(\"Nombre de Variables\")\n",
    "plt.ylabel(\"Accuracy\")\n",
    "plt.title(\"Evolution de l'accuracy en fonction des variables\")\n",
    "plt.show()"
   ],
   "metadata": {
    "collapsed": false,
    "pycharm": {
     "name": "#%%\n"
    }
   }
  },
  {
   "cell_type": "markdown",
   "source": [
    "Suite au graph précedent on peut conclure que la nombre optimale de variable est de 7 car l'ajout de variable entraien ou une perte d'accuracy de l'odre de 0.01 ou aucune amélioration"
   ],
   "metadata": {
    "collapsed": false
   }
  },
  {
   "cell_type": "markdown",
   "source": [
    "retest with only the 7 best features"
   ],
   "metadata": {
    "collapsed": false
   }
  },
  {
   "cell_type": "code",
   "execution_count": 95,
   "outputs": [],
   "source": [
    "X_train_best = X_train_standar[:,sorted_idx[:7]]\n",
    "X_test_best = X_test_standar[:,sorted_idx[:7]]"
   ],
   "metadata": {
    "collapsed": false,
    "pycharm": {
     "name": "#%%\n"
    }
   }
  },
  {
   "cell_type": "markdown",
   "source": [
    "# GridSearch"
   ],
   "metadata": {
    "collapsed": false
   }
  },
  {
   "cell_type": "markdown",
   "source": [
    "### Decision tree grid search"
   ],
   "metadata": {
    "collapsed": false
   }
  },
  {
   "cell_type": "code",
   "execution_count": 21,
   "outputs": [
    {
     "data": {
      "text/plain": "{'max_depth': 4, 'min_samples_leaf': 1}"
     },
     "execution_count": 21,
     "metadata": {},
     "output_type": "execute_result"
    }
   ],
   "source": [
    "from sklearn.model_selection import GridSearchCV\n",
    "parameters = {\n",
    "    'max_depth':[2,3,4,5,6,7],\n",
    "    'min_samples_leaf' : [1,2,3]\n",
    "}\n",
    "\n",
    "clf = tree.DecisionTreeClassifier(random_state=1)\n",
    "'''\n",
    "clf = clf.fit(X_train_pca, y_train)\n",
    "y_pred = clf.predict(X_test_pca)\n",
    "print(metrics.classification_report(y_test, y_pred))\n",
    "'''\n",
    "clf = GridSearchCV(clf, parameters, scoring='accuracy',cv=10, verbose=False)\n",
    "clf.fit(X_train_pca, y_train)\n",
    "scoring = clf.cv_results_\n",
    "clf.best_params_"
   ],
   "metadata": {
    "collapsed": false,
    "pycharm": {
     "name": "#%%\n"
    }
   }
  },
  {
   "cell_type": "markdown",
   "source": [
    "### grid search KN neighbours"
   ],
   "metadata": {
    "collapsed": false
   }
  },
  {
   "cell_type": "code",
   "execution_count": 22,
   "outputs": [
    {
     "data": {
      "text/plain": "{'algorithm': 'ball_tree', 'leaf_size': 1, 'n_neighbors': 9, 'p': 2}"
     },
     "execution_count": 22,
     "metadata": {},
     "output_type": "execute_result"
    }
   ],
   "source": [
    "parameters = {\n",
    "    'n_neighbors':[2,3,4,5,6,7,8,9,10],\n",
    "    'leaf_size' : [1,2,3,4,5,10,30,40],\n",
    "    'p':[1,2],\n",
    "    'algorithm':['ball_tree', 'kd_tree', 'brute']\n",
    "}\n",
    "neigh = KNeighborsClassifier()\n",
    "'''\n",
    "clf = clf.fit(X_train_pca, y_train)\n",
    "y_pred = clf.predict(X_test_pca)\n",
    "print(metrics.classification_report(y_test, y_pred))\n",
    "'''\n",
    "clf = GridSearchCV(neigh, parameters, scoring='accuracy',cv=10, verbose=False)\n",
    "clf.fit(X_train_pca, y_train)\n",
    "scoring = clf.cv_results_\n",
    "clf.best_params_"
   ],
   "metadata": {
    "collapsed": false,
    "pycharm": {
     "name": "#%%\n"
    }
   }
  },
  {
   "cell_type": "markdown",
   "source": [
    "### GridSearch multi layer perceptron"
   ],
   "metadata": {
    "collapsed": false
   }
  },
  {
   "cell_type": "code",
   "execution_count": 23,
   "outputs": [
    {
     "data": {
      "text/plain": "{'activation': 'identity', 'alpha': 0.001, 'hidden_layer_sizes': (60, 40)}"
     },
     "execution_count": 23,
     "metadata": {},
     "output_type": "execute_result"
    }
   ],
   "source": [
    "\n",
    "parameters = {\n",
    "    'activation' : [\"identity\",\"logistic\",\"tanh\",\"relu\"],\n",
    "    'hidden_layer_sizes':[(80,40),(50,15),(60,40),(60,30)],\n",
    "    'alpha':[0.001,0.00005,0.0001,0.0005]\n",
    "}\n",
    "\n",
    "mlp = MLPClassifier(random_state = 1,solver = 'adam',learning_rate = \"adaptive\")\n",
    "'''\n",
    "mlp.fit(X_train_pca, y_train)\n",
    "y_pred = mlp.predict(X_test_pca)\n",
    "'''\n",
    "clf = GridSearchCV(mlp, parameters, scoring='accuracy',cv=10, verbose=False)\n",
    "clf.fit(X_train_pca, y_train)\n",
    "scoring = clf.cv_results_\n",
    "clf.best_params_"
   ],
   "metadata": {
    "collapsed": false,
    "pycharm": {
     "name": "#%%\n"
    }
   }
  },
  {
   "cell_type": "markdown",
   "source": [
    "# Pipeline"
   ],
   "metadata": {
    "collapsed": false
   }
  },
  {
   "cell_type": "code",
   "execution_count": 96,
   "outputs": [],
   "source": [
    "from sklearn.pipeline import Pipeline\n",
    "from sklearn.preprocessing import FunctionTransformer\n",
    "import pickle\n",
    "\n",
    "pipe = Pipeline([\n",
    "    ('scaler',StandardScaler),\n",
    "    ('pca', PCA(n_components = 3)),\n",
    "    ('tree', tree.DecisionTreeClassifier(random_state=1, max_depth= 4, min_samples_leaf= 1))\n",
    "])\n",
    "\n",
    "with open('pipeline.pickle', 'wb') as handle:\n",
    "    pickle.dump(pipe, handle, protocol=pickle.HIGHEST_PROTOCOL)\n",
    "\n",
    "# or if we can use joblib\n",
    "#import joblib\n",
    "#from sklearn.externals import joblib\n",
    "#joblib.dump(pipeline, 'pipeline.pkl')"
   ],
   "metadata": {
    "collapsed": false,
    "pycharm": {
     "name": "#%%\n"
    }
   }
  },
  {
   "cell_type": "markdown",
   "source": [
    "# Comparaison d'algorithmes"
   ],
   "metadata": {
    "collapsed": false,
    "pycharm": {
     "name": "#%% md\n"
    }
   }
  },
  {
   "cell_type": "code",
   "execution_count": 97,
   "outputs": [
    {
     "name": "stdout",
     "output_type": "stream",
     "text": [
      "Accuracy for TREE is: 0.805 +/- 0.033 roc is: 0.757 +/- 0.038\n",
      "Accuracy for KNN is: 0.796 +/- 0.032 roc is: 0.766 +/- 0.018\n",
      "Accuracy for Bayes is: 0.820 +/- 0.032 roc is: 0.773 +/- 0.033\n",
      "Accuracy for CART is: 0.804 +/- 0.030 roc is: 0.646 +/- 0.028\n",
      "Accuracy for ID30 is: 0.790 +/- 0.036 roc is: 0.627 +/- 0.032\n",
      "Accuracy for MLP is: 0.834 +/- 0.029 roc is: 0.834 +/- 0.019\n",
      "Accuracy for neihgbors is: 0.797 +/- 0.032 roc is: 0.741 +/- 0.019\n",
      "Accuracy for bagging is: 0.808 +/- 0.030 roc is: 0.792 +/- 0.024\n",
      "Accuracy for ADA is: 0.815 +/- 0.029 roc is: 0.818 +/- 0.029\n",
      "Accuracy for RNDForest is: 0.778 +/- 0.034 roc is: 0.818 +/- 0.022\n"
     ]
    }
   ],
   "source": [
    "from sklearn.model_selection import KFold\n",
    "from sklearn.model_selection import cross_val_score\n",
    "from sklearn.naive_bayes import GaussianNB\n",
    "from sklearn.ensemble import BaggingClassifier\n",
    "from sklearn.ensemble import AdaBoostClassifier\n",
    "from sklearn.ensemble import RandomForestClassifier\n",
    "\n",
    "clfs = {\n",
    "    'TREE': tree.DecisionTreeClassifier(max_depth= 4, min_samples_leaf= 1, random_state=1),\n",
    "    'KNN': KNeighborsClassifier(algorithm= 'ball_tree', leaf_size= 1, n_neighbors= 9, p= 2),\n",
    "    'Bayes': GaussianNB(),\n",
    "    'CART': tree.DecisionTreeClassifier(random_state=1),\n",
    "    'ID30': tree.DecisionTreeClassifier(random_state=1,criterion = \"entropy\"),\n",
    "    'MLP': MLPClassifier(random_state = 1,solver = 'adam',learning_rate = \"adaptive\"),\n",
    "    'neihgbors':KNeighborsClassifier(),\n",
    "    'bagging':BaggingClassifier(n_estimators=50, random_state=1),\n",
    "    'ADA': AdaBoostClassifier(n_estimators=50, random_state=0),\n",
    "    'RNDForest':RandomForestClassifier(n_estimators=50, max_depth=5, random_state=1)\n",
    "}\n",
    "def run_classifiers(_clfs, _X, _y):\n",
    "    kf = KFold(n_splits=10, shuffle=True, random_state=0)\n",
    "    for i in _clfs:\n",
    "        clf = _clfs[i]\n",
    "        cv_acc = cross_val_score(clf, _X, _y, cv=kf, scoring= \"precision\")\n",
    "        auc = cross_val_score(clf, _X, _y, cv=kf, scoring= 'roc_auc')\n",
    "        print(\"Accuracy for {0} is: {1:.3f} +/- {2:.3f} roc is: {3:.3f} +/- {4:.3f}\".format(i, np.mean(cv_acc), np.std(cv_acc), np.mean(auc), np.std(auc)))\n",
    "\n",
    "run_classifiers(clfs,X_train_pca,y_train)"
   ],
   "metadata": {
    "collapsed": false,
    "pycharm": {
     "name": "#%%\n"
    }
   }
  },
  {
   "cell_type": "markdown",
   "source": [
    "sur l'enssemble des algothimes testés on peux remarqué que ceux ci performe en générale de manière tout a fait convenable ceux ci étant tous autour de 80% de précision. On peux tout de meme remarqué que parmis tous celui ayant obtenu la meilleur précision est le Neural Network qui obtient la meilleur précision et roc score. Le second meilleur est Bayes qui arrive a etre meilleur que les 2 autres algothimes que nous avons tuner. Il pourai donc etre interessant de changer les hypermaramètre de celui pour voir qu'elle résultats peuvent etre obtenue"
   ],
   "metadata": {
    "collapsed": false
   }
  },
  {
   "cell_type": "markdown",
   "source": [
    "# Données hétérogènes"
   ],
   "metadata": {
    "collapsed": false
   }
  },
  {
   "cell_type": "code",
   "execution_count": 226,
   "outputs": [
    {
     "name": "stdout",
     "output_type": "stream",
     "text": [
      "    0      1       2  3  4   5   6     7  8  9   10 11 12   13   14 15\n",
      "0    b  30.83   0.000  u  g   w   v  1.25  t  t   1  f  g  202    0  +\n",
      "1    a  58.67   4.460  u  g   q   h  3.04  t  t   6  f  g   43  560  +\n",
      "2    a  24.50   0.500  u  g   q   h  1.50  t  f   0  f  g  280  824  +\n",
      "3    b  27.83   1.540  u  g   w   v  3.75  t  t   5  t  g  100    3  +\n",
      "4    b  20.17   5.625  u  g   w   v  1.71  t  f   0  f  s  120    0  +\n",
      "..  ..    ...     ... .. ..  ..  ..   ... .. ..  .. .. ..  ...  ... ..\n",
      "683  b  21.08  10.085  y  p   e   h  1.25  f  f   0  f  g  260    0  -\n",
      "684  a  22.67   0.750  u  g   c   v  2.00  f  t   2  t  g  200  394  -\n",
      "685  a  25.25  13.500  y  p  ff  ff  2.00  f  t   1  t  g  200    1  -\n",
      "686  b  17.92   0.205  u  g  aa   v  0.04  f  f   0  f  g  280  750  -\n",
      "687  b  35.00   3.375  u  g   c   h  8.29  f  f   0  t  g    0    0  -\n",
      "\n",
      "[688 rows x 16 columns]\n"
     ]
    }
   ],
   "source": [
    "credit_data = pd.read_csv(\"credit.data\", sep = '\\t', header = None)\n",
    "print(credit_data)"
   ],
   "metadata": {
    "collapsed": false,
    "pycharm": {
     "name": "#%%\n"
    }
   }
  },
  {
   "cell_type": "code",
   "execution_count": 227,
   "outputs": [
    {
     "name": "stdout",
     "output_type": "stream",
     "text": [
      "(688, 16)\n"
     ]
    }
   ],
   "source": [
    "data_ar = credit_data.to_numpy()\n",
    "print(np.shape(data_ar))"
   ],
   "metadata": {
    "collapsed": false,
    "pycharm": {
     "name": "#%%\n"
    }
   }
  },
  {
   "cell_type": "code",
   "execution_count": 263,
   "outputs": [],
   "source": [
    "credit_data.replace('+', 1, inplace=True)\n",
    "credit_data.replace('-', 0, inplace=True)\n",
    "credit_data[1].replace('?', np.nan, inplace=True)\n",
    "credit_data[1] = credit_data[1].astype(float) #désolé on avait plus le temps\n",
    "credit_data[13].replace('?', np.nan, inplace=True)\n",
    "credit_data[13] = credit_data[1].astype(float)"
   ],
   "metadata": {
    "collapsed": false,
    "pycharm": {
     "name": "#%%\n"
    }
   }
  },
  {
   "cell_type": "code",
   "execution_count": 264,
   "outputs": [
    {
     "name": "stdout",
     "output_type": "stream",
     "text": [
      "il y a en tout 305 cas positif\n",
      "il y a en tout 383 cas negatif\n"
     ]
    }
   ],
   "source": [
    "number = credit_data.select_dtypes(include='number')\n",
    "number = number.iloc[: , :-1]\n",
    "number = number.astype(float)\n",
    "number.dropna(axis = 0, inplace=True)\n",
    "number.replace('?',np.nan, inplace=True)\n",
    "number.dropna(inplace=True)\n",
    "\n",
    "print(\"il y a en tout\",credit_data[credit_data.iloc[:,-1] == 1].shape[0],\"cas positif\")\n",
    "print(\"il y a en tout\",credit_data[credit_data.iloc[:,-1] == 0].shape[0],\"cas negatif\")"
   ],
   "metadata": {
    "collapsed": false,
    "pycharm": {
     "name": "#%%\n"
    }
   }
  },
  {
   "cell_type": "code",
   "execution_count": 265,
   "outputs": [],
   "source": [
    "X = credit_data.iloc[:,:15]\n",
    "y = credit_data.iloc[:,15]"
   ],
   "metadata": {
    "collapsed": false,
    "pycharm": {
     "name": "#%%\n"
    }
   }
  },
  {
   "cell_type": "code",
   "execution_count": 249,
   "outputs": [
    {
     "name": "stdout",
     "output_type": "stream",
     "text": [
      "Accuracy for TREE is: 0.797 +/- 0.095 roc is: 0.812 +/- 0.046\n",
      "Accuracy for KNN is: 0.732 +/- 0.075 roc is: 0.759 +/- 0.058\n",
      "Accuracy for Bayes is: 0.835 +/- 0.088 roc is: 0.804 +/- 0.062\n",
      "Accuracy for CART is: 0.643 +/- 0.080 roc is: 0.681 +/- 0.057\n",
      "Accuracy for ID30 is: 0.676 +/- 0.073 roc is: 0.703 +/- 0.052\n",
      "Accuracy for MLP is: 0.712 +/- 0.115 roc is: 0.776 +/- 0.068\n",
      "Accuracy for neihgbors is: 0.723 +/- 0.100 roc is: 0.736 +/- 0.044\n",
      "Accuracy for bagging is: 0.756 +/- 0.057 roc is: 0.810 +/- 0.039\n",
      "Accuracy for ADA is: 0.796 +/- 0.057 roc is: 0.842 +/- 0.048\n",
      "Accuracy for RNDForest is: 0.819 +/- 0.067 roc is: 0.851 +/- 0.039\n"
     ]
    }
   ],
   "source": [
    "run_classifiers(clfs,number.to_numpy(),y)"
   ],
   "metadata": {
    "collapsed": false,
    "pycharm": {
     "name": "#%%\n"
    }
   }
  },
  {
   "cell_type": "markdown",
   "source": [
    "On remarque qu'une partie de nos algorthimes on eu une perte de précision engendré par le fait de prédire seulement sur les valeurs numérique."
   ],
   "metadata": {
    "collapsed": false
   }
  },
  {
   "cell_type": "code",
   "execution_count": 250,
   "outputs": [],
   "source": [
    "sc_X = StandardScaler()\n",
    "X_standar = sc_X.fit_transform(number)\n",
    "\n",
    "scaler = MinMaxScaler()\n",
    "X_minmax = scaler.fit_transform(number)"
   ],
   "metadata": {
    "collapsed": false,
    "pycharm": {
     "name": "#%%\n"
    }
   }
  },
  {
   "cell_type": "code",
   "execution_count": 251,
   "outputs": [
    {
     "name": "stdout",
     "output_type": "stream",
     "text": [
      "Accuracy for TREE is: 0.797 +/- 0.095 roc is: 0.812 +/- 0.046\n",
      "Accuracy for KNN is: 0.768 +/- 0.083 roc is: 0.795 +/- 0.061\n",
      "Accuracy for Bayes is: 0.835 +/- 0.088 roc is: 0.804 +/- 0.062\n",
      "Accuracy for CART is: 0.645 +/- 0.081 roc is: 0.682 +/- 0.057\n",
      "Accuracy for ID30 is: 0.675 +/- 0.075 roc is: 0.703 +/- 0.052\n",
      "Accuracy for MLP is: 0.816 +/- 0.084 roc is: 0.831 +/- 0.058\n",
      "Accuracy for neihgbors is: 0.755 +/- 0.089 roc is: 0.765 +/- 0.065\n"
     ]
    },
    {
     "ename": "KeyboardInterrupt",
     "evalue": "",
     "output_type": "error",
     "traceback": [
      "\u001B[1;31m---------------------------------------------------------------------------\u001B[0m",
      "\u001B[1;31mKeyboardInterrupt\u001B[0m                         Traceback (most recent call last)",
      "\u001B[1;32m<ipython-input-251-84aa1ce3b7c9>\u001B[0m in \u001B[0;36m<module>\u001B[1;34m\u001B[0m\n\u001B[1;32m----> 1\u001B[1;33m \u001B[0mrun_classifiers\u001B[0m\u001B[1;33m(\u001B[0m\u001B[0mclfs\u001B[0m\u001B[1;33m,\u001B[0m\u001B[0mX_standar\u001B[0m\u001B[1;33m,\u001B[0m\u001B[0my\u001B[0m\u001B[1;33m)\u001B[0m\u001B[1;33m\u001B[0m\u001B[1;33m\u001B[0m\u001B[0m\n\u001B[0m",
      "\u001B[1;32m<ipython-input-97-f493355d547f>\u001B[0m in \u001B[0;36mrun_classifiers\u001B[1;34m(_clfs, _X, _y)\u001B[0m\n\u001B[0;32m     23\u001B[0m         \u001B[0mclf\u001B[0m \u001B[1;33m=\u001B[0m \u001B[0m_clfs\u001B[0m\u001B[1;33m[\u001B[0m\u001B[0mi\u001B[0m\u001B[1;33m]\u001B[0m\u001B[1;33m\u001B[0m\u001B[1;33m\u001B[0m\u001B[0m\n\u001B[0;32m     24\u001B[0m         \u001B[0mcv_acc\u001B[0m \u001B[1;33m=\u001B[0m \u001B[0mcross_val_score\u001B[0m\u001B[1;33m(\u001B[0m\u001B[0mclf\u001B[0m\u001B[1;33m,\u001B[0m \u001B[0m_X\u001B[0m\u001B[1;33m,\u001B[0m \u001B[0m_y\u001B[0m\u001B[1;33m,\u001B[0m \u001B[0mcv\u001B[0m\u001B[1;33m=\u001B[0m\u001B[0mkf\u001B[0m\u001B[1;33m,\u001B[0m \u001B[0mscoring\u001B[0m\u001B[1;33m=\u001B[0m \u001B[1;34m\"precision\"\u001B[0m\u001B[1;33m)\u001B[0m\u001B[1;33m\u001B[0m\u001B[1;33m\u001B[0m\u001B[0m\n\u001B[1;32m---> 25\u001B[1;33m         \u001B[0mauc\u001B[0m \u001B[1;33m=\u001B[0m \u001B[0mcross_val_score\u001B[0m\u001B[1;33m(\u001B[0m\u001B[0mclf\u001B[0m\u001B[1;33m,\u001B[0m \u001B[0m_X\u001B[0m\u001B[1;33m,\u001B[0m \u001B[0m_y\u001B[0m\u001B[1;33m,\u001B[0m \u001B[0mcv\u001B[0m\u001B[1;33m=\u001B[0m\u001B[0mkf\u001B[0m\u001B[1;33m,\u001B[0m \u001B[0mscoring\u001B[0m\u001B[1;33m=\u001B[0m \u001B[1;34m'roc_auc'\u001B[0m\u001B[1;33m)\u001B[0m\u001B[1;33m\u001B[0m\u001B[1;33m\u001B[0m\u001B[0m\n\u001B[0m\u001B[0;32m     26\u001B[0m         \u001B[0mprint\u001B[0m\u001B[1;33m(\u001B[0m\u001B[1;34m\"Accuracy for {0} is: {1:.3f} +/- {2:.3f} roc is: {3:.3f} +/- {4:.3f}\"\u001B[0m\u001B[1;33m.\u001B[0m\u001B[0mformat\u001B[0m\u001B[1;33m(\u001B[0m\u001B[0mi\u001B[0m\u001B[1;33m,\u001B[0m \u001B[0mnp\u001B[0m\u001B[1;33m.\u001B[0m\u001B[0mmean\u001B[0m\u001B[1;33m(\u001B[0m\u001B[0mcv_acc\u001B[0m\u001B[1;33m)\u001B[0m\u001B[1;33m,\u001B[0m \u001B[0mnp\u001B[0m\u001B[1;33m.\u001B[0m\u001B[0mstd\u001B[0m\u001B[1;33m(\u001B[0m\u001B[0mcv_acc\u001B[0m\u001B[1;33m)\u001B[0m\u001B[1;33m,\u001B[0m \u001B[0mnp\u001B[0m\u001B[1;33m.\u001B[0m\u001B[0mmean\u001B[0m\u001B[1;33m(\u001B[0m\u001B[0mauc\u001B[0m\u001B[1;33m)\u001B[0m\u001B[1;33m,\u001B[0m \u001B[0mnp\u001B[0m\u001B[1;33m.\u001B[0m\u001B[0mstd\u001B[0m\u001B[1;33m(\u001B[0m\u001B[0mauc\u001B[0m\u001B[1;33m)\u001B[0m\u001B[1;33m)\u001B[0m\u001B[1;33m)\u001B[0m\u001B[1;33m\u001B[0m\u001B[1;33m\u001B[0m\u001B[0m\n\u001B[0;32m     27\u001B[0m \u001B[1;33m\u001B[0m\u001B[0m\n",
      "\u001B[1;32m~\\anaconda3\\lib\\site-packages\\sklearn\\utils\\validation.py\u001B[0m in \u001B[0;36minner_f\u001B[1;34m(*args, **kwargs)\u001B[0m\n\u001B[0;32m     61\u001B[0m             \u001B[0mextra_args\u001B[0m \u001B[1;33m=\u001B[0m \u001B[0mlen\u001B[0m\u001B[1;33m(\u001B[0m\u001B[0margs\u001B[0m\u001B[1;33m)\u001B[0m \u001B[1;33m-\u001B[0m \u001B[0mlen\u001B[0m\u001B[1;33m(\u001B[0m\u001B[0mall_args\u001B[0m\u001B[1;33m)\u001B[0m\u001B[1;33m\u001B[0m\u001B[1;33m\u001B[0m\u001B[0m\n\u001B[0;32m     62\u001B[0m             \u001B[1;32mif\u001B[0m \u001B[0mextra_args\u001B[0m \u001B[1;33m<=\u001B[0m \u001B[1;36m0\u001B[0m\u001B[1;33m:\u001B[0m\u001B[1;33m\u001B[0m\u001B[1;33m\u001B[0m\u001B[0m\n\u001B[1;32m---> 63\u001B[1;33m                 \u001B[1;32mreturn\u001B[0m \u001B[0mf\u001B[0m\u001B[1;33m(\u001B[0m\u001B[1;33m*\u001B[0m\u001B[0margs\u001B[0m\u001B[1;33m,\u001B[0m \u001B[1;33m**\u001B[0m\u001B[0mkwargs\u001B[0m\u001B[1;33m)\u001B[0m\u001B[1;33m\u001B[0m\u001B[1;33m\u001B[0m\u001B[0m\n\u001B[0m\u001B[0;32m     64\u001B[0m \u001B[1;33m\u001B[0m\u001B[0m\n\u001B[0;32m     65\u001B[0m             \u001B[1;31m# extra_args > 0\u001B[0m\u001B[1;33m\u001B[0m\u001B[1;33m\u001B[0m\u001B[1;33m\u001B[0m\u001B[0m\n",
      "\u001B[1;32m~\\anaconda3\\lib\\site-packages\\sklearn\\model_selection\\_validation.py\u001B[0m in \u001B[0;36mcross_val_score\u001B[1;34m(estimator, X, y, groups, scoring, cv, n_jobs, verbose, fit_params, pre_dispatch, error_score)\u001B[0m\n\u001B[0;32m    438\u001B[0m     \u001B[0msklearn\u001B[0m\u001B[1;33m.\u001B[0m\u001B[0mmetrics\u001B[0m\u001B[1;33m.\u001B[0m\u001B[0mmake_scorer\u001B[0m \u001B[1;33m:\u001B[0m \u001B[0mMake\u001B[0m \u001B[0ma\u001B[0m \u001B[0mscorer\u001B[0m \u001B[1;32mfrom\u001B[0m \u001B[0ma\u001B[0m \u001B[0mperformance\u001B[0m \u001B[0mmetric\u001B[0m \u001B[1;32mor\u001B[0m\u001B[1;33m\u001B[0m\u001B[1;33m\u001B[0m\u001B[0m\n\u001B[0;32m    439\u001B[0m         \u001B[0mloss\u001B[0m \u001B[0mfunction\u001B[0m\u001B[1;33m.\u001B[0m\u001B[1;33m\u001B[0m\u001B[1;33m\u001B[0m\u001B[0m\n\u001B[1;32m--> 440\u001B[1;33m \u001B[1;33m\u001B[0m\u001B[0m\n\u001B[0m\u001B[0;32m    441\u001B[0m     \"\"\"\n\u001B[0;32m    442\u001B[0m     \u001B[1;31m# To ensure multimetric format is not supported\u001B[0m\u001B[1;33m\u001B[0m\u001B[1;33m\u001B[0m\u001B[1;33m\u001B[0m\u001B[0m\n",
      "\u001B[1;32m~\\anaconda3\\lib\\site-packages\\sklearn\\utils\\validation.py\u001B[0m in \u001B[0;36minner_f\u001B[1;34m(*args, **kwargs)\u001B[0m\n\u001B[0;32m     61\u001B[0m             \u001B[0mextra_args\u001B[0m \u001B[1;33m=\u001B[0m \u001B[0mlen\u001B[0m\u001B[1;33m(\u001B[0m\u001B[0margs\u001B[0m\u001B[1;33m)\u001B[0m \u001B[1;33m-\u001B[0m \u001B[0mlen\u001B[0m\u001B[1;33m(\u001B[0m\u001B[0mall_args\u001B[0m\u001B[1;33m)\u001B[0m\u001B[1;33m\u001B[0m\u001B[1;33m\u001B[0m\u001B[0m\n\u001B[0;32m     62\u001B[0m             \u001B[1;32mif\u001B[0m \u001B[0mextra_args\u001B[0m \u001B[1;33m<=\u001B[0m \u001B[1;36m0\u001B[0m\u001B[1;33m:\u001B[0m\u001B[1;33m\u001B[0m\u001B[1;33m\u001B[0m\u001B[0m\n\u001B[1;32m---> 63\u001B[1;33m                 \u001B[1;32mreturn\u001B[0m \u001B[0mf\u001B[0m\u001B[1;33m(\u001B[0m\u001B[1;33m*\u001B[0m\u001B[0margs\u001B[0m\u001B[1;33m,\u001B[0m \u001B[1;33m**\u001B[0m\u001B[0mkwargs\u001B[0m\u001B[1;33m)\u001B[0m\u001B[1;33m\u001B[0m\u001B[1;33m\u001B[0m\u001B[0m\n\u001B[0m\u001B[0;32m     64\u001B[0m \u001B[1;33m\u001B[0m\u001B[0m\n\u001B[0;32m     65\u001B[0m             \u001B[1;31m# extra_args > 0\u001B[0m\u001B[1;33m\u001B[0m\u001B[1;33m\u001B[0m\u001B[1;33m\u001B[0m\u001B[0m\n",
      "\u001B[1;32m~\\anaconda3\\lib\\site-packages\\sklearn\\model_selection\\_validation.py\u001B[0m in \u001B[0;36mcross_validate\u001B[1;34m(estimator, X, y, groups, scoring, cv, n_jobs, verbose, fit_params, pre_dispatch, return_train_score, return_estimator, error_score)\u001B[0m\n\u001B[0;32m    244\u001B[0m         \u001B[0mscorers\u001B[0m \u001B[1;33m=\u001B[0m \u001B[0m_check_multimetric_scoring\u001B[0m\u001B[1;33m(\u001B[0m\u001B[0mestimator\u001B[0m\u001B[1;33m,\u001B[0m \u001B[0mscoring\u001B[0m\u001B[1;33m)\u001B[0m\u001B[1;33m\u001B[0m\u001B[1;33m\u001B[0m\u001B[0m\n\u001B[0;32m    245\u001B[0m \u001B[1;33m\u001B[0m\u001B[0m\n\u001B[1;32m--> 246\u001B[1;33m     \u001B[1;31m# We clone the estimator to make sure that all the folds are\u001B[0m\u001B[1;33m\u001B[0m\u001B[1;33m\u001B[0m\u001B[1;33m\u001B[0m\u001B[0m\n\u001B[0m\u001B[0;32m    247\u001B[0m     \u001B[1;31m# independent, and that it is pickle-able.\u001B[0m\u001B[1;33m\u001B[0m\u001B[1;33m\u001B[0m\u001B[1;33m\u001B[0m\u001B[0m\n\u001B[0;32m    248\u001B[0m     parallel = Parallel(n_jobs=n_jobs, verbose=verbose,\n",
      "\u001B[1;32m~\\anaconda3\\lib\\site-packages\\joblib\\parallel.py\u001B[0m in \u001B[0;36m__call__\u001B[1;34m(self, iterable)\u001B[0m\n\u001B[0;32m   1042\u001B[0m                 \u001B[0mself\u001B[0m\u001B[1;33m.\u001B[0m\u001B[0m_iterating\u001B[0m \u001B[1;33m=\u001B[0m \u001B[0mself\u001B[0m\u001B[1;33m.\u001B[0m\u001B[0m_original_iterator\u001B[0m \u001B[1;32mis\u001B[0m \u001B[1;32mnot\u001B[0m \u001B[1;32mNone\u001B[0m\u001B[1;33m\u001B[0m\u001B[1;33m\u001B[0m\u001B[0m\n\u001B[0;32m   1043\u001B[0m \u001B[1;33m\u001B[0m\u001B[0m\n\u001B[1;32m-> 1044\u001B[1;33m             \u001B[1;32mwhile\u001B[0m \u001B[0mself\u001B[0m\u001B[1;33m.\u001B[0m\u001B[0mdispatch_one_batch\u001B[0m\u001B[1;33m(\u001B[0m\u001B[0miterator\u001B[0m\u001B[1;33m)\u001B[0m\u001B[1;33m:\u001B[0m\u001B[1;33m\u001B[0m\u001B[1;33m\u001B[0m\u001B[0m\n\u001B[0m\u001B[0;32m   1045\u001B[0m                 \u001B[1;32mpass\u001B[0m\u001B[1;33m\u001B[0m\u001B[1;33m\u001B[0m\u001B[0m\n\u001B[0;32m   1046\u001B[0m \u001B[1;33m\u001B[0m\u001B[0m\n",
      "\u001B[1;32m~\\anaconda3\\lib\\site-packages\\joblib\\parallel.py\u001B[0m in \u001B[0;36mdispatch_one_batch\u001B[1;34m(self, iterator)\u001B[0m\n\u001B[0;32m    857\u001B[0m                 \u001B[1;32mreturn\u001B[0m \u001B[1;32mFalse\u001B[0m\u001B[1;33m\u001B[0m\u001B[1;33m\u001B[0m\u001B[0m\n\u001B[0;32m    858\u001B[0m             \u001B[1;32melse\u001B[0m\u001B[1;33m:\u001B[0m\u001B[1;33m\u001B[0m\u001B[1;33m\u001B[0m\u001B[0m\n\u001B[1;32m--> 859\u001B[1;33m                 \u001B[0mself\u001B[0m\u001B[1;33m.\u001B[0m\u001B[0m_dispatch\u001B[0m\u001B[1;33m(\u001B[0m\u001B[0mtasks\u001B[0m\u001B[1;33m)\u001B[0m\u001B[1;33m\u001B[0m\u001B[1;33m\u001B[0m\u001B[0m\n\u001B[0m\u001B[0;32m    860\u001B[0m                 \u001B[1;32mreturn\u001B[0m \u001B[1;32mTrue\u001B[0m\u001B[1;33m\u001B[0m\u001B[1;33m\u001B[0m\u001B[0m\n\u001B[0;32m    861\u001B[0m \u001B[1;33m\u001B[0m\u001B[0m\n",
      "\u001B[1;32m~\\anaconda3\\lib\\site-packages\\joblib\\parallel.py\u001B[0m in \u001B[0;36m_dispatch\u001B[1;34m(self, batch)\u001B[0m\n\u001B[0;32m    775\u001B[0m         \u001B[1;32mwith\u001B[0m \u001B[0mself\u001B[0m\u001B[1;33m.\u001B[0m\u001B[0m_lock\u001B[0m\u001B[1;33m:\u001B[0m\u001B[1;33m\u001B[0m\u001B[1;33m\u001B[0m\u001B[0m\n\u001B[0;32m    776\u001B[0m             \u001B[0mjob_idx\u001B[0m \u001B[1;33m=\u001B[0m \u001B[0mlen\u001B[0m\u001B[1;33m(\u001B[0m\u001B[0mself\u001B[0m\u001B[1;33m.\u001B[0m\u001B[0m_jobs\u001B[0m\u001B[1;33m)\u001B[0m\u001B[1;33m\u001B[0m\u001B[1;33m\u001B[0m\u001B[0m\n\u001B[1;32m--> 777\u001B[1;33m             \u001B[0mjob\u001B[0m \u001B[1;33m=\u001B[0m \u001B[0mself\u001B[0m\u001B[1;33m.\u001B[0m\u001B[0m_backend\u001B[0m\u001B[1;33m.\u001B[0m\u001B[0mapply_async\u001B[0m\u001B[1;33m(\u001B[0m\u001B[0mbatch\u001B[0m\u001B[1;33m,\u001B[0m \u001B[0mcallback\u001B[0m\u001B[1;33m=\u001B[0m\u001B[0mcb\u001B[0m\u001B[1;33m)\u001B[0m\u001B[1;33m\u001B[0m\u001B[1;33m\u001B[0m\u001B[0m\n\u001B[0m\u001B[0;32m    778\u001B[0m             \u001B[1;31m# A job can complete so quickly than its callback is\u001B[0m\u001B[1;33m\u001B[0m\u001B[1;33m\u001B[0m\u001B[1;33m\u001B[0m\u001B[0m\n\u001B[0;32m    779\u001B[0m             \u001B[1;31m# called before we get here, causing self._jobs to\u001B[0m\u001B[1;33m\u001B[0m\u001B[1;33m\u001B[0m\u001B[1;33m\u001B[0m\u001B[0m\n",
      "\u001B[1;32m~\\anaconda3\\lib\\site-packages\\joblib\\_parallel_backends.py\u001B[0m in \u001B[0;36mapply_async\u001B[1;34m(self, func, callback)\u001B[0m\n\u001B[0;32m    206\u001B[0m     \u001B[1;32mdef\u001B[0m \u001B[0mapply_async\u001B[0m\u001B[1;33m(\u001B[0m\u001B[0mself\u001B[0m\u001B[1;33m,\u001B[0m \u001B[0mfunc\u001B[0m\u001B[1;33m,\u001B[0m \u001B[0mcallback\u001B[0m\u001B[1;33m=\u001B[0m\u001B[1;32mNone\u001B[0m\u001B[1;33m)\u001B[0m\u001B[1;33m:\u001B[0m\u001B[1;33m\u001B[0m\u001B[1;33m\u001B[0m\u001B[0m\n\u001B[0;32m    207\u001B[0m         \u001B[1;34m\"\"\"Schedule a func to be run\"\"\"\u001B[0m\u001B[1;33m\u001B[0m\u001B[1;33m\u001B[0m\u001B[0m\n\u001B[1;32m--> 208\u001B[1;33m         \u001B[0mresult\u001B[0m \u001B[1;33m=\u001B[0m \u001B[0mImmediateResult\u001B[0m\u001B[1;33m(\u001B[0m\u001B[0mfunc\u001B[0m\u001B[1;33m)\u001B[0m\u001B[1;33m\u001B[0m\u001B[1;33m\u001B[0m\u001B[0m\n\u001B[0m\u001B[0;32m    209\u001B[0m         \u001B[1;32mif\u001B[0m \u001B[0mcallback\u001B[0m\u001B[1;33m:\u001B[0m\u001B[1;33m\u001B[0m\u001B[1;33m\u001B[0m\u001B[0m\n\u001B[0;32m    210\u001B[0m             \u001B[0mcallback\u001B[0m\u001B[1;33m(\u001B[0m\u001B[0mresult\u001B[0m\u001B[1;33m)\u001B[0m\u001B[1;33m\u001B[0m\u001B[1;33m\u001B[0m\u001B[0m\n",
      "\u001B[1;32m~\\anaconda3\\lib\\site-packages\\joblib\\_parallel_backends.py\u001B[0m in \u001B[0;36m__init__\u001B[1;34m(self, batch)\u001B[0m\n\u001B[0;32m    570\u001B[0m         \u001B[1;31m# Don't delay the application, to avoid keeping the input\u001B[0m\u001B[1;33m\u001B[0m\u001B[1;33m\u001B[0m\u001B[1;33m\u001B[0m\u001B[0m\n\u001B[0;32m    571\u001B[0m         \u001B[1;31m# arguments in memory\u001B[0m\u001B[1;33m\u001B[0m\u001B[1;33m\u001B[0m\u001B[1;33m\u001B[0m\u001B[0m\n\u001B[1;32m--> 572\u001B[1;33m         \u001B[0mself\u001B[0m\u001B[1;33m.\u001B[0m\u001B[0mresults\u001B[0m \u001B[1;33m=\u001B[0m \u001B[0mbatch\u001B[0m\u001B[1;33m(\u001B[0m\u001B[1;33m)\u001B[0m\u001B[1;33m\u001B[0m\u001B[1;33m\u001B[0m\u001B[0m\n\u001B[0m\u001B[0;32m    573\u001B[0m \u001B[1;33m\u001B[0m\u001B[0m\n\u001B[0;32m    574\u001B[0m     \u001B[1;32mdef\u001B[0m \u001B[0mget\u001B[0m\u001B[1;33m(\u001B[0m\u001B[0mself\u001B[0m\u001B[1;33m)\u001B[0m\u001B[1;33m:\u001B[0m\u001B[1;33m\u001B[0m\u001B[1;33m\u001B[0m\u001B[0m\n",
      "\u001B[1;32m~\\anaconda3\\lib\\site-packages\\joblib\\parallel.py\u001B[0m in \u001B[0;36m__call__\u001B[1;34m(self)\u001B[0m\n\u001B[0;32m    260\u001B[0m         \u001B[1;31m# change the default number of processes to -1\u001B[0m\u001B[1;33m\u001B[0m\u001B[1;33m\u001B[0m\u001B[1;33m\u001B[0m\u001B[0m\n\u001B[0;32m    261\u001B[0m         \u001B[1;32mwith\u001B[0m \u001B[0mparallel_backend\u001B[0m\u001B[1;33m(\u001B[0m\u001B[0mself\u001B[0m\u001B[1;33m.\u001B[0m\u001B[0m_backend\u001B[0m\u001B[1;33m,\u001B[0m \u001B[0mn_jobs\u001B[0m\u001B[1;33m=\u001B[0m\u001B[0mself\u001B[0m\u001B[1;33m.\u001B[0m\u001B[0m_n_jobs\u001B[0m\u001B[1;33m)\u001B[0m\u001B[1;33m:\u001B[0m\u001B[1;33m\u001B[0m\u001B[1;33m\u001B[0m\u001B[0m\n\u001B[1;32m--> 262\u001B[1;33m             return [func(*args, **kwargs)\n\u001B[0m\u001B[0;32m    263\u001B[0m                     for func, args, kwargs in self.items]\n\u001B[0;32m    264\u001B[0m \u001B[1;33m\u001B[0m\u001B[0m\n",
      "\u001B[1;32m~\\anaconda3\\lib\\site-packages\\joblib\\parallel.py\u001B[0m in \u001B[0;36m<listcomp>\u001B[1;34m(.0)\u001B[0m\n\u001B[0;32m    260\u001B[0m         \u001B[1;31m# change the default number of processes to -1\u001B[0m\u001B[1;33m\u001B[0m\u001B[1;33m\u001B[0m\u001B[1;33m\u001B[0m\u001B[0m\n\u001B[0;32m    261\u001B[0m         \u001B[1;32mwith\u001B[0m \u001B[0mparallel_backend\u001B[0m\u001B[1;33m(\u001B[0m\u001B[0mself\u001B[0m\u001B[1;33m.\u001B[0m\u001B[0m_backend\u001B[0m\u001B[1;33m,\u001B[0m \u001B[0mn_jobs\u001B[0m\u001B[1;33m=\u001B[0m\u001B[0mself\u001B[0m\u001B[1;33m.\u001B[0m\u001B[0m_n_jobs\u001B[0m\u001B[1;33m)\u001B[0m\u001B[1;33m:\u001B[0m\u001B[1;33m\u001B[0m\u001B[1;33m\u001B[0m\u001B[0m\n\u001B[1;32m--> 262\u001B[1;33m             return [func(*args, **kwargs)\n\u001B[0m\u001B[0;32m    263\u001B[0m                     for func, args, kwargs in self.items]\n\u001B[0;32m    264\u001B[0m \u001B[1;33m\u001B[0m\u001B[0m\n",
      "\u001B[1;32m~\\anaconda3\\lib\\site-packages\\sklearn\\utils\\fixes.py\u001B[0m in \u001B[0;36m__call__\u001B[1;34m(self, *args, **kwargs)\u001B[0m\n\u001B[0;32m    220\u001B[0m     \u001B[1;32mdef\u001B[0m \u001B[0m__call__\u001B[0m\u001B[1;33m(\u001B[0m\u001B[0mself\u001B[0m\u001B[1;33m,\u001B[0m \u001B[1;33m*\u001B[0m\u001B[0margs\u001B[0m\u001B[1;33m,\u001B[0m \u001B[1;33m**\u001B[0m\u001B[0mkwargs\u001B[0m\u001B[1;33m)\u001B[0m\u001B[1;33m:\u001B[0m\u001B[1;33m\u001B[0m\u001B[1;33m\u001B[0m\u001B[0m\n\u001B[0;32m    221\u001B[0m         \u001B[1;32mwith\u001B[0m \u001B[0mconfig_context\u001B[0m\u001B[1;33m(\u001B[0m\u001B[1;33m**\u001B[0m\u001B[0mself\u001B[0m\u001B[1;33m.\u001B[0m\u001B[0mconfig\u001B[0m\u001B[1;33m)\u001B[0m\u001B[1;33m:\u001B[0m\u001B[1;33m\u001B[0m\u001B[1;33m\u001B[0m\u001B[0m\n\u001B[1;32m--> 222\u001B[1;33m             \u001B[1;32mreturn\u001B[0m \u001B[0mself\u001B[0m\u001B[1;33m.\u001B[0m\u001B[0mfunction\u001B[0m\u001B[1;33m(\u001B[0m\u001B[1;33m*\u001B[0m\u001B[0margs\u001B[0m\u001B[1;33m,\u001B[0m \u001B[1;33m**\u001B[0m\u001B[0mkwargs\u001B[0m\u001B[1;33m)\u001B[0m\u001B[1;33m\u001B[0m\u001B[1;33m\u001B[0m\u001B[0m\n\u001B[0m",
      "\u001B[1;32m~\\anaconda3\\lib\\site-packages\\sklearn\\model_selection\\_validation.py\u001B[0m in \u001B[0;36m_fit_and_score\u001B[1;34m(estimator, X, y, scorer, train, test, verbose, parameters, fit_params, return_train_score, return_parameters, return_n_test_samples, return_times, return_estimator, split_progress, candidate_progress, error_score)\u001B[0m\n\u001B[0;32m    591\u001B[0m     \u001B[0mX_test\u001B[0m\u001B[1;33m,\u001B[0m \u001B[0my_test\u001B[0m \u001B[1;33m=\u001B[0m \u001B[0m_safe_split\u001B[0m\u001B[1;33m(\u001B[0m\u001B[0mestimator\u001B[0m\u001B[1;33m,\u001B[0m \u001B[0mX\u001B[0m\u001B[1;33m,\u001B[0m \u001B[0my\u001B[0m\u001B[1;33m,\u001B[0m \u001B[0mtest\u001B[0m\u001B[1;33m,\u001B[0m \u001B[0mtrain\u001B[0m\u001B[1;33m)\u001B[0m\u001B[1;33m\u001B[0m\u001B[1;33m\u001B[0m\u001B[0m\n\u001B[0;32m    592\u001B[0m \u001B[1;33m\u001B[0m\u001B[0m\n\u001B[1;32m--> 593\u001B[1;33m     \u001B[0mresult\u001B[0m \u001B[1;33m=\u001B[0m \u001B[1;33m{\u001B[0m\u001B[1;33m}\u001B[0m\u001B[1;33m\u001B[0m\u001B[1;33m\u001B[0m\u001B[0m\n\u001B[0m\u001B[0;32m    594\u001B[0m     \u001B[1;32mtry\u001B[0m\u001B[1;33m:\u001B[0m\u001B[1;33m\u001B[0m\u001B[1;33m\u001B[0m\u001B[0m\n\u001B[0;32m    595\u001B[0m         \u001B[1;32mif\u001B[0m \u001B[0my_train\u001B[0m \u001B[1;32mis\u001B[0m \u001B[1;32mNone\u001B[0m\u001B[1;33m:\u001B[0m\u001B[1;33m\u001B[0m\u001B[1;33m\u001B[0m\u001B[0m\n",
      "\u001B[1;32m~\\anaconda3\\lib\\site-packages\\sklearn\\ensemble\\_bagging.py\u001B[0m in \u001B[0;36mfit\u001B[1;34m(self, X, y, sample_weight)\u001B[0m\n\u001B[0;32m    242\u001B[0m         \u001B[0mself\u001B[0m \u001B[1;33m:\u001B[0m \u001B[0mobject\u001B[0m\u001B[1;33m\u001B[0m\u001B[1;33m\u001B[0m\u001B[0m\n\u001B[0;32m    243\u001B[0m         \"\"\"\n\u001B[1;32m--> 244\u001B[1;33m         \u001B[1;32mreturn\u001B[0m \u001B[0mself\u001B[0m\u001B[1;33m.\u001B[0m\u001B[0m_fit\u001B[0m\u001B[1;33m(\u001B[0m\u001B[0mX\u001B[0m\u001B[1;33m,\u001B[0m \u001B[0my\u001B[0m\u001B[1;33m,\u001B[0m \u001B[0mself\u001B[0m\u001B[1;33m.\u001B[0m\u001B[0mmax_samples\u001B[0m\u001B[1;33m,\u001B[0m \u001B[0msample_weight\u001B[0m\u001B[1;33m=\u001B[0m\u001B[0msample_weight\u001B[0m\u001B[1;33m)\u001B[0m\u001B[1;33m\u001B[0m\u001B[1;33m\u001B[0m\u001B[0m\n\u001B[0m\u001B[0;32m    245\u001B[0m \u001B[1;33m\u001B[0m\u001B[0m\n\u001B[0;32m    246\u001B[0m     \u001B[1;32mdef\u001B[0m \u001B[0m_parallel_args\u001B[0m\u001B[1;33m(\u001B[0m\u001B[0mself\u001B[0m\u001B[1;33m)\u001B[0m\u001B[1;33m:\u001B[0m\u001B[1;33m\u001B[0m\u001B[1;33m\u001B[0m\u001B[0m\n",
      "\u001B[1;32m~\\anaconda3\\lib\\site-packages\\sklearn\\ensemble\\_bagging.py\u001B[0m in \u001B[0;36m_fit\u001B[1;34m(self, X, y, max_samples, max_depth, sample_weight)\u001B[0m\n\u001B[0;32m    368\u001B[0m         \u001B[0mself\u001B[0m\u001B[1;33m.\u001B[0m\u001B[0m_seeds\u001B[0m \u001B[1;33m=\u001B[0m \u001B[0mseeds\u001B[0m\u001B[1;33m\u001B[0m\u001B[1;33m\u001B[0m\u001B[0m\n\u001B[0;32m    369\u001B[0m \u001B[1;33m\u001B[0m\u001B[0m\n\u001B[1;32m--> 370\u001B[1;33m         all_results = Parallel(n_jobs=n_jobs, verbose=self.verbose,\n\u001B[0m\u001B[0;32m    371\u001B[0m                                \u001B[1;33m**\u001B[0m\u001B[0mself\u001B[0m\u001B[1;33m.\u001B[0m\u001B[0m_parallel_args\u001B[0m\u001B[1;33m(\u001B[0m\u001B[1;33m)\u001B[0m\u001B[1;33m)\u001B[0m\u001B[1;33m(\u001B[0m\u001B[1;33m\u001B[0m\u001B[1;33m\u001B[0m\u001B[0m\n\u001B[0;32m    372\u001B[0m             delayed(_parallel_build_estimators)(\n",
      "\u001B[1;32m~\\anaconda3\\lib\\site-packages\\joblib\\parallel.py\u001B[0m in \u001B[0;36m__call__\u001B[1;34m(self, iterable)\u001B[0m\n\u001B[0;32m   1039\u001B[0m             \u001B[1;31m# remaining jobs.\u001B[0m\u001B[1;33m\u001B[0m\u001B[1;33m\u001B[0m\u001B[1;33m\u001B[0m\u001B[0m\n\u001B[0;32m   1040\u001B[0m             \u001B[0mself\u001B[0m\u001B[1;33m.\u001B[0m\u001B[0m_iterating\u001B[0m \u001B[1;33m=\u001B[0m \u001B[1;32mFalse\u001B[0m\u001B[1;33m\u001B[0m\u001B[1;33m\u001B[0m\u001B[0m\n\u001B[1;32m-> 1041\u001B[1;33m             \u001B[1;32mif\u001B[0m \u001B[0mself\u001B[0m\u001B[1;33m.\u001B[0m\u001B[0mdispatch_one_batch\u001B[0m\u001B[1;33m(\u001B[0m\u001B[0miterator\u001B[0m\u001B[1;33m)\u001B[0m\u001B[1;33m:\u001B[0m\u001B[1;33m\u001B[0m\u001B[1;33m\u001B[0m\u001B[0m\n\u001B[0m\u001B[0;32m   1042\u001B[0m                 \u001B[0mself\u001B[0m\u001B[1;33m.\u001B[0m\u001B[0m_iterating\u001B[0m \u001B[1;33m=\u001B[0m \u001B[0mself\u001B[0m\u001B[1;33m.\u001B[0m\u001B[0m_original_iterator\u001B[0m \u001B[1;32mis\u001B[0m \u001B[1;32mnot\u001B[0m \u001B[1;32mNone\u001B[0m\u001B[1;33m\u001B[0m\u001B[1;33m\u001B[0m\u001B[0m\n\u001B[0;32m   1043\u001B[0m \u001B[1;33m\u001B[0m\u001B[0m\n",
      "\u001B[1;32m~\\anaconda3\\lib\\site-packages\\joblib\\parallel.py\u001B[0m in \u001B[0;36mdispatch_one_batch\u001B[1;34m(self, iterator)\u001B[0m\n\u001B[0;32m    857\u001B[0m                 \u001B[1;32mreturn\u001B[0m \u001B[1;32mFalse\u001B[0m\u001B[1;33m\u001B[0m\u001B[1;33m\u001B[0m\u001B[0m\n\u001B[0;32m    858\u001B[0m             \u001B[1;32melse\u001B[0m\u001B[1;33m:\u001B[0m\u001B[1;33m\u001B[0m\u001B[1;33m\u001B[0m\u001B[0m\n\u001B[1;32m--> 859\u001B[1;33m                 \u001B[0mself\u001B[0m\u001B[1;33m.\u001B[0m\u001B[0m_dispatch\u001B[0m\u001B[1;33m(\u001B[0m\u001B[0mtasks\u001B[0m\u001B[1;33m)\u001B[0m\u001B[1;33m\u001B[0m\u001B[1;33m\u001B[0m\u001B[0m\n\u001B[0m\u001B[0;32m    860\u001B[0m                 \u001B[1;32mreturn\u001B[0m \u001B[1;32mTrue\u001B[0m\u001B[1;33m\u001B[0m\u001B[1;33m\u001B[0m\u001B[0m\n\u001B[0;32m    861\u001B[0m \u001B[1;33m\u001B[0m\u001B[0m\n",
      "\u001B[1;32m~\\anaconda3\\lib\\site-packages\\joblib\\parallel.py\u001B[0m in \u001B[0;36m_dispatch\u001B[1;34m(self, batch)\u001B[0m\n\u001B[0;32m    775\u001B[0m         \u001B[1;32mwith\u001B[0m \u001B[0mself\u001B[0m\u001B[1;33m.\u001B[0m\u001B[0m_lock\u001B[0m\u001B[1;33m:\u001B[0m\u001B[1;33m\u001B[0m\u001B[1;33m\u001B[0m\u001B[0m\n\u001B[0;32m    776\u001B[0m             \u001B[0mjob_idx\u001B[0m \u001B[1;33m=\u001B[0m \u001B[0mlen\u001B[0m\u001B[1;33m(\u001B[0m\u001B[0mself\u001B[0m\u001B[1;33m.\u001B[0m\u001B[0m_jobs\u001B[0m\u001B[1;33m)\u001B[0m\u001B[1;33m\u001B[0m\u001B[1;33m\u001B[0m\u001B[0m\n\u001B[1;32m--> 777\u001B[1;33m             \u001B[0mjob\u001B[0m \u001B[1;33m=\u001B[0m \u001B[0mself\u001B[0m\u001B[1;33m.\u001B[0m\u001B[0m_backend\u001B[0m\u001B[1;33m.\u001B[0m\u001B[0mapply_async\u001B[0m\u001B[1;33m(\u001B[0m\u001B[0mbatch\u001B[0m\u001B[1;33m,\u001B[0m \u001B[0mcallback\u001B[0m\u001B[1;33m=\u001B[0m\u001B[0mcb\u001B[0m\u001B[1;33m)\u001B[0m\u001B[1;33m\u001B[0m\u001B[1;33m\u001B[0m\u001B[0m\n\u001B[0m\u001B[0;32m    778\u001B[0m             \u001B[1;31m# A job can complete so quickly than its callback is\u001B[0m\u001B[1;33m\u001B[0m\u001B[1;33m\u001B[0m\u001B[1;33m\u001B[0m\u001B[0m\n\u001B[0;32m    779\u001B[0m             \u001B[1;31m# called before we get here, causing self._jobs to\u001B[0m\u001B[1;33m\u001B[0m\u001B[1;33m\u001B[0m\u001B[1;33m\u001B[0m\u001B[0m\n",
      "\u001B[1;32m~\\anaconda3\\lib\\site-packages\\joblib\\_parallel_backends.py\u001B[0m in \u001B[0;36mapply_async\u001B[1;34m(self, func, callback)\u001B[0m\n\u001B[0;32m    206\u001B[0m     \u001B[1;32mdef\u001B[0m \u001B[0mapply_async\u001B[0m\u001B[1;33m(\u001B[0m\u001B[0mself\u001B[0m\u001B[1;33m,\u001B[0m \u001B[0mfunc\u001B[0m\u001B[1;33m,\u001B[0m \u001B[0mcallback\u001B[0m\u001B[1;33m=\u001B[0m\u001B[1;32mNone\u001B[0m\u001B[1;33m)\u001B[0m\u001B[1;33m:\u001B[0m\u001B[1;33m\u001B[0m\u001B[1;33m\u001B[0m\u001B[0m\n\u001B[0;32m    207\u001B[0m         \u001B[1;34m\"\"\"Schedule a func to be run\"\"\"\u001B[0m\u001B[1;33m\u001B[0m\u001B[1;33m\u001B[0m\u001B[0m\n\u001B[1;32m--> 208\u001B[1;33m         \u001B[0mresult\u001B[0m \u001B[1;33m=\u001B[0m \u001B[0mImmediateResult\u001B[0m\u001B[1;33m(\u001B[0m\u001B[0mfunc\u001B[0m\u001B[1;33m)\u001B[0m\u001B[1;33m\u001B[0m\u001B[1;33m\u001B[0m\u001B[0m\n\u001B[0m\u001B[0;32m    209\u001B[0m         \u001B[1;32mif\u001B[0m \u001B[0mcallback\u001B[0m\u001B[1;33m:\u001B[0m\u001B[1;33m\u001B[0m\u001B[1;33m\u001B[0m\u001B[0m\n\u001B[0;32m    210\u001B[0m             \u001B[0mcallback\u001B[0m\u001B[1;33m(\u001B[0m\u001B[0mresult\u001B[0m\u001B[1;33m)\u001B[0m\u001B[1;33m\u001B[0m\u001B[1;33m\u001B[0m\u001B[0m\n",
      "\u001B[1;32m~\\anaconda3\\lib\\site-packages\\joblib\\_parallel_backends.py\u001B[0m in \u001B[0;36m__init__\u001B[1;34m(self, batch)\u001B[0m\n\u001B[0;32m    570\u001B[0m         \u001B[1;31m# Don't delay the application, to avoid keeping the input\u001B[0m\u001B[1;33m\u001B[0m\u001B[1;33m\u001B[0m\u001B[1;33m\u001B[0m\u001B[0m\n\u001B[0;32m    571\u001B[0m         \u001B[1;31m# arguments in memory\u001B[0m\u001B[1;33m\u001B[0m\u001B[1;33m\u001B[0m\u001B[1;33m\u001B[0m\u001B[0m\n\u001B[1;32m--> 572\u001B[1;33m         \u001B[0mself\u001B[0m\u001B[1;33m.\u001B[0m\u001B[0mresults\u001B[0m \u001B[1;33m=\u001B[0m \u001B[0mbatch\u001B[0m\u001B[1;33m(\u001B[0m\u001B[1;33m)\u001B[0m\u001B[1;33m\u001B[0m\u001B[1;33m\u001B[0m\u001B[0m\n\u001B[0m\u001B[0;32m    573\u001B[0m \u001B[1;33m\u001B[0m\u001B[0m\n\u001B[0;32m    574\u001B[0m     \u001B[1;32mdef\u001B[0m \u001B[0mget\u001B[0m\u001B[1;33m(\u001B[0m\u001B[0mself\u001B[0m\u001B[1;33m)\u001B[0m\u001B[1;33m:\u001B[0m\u001B[1;33m\u001B[0m\u001B[1;33m\u001B[0m\u001B[0m\n",
      "\u001B[1;32m~\\anaconda3\\lib\\site-packages\\joblib\\parallel.py\u001B[0m in \u001B[0;36m__call__\u001B[1;34m(self)\u001B[0m\n\u001B[0;32m    260\u001B[0m         \u001B[1;31m# change the default number of processes to -1\u001B[0m\u001B[1;33m\u001B[0m\u001B[1;33m\u001B[0m\u001B[1;33m\u001B[0m\u001B[0m\n\u001B[0;32m    261\u001B[0m         \u001B[1;32mwith\u001B[0m \u001B[0mparallel_backend\u001B[0m\u001B[1;33m(\u001B[0m\u001B[0mself\u001B[0m\u001B[1;33m.\u001B[0m\u001B[0m_backend\u001B[0m\u001B[1;33m,\u001B[0m \u001B[0mn_jobs\u001B[0m\u001B[1;33m=\u001B[0m\u001B[0mself\u001B[0m\u001B[1;33m.\u001B[0m\u001B[0m_n_jobs\u001B[0m\u001B[1;33m)\u001B[0m\u001B[1;33m:\u001B[0m\u001B[1;33m\u001B[0m\u001B[1;33m\u001B[0m\u001B[0m\n\u001B[1;32m--> 262\u001B[1;33m             return [func(*args, **kwargs)\n\u001B[0m\u001B[0;32m    263\u001B[0m                     for func, args, kwargs in self.items]\n\u001B[0;32m    264\u001B[0m \u001B[1;33m\u001B[0m\u001B[0m\n",
      "\u001B[1;32m~\\anaconda3\\lib\\site-packages\\joblib\\parallel.py\u001B[0m in \u001B[0;36m<listcomp>\u001B[1;34m(.0)\u001B[0m\n\u001B[0;32m    260\u001B[0m         \u001B[1;31m# change the default number of processes to -1\u001B[0m\u001B[1;33m\u001B[0m\u001B[1;33m\u001B[0m\u001B[1;33m\u001B[0m\u001B[0m\n\u001B[0;32m    261\u001B[0m         \u001B[1;32mwith\u001B[0m \u001B[0mparallel_backend\u001B[0m\u001B[1;33m(\u001B[0m\u001B[0mself\u001B[0m\u001B[1;33m.\u001B[0m\u001B[0m_backend\u001B[0m\u001B[1;33m,\u001B[0m \u001B[0mn_jobs\u001B[0m\u001B[1;33m=\u001B[0m\u001B[0mself\u001B[0m\u001B[1;33m.\u001B[0m\u001B[0m_n_jobs\u001B[0m\u001B[1;33m)\u001B[0m\u001B[1;33m:\u001B[0m\u001B[1;33m\u001B[0m\u001B[1;33m\u001B[0m\u001B[0m\n\u001B[1;32m--> 262\u001B[1;33m             return [func(*args, **kwargs)\n\u001B[0m\u001B[0;32m    263\u001B[0m                     for func, args, kwargs in self.items]\n\u001B[0;32m    264\u001B[0m \u001B[1;33m\u001B[0m\u001B[0m\n",
      "\u001B[1;32m~\\anaconda3\\lib\\site-packages\\sklearn\\utils\\fixes.py\u001B[0m in \u001B[0;36m__call__\u001B[1;34m(self, *args, **kwargs)\u001B[0m\n\u001B[0;32m    220\u001B[0m     \u001B[1;32mdef\u001B[0m \u001B[0m__call__\u001B[0m\u001B[1;33m(\u001B[0m\u001B[0mself\u001B[0m\u001B[1;33m,\u001B[0m \u001B[1;33m*\u001B[0m\u001B[0margs\u001B[0m\u001B[1;33m,\u001B[0m \u001B[1;33m**\u001B[0m\u001B[0mkwargs\u001B[0m\u001B[1;33m)\u001B[0m\u001B[1;33m:\u001B[0m\u001B[1;33m\u001B[0m\u001B[1;33m\u001B[0m\u001B[0m\n\u001B[0;32m    221\u001B[0m         \u001B[1;32mwith\u001B[0m \u001B[0mconfig_context\u001B[0m\u001B[1;33m(\u001B[0m\u001B[1;33m**\u001B[0m\u001B[0mself\u001B[0m\u001B[1;33m.\u001B[0m\u001B[0mconfig\u001B[0m\u001B[1;33m)\u001B[0m\u001B[1;33m:\u001B[0m\u001B[1;33m\u001B[0m\u001B[1;33m\u001B[0m\u001B[0m\n\u001B[1;32m--> 222\u001B[1;33m             \u001B[1;32mreturn\u001B[0m \u001B[0mself\u001B[0m\u001B[1;33m.\u001B[0m\u001B[0mfunction\u001B[0m\u001B[1;33m(\u001B[0m\u001B[1;33m*\u001B[0m\u001B[0margs\u001B[0m\u001B[1;33m,\u001B[0m \u001B[1;33m**\u001B[0m\u001B[0mkwargs\u001B[0m\u001B[1;33m)\u001B[0m\u001B[1;33m\u001B[0m\u001B[1;33m\u001B[0m\u001B[0m\n\u001B[0m",
      "\u001B[1;32m~\\anaconda3\\lib\\site-packages\\sklearn\\ensemble\\_bagging.py\u001B[0m in \u001B[0;36m_parallel_build_estimators\u001B[1;34m(n_estimators, ensemble, X, y, sample_weight, seeds, total_n_estimators, verbose)\u001B[0m\n\u001B[0;32m     89\u001B[0m \u001B[1;33m\u001B[0m\u001B[0m\n\u001B[0;32m     90\u001B[0m         \u001B[1;31m# Draw random feature, sample indices\u001B[0m\u001B[1;33m\u001B[0m\u001B[1;33m\u001B[0m\u001B[1;33m\u001B[0m\u001B[0m\n\u001B[1;32m---> 91\u001B[1;33m         features, indices = _generate_bagging_indices(random_state,\n\u001B[0m\u001B[0;32m     92\u001B[0m                                                       \u001B[0mbootstrap_features\u001B[0m\u001B[1;33m,\u001B[0m\u001B[1;33m\u001B[0m\u001B[1;33m\u001B[0m\u001B[0m\n\u001B[0;32m     93\u001B[0m                                                       \u001B[0mbootstrap\u001B[0m\u001B[1;33m,\u001B[0m \u001B[0mn_features\u001B[0m\u001B[1;33m,\u001B[0m\u001B[1;33m\u001B[0m\u001B[1;33m\u001B[0m\u001B[0m\n",
      "\u001B[1;32m~\\anaconda3\\lib\\site-packages\\sklearn\\ensemble\\_bagging.py\u001B[0m in \u001B[0;36m_generate_bagging_indices\u001B[1;34m(random_state, bootstrap_features, bootstrap_samples, n_features, n_samples, max_features, max_samples)\u001B[0m\n\u001B[0;32m     55\u001B[0m     feature_indices = _generate_indices(random_state, bootstrap_features,\n\u001B[0;32m     56\u001B[0m                                         n_features, max_features)\n\u001B[1;32m---> 57\u001B[1;33m     sample_indices = _generate_indices(random_state, bootstrap_samples,\n\u001B[0m\u001B[0;32m     58\u001B[0m                                        n_samples, max_samples)\n\u001B[0;32m     59\u001B[0m \u001B[1;33m\u001B[0m\u001B[0m\n",
      "\u001B[1;32m~\\anaconda3\\lib\\site-packages\\sklearn\\ensemble\\_bagging.py\u001B[0m in \u001B[0;36m_generate_indices\u001B[1;34m(random_state, bootstrap, n_population, n_samples)\u001B[0m\n\u001B[0;32m     37\u001B[0m     \u001B[1;31m# Draw sample indices\u001B[0m\u001B[1;33m\u001B[0m\u001B[1;33m\u001B[0m\u001B[1;33m\u001B[0m\u001B[0m\n\u001B[0;32m     38\u001B[0m     \u001B[1;32mif\u001B[0m \u001B[0mbootstrap\u001B[0m\u001B[1;33m:\u001B[0m\u001B[1;33m\u001B[0m\u001B[1;33m\u001B[0m\u001B[0m\n\u001B[1;32m---> 39\u001B[1;33m         \u001B[0mindices\u001B[0m \u001B[1;33m=\u001B[0m \u001B[0mrandom_state\u001B[0m\u001B[1;33m.\u001B[0m\u001B[0mrandint\u001B[0m\u001B[1;33m(\u001B[0m\u001B[1;36m0\u001B[0m\u001B[1;33m,\u001B[0m \u001B[0mn_population\u001B[0m\u001B[1;33m,\u001B[0m \u001B[0mn_samples\u001B[0m\u001B[1;33m)\u001B[0m\u001B[1;33m\u001B[0m\u001B[1;33m\u001B[0m\u001B[0m\n\u001B[0m\u001B[0;32m     40\u001B[0m     \u001B[1;32melse\u001B[0m\u001B[1;33m:\u001B[0m\u001B[1;33m\u001B[0m\u001B[1;33m\u001B[0m\u001B[0m\n\u001B[0;32m     41\u001B[0m         indices = sample_without_replacement(n_population, n_samples,\n",
      "\u001B[1;31mKeyboardInterrupt\u001B[0m: "
     ]
    }
   ],
   "source": [
    "run_classifiers(clfs,X_standar,y)"
   ],
   "metadata": {
    "collapsed": false,
    "pycharm": {
     "name": "#%%\n"
    }
   }
  },
  {
   "cell_type": "code",
   "execution_count": null,
   "outputs": [],
   "source": [
    "run_classifiers(clfs,X_minmax,y)"
   ],
   "metadata": {
    "collapsed": false,
    "pycharm": {
     "name": "#%%\n"
    }
   }
  },
  {
   "cell_type": "markdown",
   "source": [
    "On remarque que comme prédcédement la normalisation et la standardisation permet seulement a une partie des algorthimes (Neural network,bayes ...) d'obtenir un gain de précision et de ROC."
   ],
   "metadata": {
    "collapsed": false
   }
  },
  {
   "cell_type": "code",
   "execution_count": 299,
   "outputs": [],
   "source": [
    "col_num = credit_data.select_dtypes(include='number').columns\n",
    "col_num = col_num[:-1]\n",
    "col_cat = credit_data[credit_data.columns.difference(col_num)].columns\n",
    "col_cat = col_cat[:-1]"
   ],
   "metadata": {
    "collapsed": false,
    "pycharm": {
     "name": "#%%\n"
    }
   }
  },
  {
   "cell_type": "code",
   "execution_count": 300,
   "outputs": [
    {
     "name": "stdout",
     "output_type": "stream",
     "text": [
      "Int64Index([1, 2, 7, 10, 13, 14], dtype='int64')\n",
      "Int64Index([0, 3, 4, 5, 6, 8, 9, 11, 12], dtype='int64')\n"
     ]
    }
   ],
   "source": [
    "print(col_num)\n",
    "print(col_cat)"
   ],
   "metadata": {
    "collapsed": false,
    "pycharm": {
     "name": "#%%\n"
    }
   }
  },
  {
   "cell_type": "markdown",
   "source": [],
   "metadata": {
    "collapsed": false
   }
  },
  {
   "cell_type": "code",
   "execution_count": 301,
   "outputs": [
    {
     "name": "stdout",
     "output_type": "stream",
     "text": [
      "[['b' 'u' 'g' 'w' 'v' 't' 't' 'f' 'g']\n",
      " ['a' 'u' 'g' 'q' 'h' 't' 't' 'f' 'g']\n",
      " ['a' 'u' 'g' 'q' 'h' 't' 'f' 'f' 'g']\n",
      " ['b' 'u' 'g' 'w' 'v' 't' 't' 't' 'g']\n",
      " ['b' 'u' 'g' 'w' 'v' 't' 'f' 'f' 's']\n",
      " ['b' 'u' 'g' 'm' 'v' 't' 'f' 't' 'g']\n",
      " ['b' 'u' 'g' 'r' 'h' 't' 'f' 't' 'g']\n",
      " ['a' 'u' 'g' 'cc' 'v' 't' 'f' 'f' 'g']\n",
      " ['b' 'y' 'p' 'k' 'h' 't' 'f' 'f' 'g']\n",
      " ['b' 'y' 'p' 'w' 'v' 't' 'f' 't' 'g']\n",
      " ['b' 'u' 'g' 'c' 'h' 'f' 'f' 't' 'g']\n",
      " ['b' 'u' 'g' 'c' 'h' 't' 'f' 'f' 'g']\n",
      " ['a' 'u' 'g' 'k' 'v' 't' 'f' 't' 'g']\n",
      " ['b' 'u' 'g' 'k' 'v' 'f' 'f' 'f' 'g']\n",
      " ['a' 'u' 'g' 'q' 'v' 't' 't' 't' 'g']\n",
      " ['b' 'y' 'p' 'k' 'v' 't' 't' 't' 'g']\n",
      " ['b' 'u' 'g' 'm' 'v' 't' 't' 't' 'g']\n",
      " ['a' 'u' 'g' 'q' 'v' 't' 't' 'f' 'g']\n",
      " ['b' 'u' 'g' 'd' 'h' 't' 'f' 't' 'g']\n",
      " ['a' 'u' 'g' 'cc' 'h' 't' 't' 'f' 'g']\n",
      " ['b' 'u' 'g' 'c' 'v' 't' 't' 'f' 'g']\n",
      " ['b' 'u' 'g' 'c' 'v' 't' 'f' 'f' 's']\n",
      " ['a' 'u' 'g' 'c' 'v' 't' 't' 't' 'g']\n",
      " ['a' 'u' 'g' 'x' 'h' 't' 't' 'f' 'g']\n",
      " ['a' 'u' 'g' 'q' 'v' 't' 't' 't' 'g']\n",
      " ['a' 'u' 'g' 'c' 'h' 't' 't' 'f' 'g']\n",
      " ['a' 'u' 'g' 'i' 'bb' 't' 't' 't' 'g']\n",
      " ['b' 'u' 'g' 'd' 'bb' 't' 't' 't' 'g']\n",
      " ['b' 'u' 'g' 'e' 'h' 't' 't' 'f' 'g']\n",
      " ['b' 'u' 'g' 'w' 'v' 't' 't' 't' 'g']\n",
      " ['b' 'u' 'g' 'aa' 'v' 't' 't' 't' 'g']\n",
      " ['b' 'u' 'g' 'x' 'h' 't' 't' 'f' 'g']\n",
      " ['b' 'u' 'g' 'i' 'bb' 't' 't' 't' 'g']\n",
      " ['a' 'u' 'g' 'e' 'v' 't' 'f' 't' 'g']\n",
      " ['a' 'u' 'g' 'q' 'v' 't' 't' 't' 'g']\n",
      " ['b' 'u' 'g' 'w' 'v' 't' 't' 't' 'g']\n",
      " ['b' 'u' 'g' 'cc' 'h' 't' 't' 't' 'g']\n",
      " ['a' 'u' 'g' 'x' 'h' 't' 't' 't' 'g']\n",
      " ['b' 'y' 'p' 'cc' 'v' 't' 't' 'f' 'g']\n",
      " ['b' 'u' 'g' 'ff' 'ff' 't' 't' 't' 'g']\n",
      " ['b' 'u' 'g' 'c' 'v' 't' 't' 't' 'g']\n",
      " ['b' 'u' 'g' 'c' 'h' 't' 't' 'f' 'g']\n",
      " ['b' 'u' 'g' 'w' 'h' 't' 't' 'f' 'g']\n",
      " ['b' 'u' 'g' 'w' 'v' 't' 't' 't' 'g']\n",
      " ['b' 'y' 'p' 'c' 'v' 't' 't' 'f' 'g']\n",
      " ['b' 'u' 'g' 'c' 'h' 't' 't' 't' 'g']\n",
      " ['a' 'y' 'p' 'q' 'h' 't' 't' 't' 'g']\n",
      " ['b' 'u' 'g' 'cc' 'h' 't' 't' 'f' 'g']\n",
      " ['b' 'u' 'g' 'i' 'bb' 'f' 'f' 'f' 'g']\n",
      " ['b' 'u' 'g' 'c' 'v' 'f' 'f' 'f' 'g']\n",
      " ['a' 'u' 'g' 'c' 'h' 't' 'f' 't' 'g']\n",
      " ['b' 'u' 'g' 'q' 'v' 't' 'f' 't' 'g']\n",
      " ['b' 'u' 'g' 'w' 'v' 't' 'f' 't' 'g']\n",
      " ['b' 'u' 'g' 'w' 'v' 't' 'f' 't' 'g']\n",
      " ['b' 'u' 'g' 'cc' 'h' 't' 'f' 't' 'g']\n",
      " ['b' 'y' 'p' 'w' 'v' 't' 'f' 't' 'g']\n",
      " ['b' 'u' 'g' 'cc' 'v' 't' 'f' 'f' 'g']\n",
      " ['b' 'u' 'g' 'i' 'h' 't' 'f' 't' 'g']\n",
      " ['b' 'u' 'g' 'x' 'h' 'f' 'f' 't' 's']\n",
      " ['b' 'u' 'g' 'q' 'h' 't' 't' 'f' 'g']\n",
      " ['b' 'u' 'g' 'm' 'v' 't' 't' 't' 'g']\n",
      " ['b' 'u' 'g' 'd' 'v' 't' 't' 'f' 'g']\n",
      " ['a' 'y' 'p' 'q' 'v' 't' 't' 't' 'g']\n",
      " ['a' 'u' 'g' 'q' 'v' 't' 't' 'f' 'g']\n",
      " ['b' 'u' 'g' 'cc' 'v' 't' 't' 't' 'g']\n",
      " ['b' 'u' 'g' 'cc' 'v' 't' 't' 't' 'g']\n",
      " ['a' 'u' 'g' 'c' 'v' 't' 't' 'f' 'g']\n",
      " ['b' 'u' 'g' 'm' 'v' 't' 't' 'f' 'g']\n",
      " ['b' 'u' 'g' 'w' 'h' 't' 't' 'f' 'g']\n",
      " ['b' 'u' 'g' 'x' 'h' 't' 't' 't' 'g']\n",
      " ['b' 'u' 'g' 'e' 'bb' 't' 'f' 't' 's']\n",
      " ['b' 'u' 'g' 'd' 'bb' 't' 'f' 't' 'g']\n",
      " ['a' 'u' 'g' 'cc' 'v' 't' 'f' 't' 'g']\n",
      " ['b' 'u' 'g' 'm' 'v' 't' 'f' 'f' 's']\n",
      " ['b' 'y' 'p' 'c' 'v' 'f' 'f' 'f' 'g']\n",
      " ['b' 'u' 'g' 'q' 'v' 't' 't' 'f' 'g']\n",
      " ['b' 'u' 'g' 'aa' 'v' 't' 'f' 't' 'g']\n",
      " ['a' 'y' 'p' 'aa' 'v' 't' 'f' 't' 'g']\n",
      " ['b' 'y' 'p' 'k' 'v' 't' 't' 'f' 'g']\n",
      " ['b' 'u' 'g' 'c' 'v' 't' 'f' 'f' 'g']\n",
      " ['b' 'u' 'g' 'ff' 'ff' 't' 't' 'f' 'g']\n",
      " ['a' 'u' 'g' 'm' 'v' 't' 'f' 'f' 's']\n",
      " ['b' 'u' 'g' 'm' 'v' 't' 'f' 'f' 's']\n",
      " ['a' 'u' 'g' 'd' 'v' 't' 'f' 't' 'g']\n",
      " ['b' 'u' 'g' 'aa' 'v' 't' 'f' 't' 'g']\n",
      " ['b' 'u' 'g' 'c' 'bb' 't' 'f' 't' 's']\n",
      " ['b' 'u' 'g' 'd' 'v' 't' 'f' 't' 's']\n",
      " ['b' 'y' 'p' 'aa' 'v' 't' 'f' 'f' 'g']\n",
      " ['b' 'u' 'g' 'aa' 'v' 't' 'f' 't' 'g']\n",
      " ['a' 'u' 'g' 'j' 'j' 't' 'f' 't' 'g']\n",
      " ['b' 'y' 'p' 'c' 'h' 't' 'f' 'f' 'g']\n",
      " ['b' 'u' 'g' 'c' 'v' 't' 'f' 'f' 'g']\n",
      " ['b' 'y' 'p' 'aa' 'v' 't' 'f' 'f' 'g']\n",
      " ['b' 'y' 'p' 'c' 'h' 't' 'f' 't' 'g']\n",
      " ['b' 'y' 'p' 'c' 'v' 't' 'f' 't' 'g']\n",
      " ['a' 'u' 'g' 'i' 'bb' 't' 'f' 't' 'g']\n",
      " ['b' 'y' 'p' 'aa' 'v' 't' 'f' 'f' 'g']\n",
      " ['b' 'u' 'g' 'c' 'bb' 't' 'f' 't' 's']\n",
      " ['a' 'y' 'p' 'q' 'v' 't' 'f' 't' 'g']\n",
      " ['a' 'u' 'g' 'q' 'v' 't' 't' 't' 'g']\n",
      " ['b' 'y' 'p' 'c' 'bb' 't' 'f' 't' 'g']\n",
      " ['b' 'y' 'p' 'c' 'v' 't' 'f' 'f' 'g']\n",
      " ['b' 'u' 'g' 'q' 'v' 't' 't' 'f' 'g']\n",
      " ['b' 'u' 'g' 'k' 'v' 't' 't' 't' 'g']\n",
      " ['b' 'y' 'p' 'i' 'h' 't' 't' 't' 'g']\n",
      " ['b' 'u' 'g' 'e' 'z' 't' 't' 'f' 'g']\n",
      " ['b' 'u' 'g' 'k' 'v' 't' 'f' 'f' 's']\n",
      " ['a' 'y' 'p' 'aa' 'v' 't' 'f' 'f' 'g']\n",
      " ['b' 'y' 'p' 'x' 'h' 't' 'f' 't' 'g']\n",
      " ['a' 'u' 'g' 'c' 'v' 't' 't' 't' 'g']\n",
      " ['b' 'u' 'g' 'w' 'v' 't' 't' 't' 'g']\n",
      " ['a' 'y' 'p' 'ff' 'ff' 't' 't' 'f' 'g']\n",
      " ['b' 'u' 'g' 'w' 'v' 't' 'f' 't' 'g']\n",
      " ['a' 'u' 'g' 'k' 'bb' 't' 't' 't' 'g']\n",
      " ['b' 'y' 'p' 'c' 'h' 't' 't' 't' 'g']\n",
      " ['a' 'u' 'g' 'q' 'v' 't' 't' 'f' 'g']\n",
      " ['b' 'u' 'g' 'q' 'h' 't' 't' 't' 'g']\n",
      " ['b' 'u' 'g' 'k' 'v' 't' 't' 'f' 'g']\n",
      " ['b' 'u' 'g' 'm' 'v' 't' 't' 't' 'g']\n",
      " ['a' 'u' 'g' 'cc' 'h' 't' 't' 't' 'g']\n",
      " ['b' 'u' 'g' 'q' 'v' 't' 't' 'f' 'g']\n",
      " ['b' 'u' 'g' 'cc' 'v' 't' 't' 't' 'g']\n",
      " ['a' 'u' 'g' 'aa' 'v' 't' 't' 't' 'g']\n",
      " ['a' 'u' 'g' 'q' 'v' 't' 't' 't' 'g']\n",
      " ['a' 'u' 'g' 'q' 'v' 't' 't' 't' 'g']\n",
      " ['b' 'u' 'g' 'x' 'h' 't' 't' 't' 'g']\n",
      " ['b' 'u' 'g' 'm' 'bb' 't' 't' 't' 'g']\n",
      " ['b' 'u' 'g' 'q' 'v' 't' 't' 't' 'g']\n",
      " ['b' 'u' 'g' 'i' 'bb' 't' 't' 'f' 'g']\n",
      " ['a' 'u' 'g' 'w' 'v' 't' 'f' 'f' 's']\n",
      " ['b' 'u' 'g' 'e' 'z' 't' 't' 't' 'g']\n",
      " ['b' 'u' 'g' 'c' 'v' 't' 't' 'f' 'g']\n",
      " ['a' 'u' 'g' 'e' 'bb' 't' 't' 'f' 'g']\n",
      " ['b' 'u' 'g' 'c' 'bb' 't' 't' 'f' 'g']\n",
      " ['b' 'u' 'g' 'q' 'h' 't' 't' 't' 'g']\n",
      " ['b' 'u' 'g' 'q' 'h' 't' 'f' 't' 'g']\n",
      " ['b' 'y' 'p' 'aa' 'v' 't' 't' 'f' 'g']\n",
      " ['b' 'u' 'g' 'm' 'v' 't' 't' 'f' 'g']\n",
      " ['a' 'u' 'g' 'w' 'v' 't' 't' 't' 'g']\n",
      " ['a' 'u' 'g' 'q' 'h' 't' 't' 'f' 'g']\n",
      " ['a' 'u' 'g' 'cc' 'h' 't' 't' 't' 'g']\n",
      " ['a' 'u' 'g' 'j' 'ff' 't' 't' 'f' 'g']\n",
      " ['b' 'y' 'p' 'cc' 'h' 't' 't' 'f' 'g']\n",
      " ['b' 'u' 'g' 'w' 'v' 't' 't' 'f' 'g']\n",
      " ['b' 'u' 'g' 'cc' 'h' 't' 't' 'f' 'g']\n",
      " ['b' 'u' 'g' 'cc' 'h' 't' 't' 'f' 'g']\n",
      " ['b' 'u' 'g' 'q' 'v' 't' 't' 't' 'g']\n",
      " ['a' 'y' 'p' 'q' 'h' 't' 't' 'f' 'g']\n",
      " ['a' 'u' 'g' 'c' 'bb' 't' 't' 't' 'g']\n",
      " ['a' 'u' 'g' 'c' 'v' 't' 't' 'f' 'g']\n",
      " ['a' 'u' 'g' 'cc' 'h' 't' 't' 't' 'g']\n",
      " ['a' 'u' 'g' 'q' 'v' 't' 't' 'f' 'g']\n",
      " ['b' 'u' 'g' 'm' 'h' 't' 't' 't' 'g']\n",
      " ['b' 'u' 'g' 'c' 'v' 't' 't' 't' 'g']\n",
      " ['b' 'u' 'g' 'cc' 'h' 't' 't' 't' 'g']\n",
      " ['a' 'y' 'p' 'j' 'j' 't' 't' 't' 'g']\n",
      " ['a' 'y' 'p' 'x' 'h' 't' 't' 'f' 'g']\n",
      " ['a' 'u' 'g' 'e' 'z' 't' 't' 'f' 'g']\n",
      " ['b' 'u' 'g' 'k' 'h' 't' 't' 't' 'g']\n",
      " ['b' 'y' 'p' 'm' 'bb' 't' 't' 't' 'g']\n",
      " ['b' 'u' 'g' 'x' 'h' 't' 't' 'f' 'g']\n",
      " ['b' 'u' 'g' 'm' 'v' 't' 't' 't' 'g']\n",
      " ['b' 'u' 'g' 'x' 'v' 't' 't' 't' 'g']\n",
      " ['b' 'y' 'p' 'e' 'h' 't' 'f' 't' 'g']\n",
      " ['a' 'u' 'g' 'q' 'v' 't' 'f' 't' 'g']\n",
      " ['a' 'u' 'g' 'q' 'h' 't' 'f' 'f' 'g']\n",
      " ['b' 'u' 'g' 'q' 'v' 't' 'f' 't' 'g']\n",
      " ['a' 'u' 'g' 'cc' 'v' 't' 'f' 'f' 'g']\n",
      " ['b' 'u' 'g' 'q' 'h' 't' 'f' 't' 'g']\n",
      " ['b' 'y' 'p' 'd' 'v' 'f' 'f' 't' 'g']\n",
      " ['a' 'y' 'p' 'aa' 'v' 't' 'f' 't' 'g']\n",
      " ['b' 'u' 'g' 'c' 'bb' 't' 'f' 'f' 'g']\n",
      " ['b' 'u' 'g' 'k' 'h' 't' 'f' 't' 'g']\n",
      " ['a' 'u' 'g' 'k' 'h' 't' 'f' 't' 'g']\n",
      " ['b' 'u' 'g' 'q' 'h' 't' 'f' 'f' 'g']\n",
      " ['b' 'y' 'p' 'w' 'v' 't' 'f' 't' 'g']\n",
      " ['b' 'u' 'g' 'aa' 'v' 't' 'f' 't' 's']\n",
      " ['a' 'u' 'g' 'aa' 'v' 't' 'f' 'f' 'g']\n",
      " ['a' 'u' 'g' 'q' 'v' 't' 't' 'f' 'g']\n",
      " ['b' 'u' 'g' 'aa' 'v' 't' 't' 'f' 'g']\n",
      " ['b' 'u' 'g' 'c' 'bb' 't' 't' 'f' 'g']\n",
      " ['a' 'u' 'g' 'i' 'bb' 't' 't' 'f' 's']\n",
      " ['a' 'u' 'g' 'q' 'v' 't' 't' 'f' 'g']\n",
      " ['a' 'u' 'g' 'c' 'v' 't' 't' 'f' 'g']\n",
      " ['a' 'u' 'g' 'q' 'v' 't' 't' 'f' 'g']\n",
      " ['b' 'u' 'g' 'c' 'h' 't' 't' 'f' 'g']\n",
      " ['b' 'u' 'g' 'aa' 'bb' 't' 't' 'f' 'g']\n",
      " ['b' 'u' 'g' 'c' 'v' 't' 't' 'f' 'g']\n",
      " ['a' 'u' 'g' 'c' 'v' 't' 't' 't' 'g']\n",
      " ['a' 'u' 'g' 'q' 'h' 't' 't' 'f' 'g']\n",
      " ['b' 'u' 'g' 'c' 'v' 't' 'f' 't' 'g']\n",
      " ['b' 'u' 'g' 'i' 'h' 't' 'f' 'f' 'g']\n",
      " ['b' 'u' 'g' 'x' 'v' 't' 'f' 'f' 'g']\n",
      " ['b' 'y' 'p' 'w' 'v' 't' 't' 'f' 'g']\n",
      " ['b' 'y' 'p' 'i' 'bb' 't' 't' 't' 'g']\n",
      " ['b' 'y' 'p' 'c' 'bb' 't' 't' 't' 'g']\n",
      " ['b' 'y' 'p' 'x' 'v' 't' 't' 't' 'g']\n",
      " ['b' 'u' 'g' 'w' 'h' 't' 't' 'f' 'g']\n",
      " ['b' 'y' 'p' 'aa' 'v' 't' 't' 't' 'g']\n",
      " ['b' 'u' 'g' 'x' 'v' 't' 't' 'f' 'g']\n",
      " ['a' 'u' 'g' 'q' 'h' 't' 't' 'f' 'g']\n",
      " ['a' 'u' 'g' 'i' 'bb' 't' 'f' 't' 'g']\n",
      " ['a' 'u' 'g' 'q' 'v' 't' 't' 't' 'g']\n",
      " ['b' 'y' 'p' 'w' 'v' 't' 't' 'f' 'g']\n",
      " ['a' 'u' 'g' 'q' 'h' 't' 't' 'f' 'g']\n",
      " ['b' 'u' 'g' 'q' 'h' 't' 't' 'f' 'g']\n",
      " ['b' 'u' 'g' 'k' 'v' 't' 't' 'f' 'g']\n",
      " ['b' 'u' 'g' 'c' 'bb' 't' 't' 'f' 'g']\n",
      " ['b' 'u' 'g' 'cc' 'h' 't' 't' 't' 'g']\n",
      " ['b' 'y' 'p' 'd' 'v' 't' 'f' 't' 's']\n",
      " ['b' 'u' 'g' 'ff' 'ff' 't' 't' 't' 'g']\n",
      " ['b' 'u' 'g' 'i' 'v' 't' 't' 'f' 'g']\n",
      " ['b' 'y' 'p' 'cc' 'v' 't' 't' 'f' 'g']\n",
      " ['b' 'u' 'g' 'aa' 'v' 't' 'f' 'f' 's']\n",
      " ['b' 'u' 'g' 'cc' 'h' 't' 't' 'f' 'g']\n",
      " ['b' 'u' 'g' 'ff' 'ff' 't' 't' 'f' 'g']\n",
      " ['b' 'u' 'g' 'e' 'v' 't' 't' 'f' 'g']\n",
      " ['a' 'y' 'p' 'c' 'v' 't' 't' 't' 'g']\n",
      " ['a' 'u' 'g' 'aa' 'v' 't' 't' 't' 'g']\n",
      " ['b' 'u' 'g' 'e' 'z' 't' 't' 't' 'g']\n",
      " ['a' 'u' 'g' 'aa' 'v' 't' 'f' 't' 'g']\n",
      " ['a' 'u' 'g' 'aa' 'v' 't' 'f' 'f' 'g']\n",
      " ['a' 'u' 'g' 'q' 'v' 't' 'f' 't' 'g']\n",
      " ['b' 'u' 'g' 'c' 'bb' 't' 'f' 't' 'g']\n",
      " ['b' 'u' 'g' 'k' 'v' 't' 'f' 'f' 'g']\n",
      " ['a' 'y' 'p' 'x' 'v' 'f' 'f' 'f' 'g']\n",
      " ['b' 'u' 'g' 'q' 'v' 't' 't' 't' 'g']\n",
      " ['b' 'u' 'g' 'cc' 'v' 't' 'f' 'f' 'g']\n",
      " ['b' 'u' 'g' 'cc' 'v' 't' 't' 'f' 'g']\n",
      " ['a' 'u' 'g' 'x' 'v' 't' 't' 't' 'g']\n",
      " ['b' 'u' 'g' 'x' 'h' 't' 't' 't' 'g']\n",
      " ['b' 'u' 'g' 'w' 'v' 't' 'f' 't' 'g']\n",
      " ['a' 'u' 'g' 'i' 'bb' 't' 't' 'f' 'g']\n",
      " ['a' 'u' 'g' 'q' 'v' 't' 't' 'f' 'g']\n",
      " ['b' 'u' 'g' 'i' 'bb' 't' 'f' 't' 'g']\n",
      " ['b' 'u' 'g' 'aa' 'v' 't' 't' 'f' 'g']\n",
      " ['b' 'u' 'g' 'q' 'v' 't' 'f' 'f' 's']\n",
      " ['b' 'u' 'g' 'x' 'v' 't' 't' 'f' 'g']\n",
      " ['b' 'y' 'p' 'c' 'v' 't' 'f' 'f' 's']\n",
      " ['b' 'u' 'g' 'w' 'v' 't' 't' 'f' 'g']\n",
      " ['b' 'u' 'g' 'w' 'v' 't' 'f' 't' 'g']\n",
      " ['a' 'u' 'g' 'q' 'v' 't' 't' 'f' 'g']\n",
      " ['b' 'u' 'g' 'i' 'v' 't' 't' 'f' 'g']\n",
      " ['b' 'y' 'p' 'c' 'h' 't' 't' 't' 'g']\n",
      " ['b' 'u' 'g' 'cc' 'h' 't' 't' 't' 'g']\n",
      " ['a' 'u' 'g' 'q' 'h' 't' 't' 'f' 'g']\n",
      " ['?' 'u' 'g' 'c' 'bb' 't' 't' 'f' 'g']\n",
      " ['b' 'u' 'g' 'x' 'v' 't' 't' 'f' 'g']\n",
      " ['b' 'u' 'g' 'e' 'z' 't' 't' 'f' 'g']\n",
      " ['b' 'u' 'g' 'q' 'h' 't' 't' 't' 'g']\n",
      " ['a' 'u' 'g' 'x' 'h' 't' 't' 'f' 'g']\n",
      " ['b' 'u' 'g' 'x' 'h' 't' 't' 'f' 'g']\n",
      " ['b' 'u' 'g' 'k' 'v' 'f' 'f' 'f' 'g']\n",
      " ['b' 'u' 'g' 'c' 'h' 'f' 'f' 'f' 'g']\n",
      " ['b' 'u' 'g' 'c' 'v' 'f' 'f' 't' 'g']\n",
      " ['b' 'u' 'g' 'd' 'v' 'f' 'f' 'f' 'g']\n",
      " ['a' 'u' 'g' 'i' 'v' 'f' 'f' 'f' 'g']\n",
      " ['a' 'y' 'p' 'c' 'v' 'f' 'f' 'f' 'g']\n",
      " ['b' 'u' 'g' 'd' 'h' 'f' 'f' 't' 'g']\n",
      " ['a' 'y' 'p' 'ff' 'ff' 'f' 'f' 'f' 'g']\n",
      " ['a' 'u' 'g' 'i' 'o' 'f' 'f' 'f' 'g']\n",
      " ['a' 'y' 'p' 'x' 'h' 'f' 'f' 't' 'g']\n",
      " ['b' 'u' 'g' 'ff' 'ff' 'f' 'f' 'f' 'g']\n",
      " ['b' 'y' 'p' 'c' 'v' 'f' 'f' 'f' 'g']\n",
      " ['b' 'y' 'p' 'e' 'dd' 'f' 'f' 'f' 'g']\n",
      " ['a' 'u' 'g' 'd' 'v' 'f' 'f' 'f' 'g']\n",
      " ['b' 'u' 'g' 'q' 'v' 't' 'f' 't' 'g']\n",
      " ['b' 'u' 'g' 'q' 'n' 'f' 'f' 'f' 'g']\n",
      " ['b' '?' '?' '?' '?' 'f' 'f' 'f' 'p']\n",
      " ['b' 'u' 'g' 'c' 'v' 'f' 'f' 't' 'g']\n",
      " ['b' 'y' 'p' 'm' 'v' 'f' 'f' 'f' 'g']\n",
      " ['b' 'y' 'p' 'k' 'v' 'f' 'f' 'f' 'g']\n",
      " ['b' 'u' 'g' 'cc' 'h' 'f' 'f' 't' 's']\n",
      " ['b' 'u' 'g' 'd' 'v' 'f' 'f' 'f' 'g']\n",
      " ['a' 'u' 'g' 'i' 'h' 'f' 'f' 'f' 'g']\n",
      " ['a' 'y' 'p' 'q' 'h' 'f' 'f' 'f' 'g']\n",
      " ['b' 'y' 'p' 'ff' 'ff' 'f' 'f' 'f' 'g']\n",
      " ['b' 'u' 'g' 'm' 'v' 't' 'f' 'f' 's']\n",
      " ['b' 'y' 'p' 'c' 'h' 'f' 'f' 'f' 'g']\n",
      " ['b' 'y' 'p' 'cc' 'h' 'f' 'f' 'f' 'g']\n",
      " ['b' 'u' 'g' 'c' 'v' 'f' 'f' 'f' 's']\n",
      " ['a' 'u' 'g' 'q' 'v' 'f' 't' 'f' 'g']\n",
      " ['b' 'u' 'g' 'c' 'v' 'f' 't' 'f' 'g']\n",
      " ['b' 'u' 'g' 'w' 'h' 'f' 't' 'f' 'g']\n",
      " ['a' 'u' 'g' 'ff' 'ff' 'f' 't' 't' 'g']\n",
      " ['b' 'u' 'g' 'w' 'v' 'f' 't' 'f' 'g']\n",
      " ['b' 'y' 'p' 'c' 'v' 'f' 't' 'f' 'g']\n",
      " ['a' 'y' 'p' 'j' 'j' 'f' 'f' 'f' 'g']\n",
      " ['b' 'u' 'g' 'm' 'v' 'f' 'f' 't' 's']\n",
      " ['a' 'u' 'g' 'w' 'v' 'f' 't' 'f' 'g']\n",
      " ['b' 'u' 'g' 'w' 'v' 'f' 't' 'f' 'g']\n",
      " ['b' 'u' 'g' 'w' 'v' 'f' 't' 'f' 'g']\n",
      " ['a' 'u' 'g' 'ff' 'ff' 'f' 't' 'f' 'g']\n",
      " ['a' 'u' 'g' 'ff' 'ff' 'f' 't' 't' 'g']\n",
      " ['b' 'u' 'g' 'ff' 'ff' 'f' 't' 'f' 'g']\n",
      " ['b' 'u' 'g' 'aa' 'v' 'f' 't' 't' 'g']\n",
      " ['b' 'u' 'g' 'aa' 'v' 'f' 't' 'f' 'g']\n",
      " ['b' 'u' 'g' 'c' 'v' 'f' 't' 't' 'g']\n",
      " ['a' 'u' 'g' 'ff' 'ff' 'f' 't' 'f' 'g']\n",
      " ['b' 'u' 'g' 'd' 'v' 'f' 'f' 't' 's']\n",
      " ['b' 'u' 'g' 'c' 'v' 'f' 'f' 't' 's']\n",
      " ['a' 'u' 'g' 'q' 'v' 'f' 'f' 'f' 'g']\n",
      " ['a' 'u' 'g' 'q' 'h' 'f' 'f' 'f' 'g']\n",
      " ['b' 'y' 'p' 'ff' 'ff' 't' 'f' 't' 'g']\n",
      " ['b' 'u' 'g' 'ff' 'ff' 'f' 'f' 'f' 'g']\n",
      " ['b' 'u' 'g' 'ff' 'ff' 'f' 'f' 'f' 'g']\n",
      " ['b' 'u' 'g' 'k' 'h' 'f' 'f' 't' 's']\n",
      " ['a' 'y' 'p' 'j' 'j' 'f' 'f' 'f' 'g']\n",
      " ['a' 'u' 'g' 'w' 'v' 'f' 'f' 't' 'g']\n",
      " ['b' 'y' 'p' 'c' 'v' 'f' 'f' 't' 'g']\n",
      " ['a' 'u' 'g' 'aa' 'v' 'f' 'f' 'f' 'g']\n",
      " ['a' 'u' 'g' 'd' 'v' 'f' 'f' 'f' 'g']\n",
      " ['b' 'y' 'p' 'aa' 'v' 'f' 'f' 'f' 'g']\n",
      " ['b' 'u' 'g' 'm' 'v' 't' 'f' 't' 's']\n",
      " ['b' 'y' 'p' 'c' 'h' 'f' 'f' 'f' 'g']\n",
      " ['b' 'l' 'gg' 'ff' 'o' 'f' 'f' 't' 'p']\n",
      " ['b' 'y' 'p' 'm' 'bb' 'f' 'f' 't' 's']\n",
      " ['b' 'y' 'p' 'c' 'v' 'f' 'f' 't' 'g']\n",
      " ['b' 'u' 'g' 'w' 'v' 'f' 'f' 'f' 'g']\n",
      " ['a' 'l' 'gg' 'cc' 'ff' 'f' 'f' 't' 's']\n",
      " ['a' 'u' 'g' 'cc' 'v' 'f' 'f' 'f' 'g']\n",
      " ['b' 'y' 'p' 'k' 'v' 't' 't' 'f' 'g']\n",
      " ['b' 'u' 'g' 'w' 'v' 'f' 'f' 'f' 'g']\n",
      " ['a' 'y' 'p' 'x' 'v' 'f' 'f' 'f' 'g']\n",
      " ['b' 'y' 'p' 'c' 'v' 'f' 'f' 'f' 'g']\n",
      " ['?' 'u' 'g' 'i' 'bb' 'f' 'f' 'f' 's']\n",
      " ['b' 'y' 'p' 'w' 'v' 'f' 'f' 'f' 's']\n",
      " ['b' 'y' 'p' 'i' 'v' 'f' 'f' 't' 'g']\n",
      " ['b' '?' '?' '?' '?' 'f' 'f' 'f' 'p']\n",
      " ['a' 'y' 'p' 'c' 'v' 'f' 'f' 't' 'g']\n",
      " ['b' 'u' 'g' 'c' 'v' 'f' 'f' 'f' 'g']\n",
      " ['a' 'u' 'g' 'd' 'v' 'f' 'f' 't' 'g']\n",
      " ['b' 'u' 'g' 'cc' 'bb' 'f' 'f' 'f' 'g']\n",
      " ['b' 'u' 'g' 'q' 'h' 'f' 'f' 't' 'g']\n",
      " ['b' 'u' 'g' 'c' 'v' 'f' 'f' 't' 'g']\n",
      " ['a' 'y' 'p' 'i' 'h' 'f' 'f' 't' 'g']\n",
      " ['a' 'y' 'p' 'aa' 'v' 'f' 'f' 'f' 'g']\n",
      " ['b' 'u' 'g' 'w' 'v' 'f' 'f' 't' 'g']\n",
      " ['a' 'u' 'g' 'c' 'v' 'f' 'f' 'f' 'g']\n",
      " ['b' 'u' 'g' 'aa' 'v' 'f' 'f' 'f' 'g']\n",
      " ['b' 'u' 'g' 'i' 'bb' 'f' 'f' 't' 'g']\n",
      " ['b' 'u' 'g' 'i' 'bb' 'f' 'f' 'f' 'g']\n",
      " ['b' 'u' 'g' 'k' 'v' 'f' 'f' 't' 'g']\n",
      " ['b' 'u' 'g' 'e' 'z' 'f' 'f' 'f' 'g']\n",
      " ['?' 'u' 'g' 'c' 'v' 'f' 'f' 't' 'g']\n",
      " ['b' 'y' 'p' 'c' 'bb' 'f' 'f' 'f' 'g']\n",
      " ['b' 'u' 'g' 'c' 'v' 't' 't' 't' 'g']\n",
      " ['b' 'u' 'g' 'w' 'v' 'f' 't' 't' 'g']\n",
      " ['a' 'u' 'g' 'j' 'j' 'f' 'f' 't' 'g']\n",
      " ['b' 'y' 'p' 'ff' 'ff' 'f' 'f' 'f' 'g']\n",
      " ['b' 'y' 'p' 'm' 'v' 'f' 'f' 't' 'g']\n",
      " ['b' 'u' 'g' 'd' 'v' 'f' 'f' 't' 's']\n",
      " ['b' 'u' 'g' 'i' 'v' 'f' 'f' 't' 'g']\n",
      " ['a' 'u' 'g' 'aa' 'v' 'f' 't' 't' 'g']\n",
      " ['b' 'u' 'g' 'd' 'v' 'f' 'f' 'f' 'g']\n",
      " ['a' 'u' 'g' 'q' 'v' 'f' 'f' 't' 'g']\n",
      " ['b' 'u' 'g' 'd' 'v' 'f' 'f' 't' 'g']\n",
      " ['a' 'u' 'g' 'ff' 'ff' 'f' 'f' 'f' 'g']\n",
      " ['a' 'u' 'g' 'k' 'v' 'f' 'f' 't' 's']\n",
      " ['b' 'u' 'g' 'ff' 'ff' 'f' 'f' 't' 'g']\n",
      " ['b' 'u' 'g' 'k' 'ff' 'f' 'f' 'f' 'g']\n",
      " ['b' 'y' 'p' 'k' 'v' 'f' 'f' 'f' 's']\n",
      " ['b' 'u' 'g' 'e' 'dd' 'f' 't' 'f' 'g']\n",
      " ['b' 'u' 'g' 'm' 'v' 'f' 't' 't' 'g']\n",
      " ['a' 'u' 'g' 'aa' 'v' 'f' 'f' 'f' 'g']\n",
      " ['b' 'y' 'p' 'm' 'v' 'f' 'f' 'f' 's']\n",
      " ['a' 'y' 'p' 'k' 'h' 'f' 'f' 't' 'g']\n",
      " ['b' 'y' 'p' 'r' 'n' 'f' 'f' 't' 'g']\n",
      " ['b' 'y' 'p' 'w' 'v' 'f' 'f' 't' 'g']\n",
      " ['b' 'u' 'g' 'e' 'dd' 'f' 'f' 't' 'g']\n",
      " ['a' 'u' 'g' 'k' 'h' 'f' 'f' 't' 's']\n",
      " ['b' 'u' 'g' 'w' 'v' 'f' 'f' 'f' 'g']\n",
      " ['?' 'u' 'g' 'aa' 'v' 'f' 'f' 'f' 'g']\n",
      " ['a' 'y' 'p' 'e' 'dd' 'f' 'f' 'f' 'g']\n",
      " ['b' 'u' 'g' 'd' 'v' 'f' 'f' 'f' 'g']\n",
      " ['b' 'y' 'p' 'c' 'v' 'f' 'f' 't' 's']\n",
      " ['b' 'u' 'g' 'i' 'bb' 'f' 'f' 't' 'g']\n",
      " ['b' 'u' 'g' 'i' 'bb' 'f' 'f' 't' 's']\n",
      " ['b' 'u' 'g' 'i' 'bb' 'f' 'f' 't' 'g']\n",
      " ['a' 'u' 'g' 'c' 'v' 'f' 'f' 'f' 'g']\n",
      " ['a' 'y' 'p' 'i' 'bb' 'f' 'f' 'f' 'g']\n",
      " ['a' 'y' 'p' 'ff' 'ff' 'f' 'f' 't' 'g']\n",
      " ['b' 'u' 'g' 'k' 'v' 'f' 'f' 't' 'g']\n",
      " ['b' 'y' 'p' 'c' 'v' 'f' 'f' 't' 'g']\n",
      " ['b' 'y' 'p' 'aa' 'v' 'f' 'f' 't' 'g']\n",
      " ['b' 'u' 'g' 'c' 'v' 'f' 'f' 't' 's']\n",
      " ['b' 'u' 'g' 'i' 'bb' 'f' 'f' 't' 'g']\n",
      " ['b' 'u' 'g' 'm' 'v' 'f' 'f' 'f' 's']\n",
      " ['b' 'u' 'g' 'e' 'v' 'f' 'f' 'f' 'g']\n",
      " ['b' 'u' 'g' 'i' 'bb' 'f' 'f' 'f' 'g']\n",
      " ['b' 'u' 'g' 'aa' 'bb' 'f' 'f' 't' 'g']\n",
      " ['b' 'u' 'g' 'm' 'v' 'f' 'f' 't' 'g']\n",
      " ['b' 'y' 'p' 'w' 'v' 'f' 'f' 'f' 'g']\n",
      " ['a' 'u' 'g' 'd' 'v' 'f' 'f' 't' 'g']\n",
      " ['b' 'y' 'p' 'x' 'h' 'f' 'f' 'f' 'g']\n",
      " ['a' 'y' 'p' 'ff' 'ff' 'f' 'f' 'f' 'g']\n",
      " ['b' 'y' 'p' 'k' 'h' 'f' 'f' 't' 'g']\n",
      " ['b' 'u' 'g' 'c' 'v' 'f' 'f' 'f' 'g']\n",
      " ['b' 'y' 'p' 'j' 'v' 'f' 'f' 'f' 'g']\n",
      " ['b' 'u' 'g' 'c' 'v' 'f' 'f' 'f' 'g']\n",
      " ['a' 'u' 'g' 'i' 'bb' 'f' 'f' 't' 'g']\n",
      " ['a' 'u' 'g' 'q' 'v' 'f' 'f' 'f' 's']\n",
      " ['b' 'y' 'p' 'i' 'bb' 'f' 'f' 't' 'g']\n",
      " ['a' 'u' 'g' 'ff' 'ff' 'f' 'f' 'f' 's']\n",
      " ['a' 'y' 'p' 'k' 'v' 'f' 't' 'f' 'g']\n",
      " ['a' 'y' 'p' 'c' 'v' 'f' 't' 'f' 'g']\n",
      " ['b' 'u' 'g' 'w' 'v' 'f' 't' 'f' 'g']\n",
      " ['b' 'u' 'g' 'q' 'v' 'f' 't' 'f' 'g']\n",
      " ['b' 'u' 'g' 'ff' 'ff' 'f' 't' 'f' 'g']\n",
      " ['b' 'u' 'g' 'c' 'v' 'f' 't' 'f' 'g']\n",
      " ['a' 'u' 'g' 'i' 'v' 'f' 'f' 'f' 'g']\n",
      " ['b' 'u' 'g' 'i' 'bb' 'f' 'f' 'f' 's']\n",
      " ['b' 'u' 'g' 'k' 'v' 'f' 'f' 't' 'g']\n",
      " ['a' 'y' 'p' 'ff' 'ff' 'f' 'f' 'f' 'g']\n",
      " ['b' 'y' 'p' 'k' 'v' 'f' 'f' 'f' 'g']\n",
      " ['b' 'u' 'g' 'c' 'v' 'f' 'f' 't' 'g']\n",
      " ['b' 'u' 'g' 'c' 'v' 'f' 't' 'f' 'g']\n",
      " ['a' 'y' 'p' 'ff' 'ff' 'f' 'f' 't' 'g']\n",
      " ['b' 'u' 'g' 'i' 'v' 'f' 'f' 't' 'g']\n",
      " ['b' 'u' 'g' 'q' 'v' 'f' 'f' 'f' 'g']\n",
      " ['b' 'u' 'g' 'w' 'v' 'f' 'f' 'f' 'g']\n",
      " ['b' 'u' 'g' 'cc' 'v' 'f' 'f' 'f' 'g']\n",
      " ['b' 'u' 'g' 'c' 'v' 'f' 'f' 'f' 'p']\n",
      " ['b' 'u' 'g' 'c' 'v' 'f' 'f' 'f' 'g']\n",
      " ['a' 'u' 'g' 'w' 'v' 'f' 'f' 't' 'g']\n",
      " ['b' 'u' 'g' 'e' 'v' 'f' 'f' 'f' 'g']\n",
      " ['b' 'u' 'g' 'ff' 'ff' 'f' 'f' 'f' 'g']\n",
      " ['b' 'y' 'p' 'cc' 'v' 'f' 'f' 'f' 'g']\n",
      " ['b' 'y' 'p' 'ff' 'ff' 'f' 'f' 'f' 'g']\n",
      " ['b' 'y' 'p' 'c' 'v' 'f' 'f' 'f' 'g']\n",
      " ['b' 'u' 'g' 'k' 'v' 'f' 'f' 't' 'g']\n",
      " ['b' 'u' 'g' 'aa' 'v' 'f' 'f' 'f' 'g']\n",
      " ['b' 'u' 'g' 'c' 'v' 'f' 'f' 't' 'g']\n",
      " ['b' 'y' 'p' 'ff' 'ff' 'f' 't' 'f' 'g']\n",
      " ['b' 'u' 'g' 'ff' 'ff' 'f' 't' 'f' 'g']\n",
      " ['a' 'u' 'g' 'ff' 'ff' 'f' 'f' 't' 's']\n",
      " ['a' 'u' 'g' 'ff' 'ff' 'f' 't' 'f' 'g']\n",
      " ['b' 'u' 'g' 'k' 'v' 'f' 't' 't' 'g']\n",
      " ['b' 'u' 'g' 'k' 'v' 'f' 't' 'f' 's']\n",
      " ['b' 'u' 'g' 'ff' 'ff' 'f' 't' 'f' 'g']\n",
      " ['b' 'y' 'p' 'm' 'v' 'f' 'f' 't' 's']\n",
      " ['b' 'u' 'g' 'k' 'v' 'f' 'f' 't' 'g']\n",
      " ['a' 'y' 'p' 'j' 'ff' 'f' 'f' 'f' 'g']\n",
      " ['a' 'u' 'g' 'ff' 'ff' 'f' 'f' 'f' 'g']\n",
      " ['b' 'u' 'g' 'c' 'v' 'f' 'f' 'f' 'g']\n",
      " ['a' 'u' 'g' 'ff' 'ff' 'f' 'f' 'f' 'g']\n",
      " ['b' 'u' 'g' 'ff' 'ff' 'f' 't' 'f' 'g']\n",
      " ['b' 'u' 'g' 'c' 'v' 'f' 'f' 'f' 'g']\n",
      " ['b' 'y' 'p' 'i' 'bb' 'f' 'f' 'f' 'g']\n",
      " ['b' 'u' 'g' 'c' 'v' 'f' 'f' 'f' 'g']\n",
      " ['b' 'u' 'g' 'q' 'v' 'f' 'f' 'f' 'g']\n",
      " ['?' 'u' 'g' 'w' 'v' 'f' 'f' 't' 'g']\n",
      " ['b' 'u' 'g' 'd' 'v' 'f' 'f' 't' 'g']\n",
      " ['b' 'u' 'g' 'w' 'v' 'f' 'f' 'f' 'g']\n",
      " ['b' '?' '?' '?' '?' 'f' 'f' 'f' 'p']\n",
      " ['b' 'y' 'p' 'c' 'v' 'f' 'f' 'f' 'g']\n",
      " ['b' 'u' 'g' 'i' 'bb' 'f' 'f' 'f' 'g']\n",
      " ['b' 'y' 'p' 'c' 'v' 'f' 'f' 't' 'g']\n",
      " ['a' 'y' 'p' 'c' 'v' 'f' 'f' 'f' 'g']\n",
      " ['b' 'u' 'g' 'm' 'v' 'f' 't' 'f' 'g']\n",
      " ['b' 'u' 'g' 'c' 'v' 'f' 'f' 'f' 'g']\n",
      " ['a' 'u' 'g' 'ff' 'ff' 'f' 't' 'f' 'g']\n",
      " ['a' 'u' 'g' 'j' 'j' 'f' 't' 'f' 'g']\n",
      " ['a' 'u' 'g' 'm' 'v' 'f' 't' 't' 'g']\n",
      " ['b' 'u' 'g' 'c' 'v' 'f' 't' 't' 'g']\n",
      " ['a' 'u' 'g' 'w' 'h' 'f' 't' 'f' 'g']\n",
      " ['b' 'u' 'g' 'k' 'v' 'f' 'f' 'f' 'g']\n",
      " ['b' 'u' 'g' 'i' 'h' 'f' 'f' 't' 'g']\n",
      " ['a' 'u' 'g' 'k' 'h' 'f' 'f' 'f' 'g']\n",
      " ['b' 'y' 'p' 'i' 'h' 'f' 'f' 'f' 'g']\n",
      " ['b' 'u' 'g' 'i' 'v' 'f' 'f' 'f' 'g']\n",
      " ['b' 'y' 'p' 'i' 'v' 'f' 'f' 't' 'g']\n",
      " ['b' 'u' 'g' 'c' 'v' 'f' 'f' 'f' 'g']\n",
      " ['b' 'u' 'g' 'd' 'v' 'f' 'f' 't' 'g']\n",
      " ['b' 'u' 'g' 'i' 'h' 'f' 'f' 't' 'g']\n",
      " ['b' 'y' 'p' 'i' 'h' 'f' 'f' 't' 's']\n",
      " ['b' 'u' 'g' 'i' 'v' 'f' 'f' 'f' 'g']\n",
      " ['?' 'y' 'p' '?' '?' 'f' 'f' 'f' 's']\n",
      " ['a' 'u' 'g' 'i' 'v' 'f' 't' 't' 'g']\n",
      " ['b' 'y' 'p' 'k' 'v' 'f' 't' 't' 'g']\n",
      " ['a' 'u' 'g' 'aa' 'v' 'f' 't' 't' 'g']\n",
      " ['b' 'y' 'p' 'c' 'v' 'f' 't' 'f' 'g']\n",
      " ['b' 'u' 'g' 'm' 'v' 'f' 'f' 'f' 's']\n",
      " ['b' 'y' 'p' 'ff' 'ff' 'f' 't' 'f' 'g']\n",
      " ['b' 'y' 'p' 'k' 'v' 'f' 'f' 'f' 'g']\n",
      " ['b' 'y' 'p' 'aa' 'v' 'f' 'f' 't' 'g']\n",
      " ['b' 'y' 'p' 'ff' 'ff' 'f' 'f' 't' 'g']\n",
      " ['?' 'u' 'g' 'q' 'v' 'f' 'f' 't' 'g']\n",
      " ['a' 'u' 'g' 'q' 'h' 't' 't' 'f' 'g']\n",
      " ['b' 'u' 'g' 'q' 'v' 't' 't' 't' 'g']\n",
      " ['b' 'u' 'g' 'm' 'v' 't' 't' 'f' 'g']\n",
      " ['a' 'u' 'g' 'c' 'h' 't' 'f' 'f' 'g']\n",
      " ['a' 'y' 'p' 'c' 'h' 't' 'f' 'f' 'g']\n",
      " ['b' 'u' 'g' 'w' 'v' 't' 'f' 'f' 'g']\n",
      " ['a' 'u' 'g' 'x' 'h' 't' 'f' 't' 'g']\n",
      " ['b' 'u' 'g' 'c' 'v' 't' 't' 't' 'g']\n",
      " ['b' 'u' 'g' 'c' 'v' 't' 't' 't' 'g']\n",
      " ['b' 'u' 'g' 'c' 'v' 't' 't' 'f' 'g']\n",
      " ['b' 'u' 'g' 'x' 'v' 't' 't' 't' 'g']\n",
      " ['b' 'u' 'g' 'cc' 'v' 't' 't' 't' 'g']\n",
      " ['a' 'u' 'g' 'ff' 'ff' 't' 't' 'f' 'g']\n",
      " ['b' 'u' 'g' 'x' 'v' 't' 't' 'f' 'g']\n",
      " ['a' 'u' 'g' 'c' 'v' 't' 't' 't' 'g']\n",
      " ['b' 'u' 'g' 'c' 'v' 't' 't' 'f' 'g']\n",
      " ['a' 'u' 'g' 'aa' 'v' 't' 't' 'f' 'g']\n",
      " ['a' 'u' 'g' 'q' 'h' 't' 't' 'f' 'g']\n",
      " ['a' 'u' 'g' 'c' 'v' 't' 't' 'f' 'g']\n",
      " ['b' 'y' 'p' 'w' 'v' 't' 't' 't' 'g']\n",
      " ['b' 'y' 'p' 'w' 'v' 't' 't' 't' 'g']\n",
      " ['a' 'u' 'g' 'j' 'j' 't' 'f' 'f' 'g']\n",
      " ['a' 'u' 'g' 'c' 'v' 't' 'f' 'f' 'g']\n",
      " ['b' 'u' 'g' 'e' 'dd' 't' 'f' 'f' 'g']\n",
      " ['b' 'y' 'p' 'c' 'h' 't' 'f' 'f' 'g']\n",
      " ['b' 'u' 'g' 'x' 'v' 't' 'f' 'f' 'g']\n",
      " ['a' 'u' 'g' 'aa' 'v' 't' 't' 'f' 'g']\n",
      " ['b' 'u' 'g' 'c' 'v' 't' 't' 't' 'g']\n",
      " ['a' 'u' 'g' 'q' 'v' 't' 't' 'f' 'g']\n",
      " ['b' 'u' 'g' 'x' 'v' 't' 't' 't' 'g']\n",
      " ['?' 'u' 'g' 'k' 'v' 't' 't' 'f' 'g']\n",
      " ['a' 'u' 'g' 'e' 'dd' 't' 't' 't' 'g']\n",
      " ['b' 'u' 'g' 'm' 'v' 't' 't' 'f' 'g']\n",
      " ['a' 'u' 'g' 'q' 'v' 't' 't' 'f' 'g']\n",
      " ['a' 'u' 'g' 'q' 'v' 't' 'f' 't' 'g']\n",
      " ['b' 'u' 'g' 'c' 'v' 't' 'f' 't' 'g']\n",
      " ['b' 'u' 'g' 'k' 'v' 't' 'f' 'f' 'g']\n",
      " ['a' 'u' 'g' 'i' 'bb' 't' 'f' 't' 'g']\n",
      " ['a' 'u' 'g' 'k' 'h' 't' 't' 't' 'g']\n",
      " ['b' 'u' 'g' 'q' 'h' 't' 't' 'f' 'g']\n",
      " ['a' 'u' 'g' 'c' 'h' 't' 'f' 't' 'g']\n",
      " ['a' 'u' 'g' 'aa' 'h' 't' 'f' 'f' 'g']\n",
      " ['b' 'u' 'g' 'i' 'bb' 't' 'f' 'f' 'g']\n",
      " ['b' 'u' 'g' 'ff' 'ff' 't' 'f' 'f' 'g']\n",
      " ['b' 'u' 'g' 'aa' 'v' 't' 'f' 't' 'g']\n",
      " ['a' 'y' 'p' 'ff' 'ff' 't' 'f' 'f' 'g']\n",
      " ['a' 'u' 'g' 'ff' 'ff' 't' 'f' 'f' 'g']\n",
      " ['b' 'u' 'g' 'x' 'h' 't' 'f' 't' 'g']\n",
      " ['b' 'u' 'g' 'w' 'bb' 't' 'f' 't' 'g']\n",
      " ['b' 'u' 'g' '?' '?' 't' 'f' 'f' 'g']\n",
      " ['b' 'y' 'p' 'cc' 'v' 't' 'f' 't' 'g']\n",
      " ['b' 'u' 'g' 'i' 'bb' 't' 'f' 'f' 'g']\n",
      " ['b' 'y' 'p' 'k' 'h' 't' 'f' 't' 'g']\n",
      " ['b' 'u' 'g' 'w' 'v' 't' 'f' 't' 'g']\n",
      " ['b' 'y' 'p' 'i' 'bb' 't' 't' 't' 'g']\n",
      " ['b' 'y' 'p' 'd' 'v' 't' 'f' 'f' 's']\n",
      " ['b' 'y' 'p' 'w' 'v' 't' 't' 't' 'g']\n",
      " ['b' 'u' 'g' 'd' 'h' 't' 't' 'f' 'g']\n",
      " ['b' 'u' 'g' 'x' 'v' 't' 't' 't' 'g']\n",
      " ['b' 'u' 'g' 'm' 'v' 't' 'f' 'f' 's']\n",
      " ['b' 'u' 'g' 'e' 'z' 't' 't' 't' 'g']\n",
      " ['b' 'u' 'g' 'i' 'bb' 't' 't' 'f' 'g']\n",
      " ['b' 'u' 'g' 'r' 'n' 't' 't' 't' 'g']\n",
      " ['b' 'u' 'g' 'w' 'v' 't' 't' 'f' 'g']\n",
      " ['a' 'y' 'p' 'x' 'h' 't' 't' 'f' 'g']\n",
      " ['b' 'u' 'g' 'c' 'h' 't' 't' 'f' 'g']\n",
      " ['b' 'u' 'g' 'w' 'v' 't' 't' 't' 'g']\n",
      " ['a' 'u' 'g' 'w' 'v' 't' 't' 'f' 'g']\n",
      " ['b' 'u' 'g' 'x' 'h' 't' 'f' 'f' 'g']\n",
      " ['a' 'u' 'g' 'q' 'h' 't' 't' 't' 'g']\n",
      " ['a' 'u' 'g' 'cc' 'h' 't' 't' 'f' 'g']\n",
      " ['b' 'u' 'g' 'x' 'h' 't' 'f' 'f' 'g']\n",
      " ['b' 'u' 'g' 'c' 'h' 't' 'f' 'f' 'g']\n",
      " ['b' 'u' 'g' 'q' 'h' 't' 'f' 't' 'g']\n",
      " ['b' 'u' 'g' 'q' 'h' 't' 'f' 't' 'g']\n",
      " ['a' 'u' 'g' 'aa' 'v' 't' 'f' 'f' 'g']\n",
      " ['b' 'u' 'g' 'w' 'h' 't' 't' 't' 'g']\n",
      " ['a' 'u' 'g' 'x' 'h' 't' 'f' 'f' 'g']\n",
      " ['b' 'y' 'p' 'c' 'v' 't' 't' 't' 'g']\n",
      " ['a' 'u' 'g' 'aa' 'v' 't' 't' 'f' 'g']\n",
      " ['b' 'u' 'g' 'w' 'v' 't' 't' 't' 'g']\n",
      " ['b' 'y' 'p' 'd' 'v' 't' 't' 't' 'g']\n",
      " ['b' 'y' 'p' 'x' 'v' 't' 't' 't' 'g']\n",
      " ['a' 'u' 'g' 'ff' 'ff' 't' 't' 't' 'g']\n",
      " ['a' 'u' 'g' 'c' 'h' 't' 't' 'f' 'g']\n",
      " ['b' 'y' 'p' 'c' 'h' 't' 't' 't' 'g']\n",
      " ['b' 'u' 'g' 'c' 'v' 't' 't' 'f' 'g']\n",
      " ['b' 'u' 'g' 'c' 'v' 't' 't' 'f' 'g']\n",
      " ['b' 'u' 'g' 'c' 'v' 't' 't' 'f' 'g']\n",
      " ['b' 'u' 'g' 'm' 'v' 't' 't' 't' 'g']\n",
      " ['b' 'u' 'g' 'x' 'v' 't' 't' 't' 'g']\n",
      " ['b' 'u' 'g' 'e' 'v' 'f' 't' 'f' 's']\n",
      " ['b' 'u' 'g' 'm' 'v' 't' 'f' 't' 'g']\n",
      " ['b' 'y' 'p' 'w' 'h' 't' 'f' 't' 'g']\n",
      " ['a' 'y' 'p' 'e' 'z' 't' 'f' 'f' 'g']\n",
      " ['b' 'u' 'g' 'ff' 'ff' 't' 'f' 't' 'g']\n",
      " ['b' 'u' 'g' 'x' 'h' 't' 't' 't' 'g']\n",
      " ['b' 'u' 'g' 'c' 'v' 't' 't' 'f' 'g']\n",
      " ['b' 'y' 'p' 'c' 'v' 't' 't' 't' 'g']\n",
      " ['b' 'u' 'g' 'c' 'v' 't' 't' 't' 'g']\n",
      " ['b' 'u' 'g' 'cc' 'v' 't' 't' 'f' 'g']\n",
      " ['b' 'u' 'g' 'c' 'h' 't' 't' 't' 'g']\n",
      " ['b' '?' '?' '?' '?' 'f' 'f' 'f' 'p']\n",
      " ['b' 'u' 'g' 'w' 'v' 'f' 'f' 't' 'g']\n",
      " ['b' 'u' 'g' 'k' 'v' 't' 'f' 't' 'g']\n",
      " ['b' 'u' 'g' 'c' 'bb' 't' 'f' 'f' 'g']\n",
      " ['a' 'u' 'g' 'c' 'v' 't' 't' 't' 'g']\n",
      " ['a' 'u' 'g' 'aa' 'v' 't' 't' 'f' 'g']\n",
      " ['?' 'u' 'g' 'q' 'v' 'f' 't' 'f' 'g']\n",
      " ['b' 'u' 'g' 'c' 'v' 't' 't' 't' 'g']\n",
      " ['a' 'u' 'g' 'k' 'v' 't' 't' 'f' 'g']\n",
      " ['?' 'y' 'p' '?' '?' 'f' 'f' 't' 'g']\n",
      " ['b' 'y' 'p' 'k' 'v' 'f' 'f' 'f' 'g']\n",
      " ['b' 'u' 'g' 'q' 'v' 'f' 'f' 'f' 'g']\n",
      " ['b' 'u' 'g' 'c' 'h' 't' 'f' 'f' 'g']\n",
      " ['a' 'y' 'p' 'k' 'v' 'f' 'f' 't' 'g']\n",
      " ['b' 'u' 'g' 'c' 'v' 'f' 'f' 'f' 'g']\n",
      " ['b' 'u' 'g' 'k' 'v' 'f' 'f' 't' 'g']\n",
      " ['b' 'y' 'p' 'd' 'v' 'f' 'f' 't' 'g']\n",
      " ['b' 'u' 'g' 'x' 'bb' 'f' 'f' 't' 'g']\n",
      " ['b' 'y' 'p' 'k' 'v' 'f' 'f' 'f' 'g']\n",
      " ['b' 'y' 'p' 'q' 'h' 'f' 't' 't' 'g']\n",
      " ['b' 'u' 'g' 'w' 'v' 'f' 't' 'f' 'g']\n",
      " ['b' 'u' 'g' 'c' 'bb' 'f' 't' 't' 'g']\n",
      " ['a' 'u' 'g' 'c' 'v' 'f' 'f' 'f' 'g']\n",
      " ['b' 'u' 'g' 'c' 'h' 'f' 't' 't' 'g']\n",
      " ['b' 'u' 'g' 'i' 'v' 'f' 't' 't' 'g']\n",
      " ['b' 'y' 'p' 'ff' 'ff' 'f' 't' 'f' 'g']\n",
      " ['b' 'u' 'g' 'm' 'v' 'f' 't' 't' 'g']\n",
      " ['b' 'y' 'p' 'aa' 'v' 't' 'f' 'f' 'g']\n",
      " ['b' 'u' 'g' 'i' 'v' 'f' 'f' 'f' 'g']\n",
      " ['b' 'u' 'g' 'c' 'j' 'f' 'f' 't' 's']\n",
      " ['a' '?' '?' '?' '?' 'f' 'f' 'f' 'p']\n",
      " ['b' 'u' 'g' 'q' 'v' 'f' 'f' 'f' 'g']\n",
      " ['b' 'y' 'p' 'cc' 'v' 'f' 'f' 'f' 'g']\n",
      " ['b' 'u' 'g' 'c' 'v' 'f' 'f' 'f' 's']\n",
      " ['b' 'y' 'p' 'i' 'bb' 'f' 'f' 't' 'g']\n",
      " ['b' 'u' 'g' 'ff' 'ff' 'f' 'f' 'f' 'g']\n",
      " ['b' 'u' 'g' 'd' 'h' 'f' 'f' 'f' 'g']\n",
      " ['a' 'u' 'g' 'w' 'v' 'f' 'f' 'f' 'g']\n",
      " ['a' 'u' 'g' 'q' 'v' 'f' 'f' 't' 'g']\n",
      " ['a' 'u' 'g' 'm' 'h' 'f' 't' 't' 'g']\n",
      " ['a' 'u' 'g' 'ff' 'ff' 'f' 'f' 'f' 'g']\n",
      " ['b' 'y' 'p' 'k' 'ff' 'f' 'f' 'f' 'g']\n",
      " ['a' 'u' 'g' 'w' 'v' 'f' 't' 't' 'g']\n",
      " ['b' 'u' 'g' 'c' 'n' 'f' 't' 't' 'g']\n",
      " ['b' 'y' 'p' 'm' 'v' 'f' 'f' 't' 'g']\n",
      " ['b' 'u' 'g' 'aa' 'v' 'f' 'f' 'f' 'g']\n",
      " ['b' 'u' 'g' 'aa' 'v' 'f' 'f' 't' 'g']\n",
      " ['b' 'u' 'g' 'k' 'v' 'f' 'f' 't' 'g']\n",
      " ['b' 'u' 'g' 'i' 'bb' 'f' 'f' 't' 'g']\n",
      " ['?' 'y' 'p' 'cc' 'v' 'f' 'f' 't' 'g']\n",
      " ['b' 'y' 'p' 'aa' 'v' 'f' 'f' 't' 'g']\n",
      " ['a' 'u' 'g' 'aa' 'h' 'f' 'f' 'f' 'g']\n",
      " ['b' 'y' 'p' 'w' 'v' 'f' 'f' 't' 'g']\n",
      " ['b' 'u' 'g' 'cc' 'v' 'f' 'f' 't' 'g']\n",
      " ['a' 'u' 'g' 'c' 'v' 'f' 'f' 'f' 'g']\n",
      " ['b' 'u' 'g' 'aa' 'v' 'f' 'f' 't' 'g']\n",
      " ['b' 'u' 'g' 'k' 'h' 'f' 'f' 't' 'g']\n",
      " ['a' 'u' 'g' 'ff' 'ff' 'f' 't' 'f' 'g']\n",
      " ['b' 'u' 'g' 'i' 'bb' 'f' 'f' 'f' 'g']\n",
      " ['a' 'u' 'g' 'q' 'v' 'f' 't' 't' 'g']\n",
      " ['a' 'u' 'g' 'i' 'v' 'f' 'f' 't' 's']\n",
      " ['b' 'u' 'g' 'i' 'v' 't' 'f' 't' 'g']\n",
      " ['a' 'u' 'g' 'q' 'v' 'f' 't' 't' 'g']\n",
      " ['a' 'y' 'p' 'ff' 'ff' 'f' 'f' 'f' 'g']\n",
      " ['b' 'u' 'g' 'c' 'h' 'f' 't' 't' 'g']\n",
      " ['a' 'u' 'g' 'aa' 'v' 'f' 'f' 'f' 'g']\n",
      " ['a' 'u' 'g' 'c' 'v' 'f' 'f' 'f' 'g']\n",
      " ['a' 'u' 'g' 'c' 'v' 'f' 't' 't' 'g']\n",
      " ['b' 'u' 'g' 'aa' 'v' 'f' 'f' 'f' 'g']\n",
      " ['b' 'u' 'g' 'c' 'v' 'f' 'f' 'f' 'g']\n",
      " ['a' 'u' 'g' 'w' 'v' 'f' 'f' 't' 'g']\n",
      " ['b' 'y' 'p' 'cc' 'v' 'f' 'f' 't' 'g']\n",
      " ['b' 'y' 'p' 'w' 'v' 'f' 'f' 'f' 's']\n",
      " ['b' 'y' 'p' 'm' 'v' 'f' 'f' 'f' 'g']\n",
      " ['a' 'u' 'g' 'c' 'v' 'f' 'f' 't' 'g']\n",
      " ['a' 'u' 'g' 'c' 'v' 'f' 't' 't' 'g']\n",
      " ['b' 'u' 'g' 'd' 'h' 'f' 'f' 't' 's']\n",
      " ['b' 'y' 'p' 'ff' 'ff' 'f' 'f' 'f' 'g']\n",
      " ['b' 'u' 'g' 'w' 'v' 'f' 'f' 'f' 'g']\n",
      " ['b' 'u' 'g' 'cc' 'v' 'f' 'f' 'f' 'g']\n",
      " ['a' 'u' 'g' 'aa' 'v' 'f' 'f' 't' 'g']\n",
      " ['?' 'y' 'p' 'e' 'h' 'f' 'f' 'f' 'g']\n",
      " ['a' 'u' 'g' 'i' 'h' 'f' 'f' 'f' 'g']\n",
      " ['a' 'u' 'g' 'aa' 'v' 'f' 'f' 'f' 'g']\n",
      " ['a' 'u' 'g' 'q' 'h' 'f' 't' 't' 'g']\n",
      " ['b' 'u' 'g' 'm' 'v' 'f' 't' 'f' 'g']\n",
      " ['a' 'u' 'g' 'ff' 'ff' 'f' 'f' 'f' 'g']\n",
      " ['a' 'u' 'g' 'c' 'v' 'f' 'f' 'f' 'g']\n",
      " ['b' 'u' 'g' 'k' 'v' 'f' 'f' 'f' 'g']\n",
      " ['b' 'y' 'p' 'd' 'h' 'f' 'f' 'f' 'g']\n",
      " ['b' 'u' 'g' 'i' 'v' 'f' 'f' 't' 'g']\n",
      " ['b' 'y' 'p' 'd' 'v' 'f' 'f' 'f' 'g']\n",
      " ['b' 'u' 'g' 'm' 'v' 'f' 'f' 't' 's']\n",
      " ['b' 'y' 'p' 'e' 'h' 'f' 'f' 'f' 'g']\n",
      " ['a' 'u' 'g' 'c' 'v' 'f' 't' 't' 'g']\n",
      " ['a' 'y' 'p' 'ff' 'ff' 'f' 't' 't' 'g']\n",
      " ['b' 'u' 'g' 'aa' 'v' 'f' 'f' 'f' 'g']\n",
      " ['b' 'u' 'g' 'c' 'h' 'f' 'f' 't' 'g']]\n"
     ]
    }
   ],
   "source": [
    "X_cat = credit_data.loc[:,col_cat].to_numpy()\n",
    "print(X_cat)"
   ],
   "metadata": {
    "collapsed": false,
    "pycharm": {
     "name": "#%%\n"
    }
   }
  },
  {
   "cell_type": "code",
   "execution_count": 302,
   "outputs": [],
   "source": [
    "from sklearn.impute import SimpleImputer as Imputer\n",
    "X_cat = np.copy(credit_data.loc[:,col_cat].to_numpy())\n",
    "for col_id in range(len(col_cat)):\n",
    "    unique_val, val_idx = np.unique(X_cat[:, col_id], return_inverse=True)\n",
    "    X_cat[:, col_id] = val_idx\n",
    "imp_cat = Imputer(missing_values=0, strategy='most_frequent')\n",
    "X_cat[:, range(5)] = imp_cat.fit_transform(X_cat[:, range(5)])"
   ],
   "metadata": {
    "collapsed": false,
    "pycharm": {
     "name": "#%%\n"
    }
   }
  },
  {
   "cell_type": "code",
   "execution_count": 303,
   "outputs": [
    {
     "name": "stdout",
     "output_type": "stream",
     "text": [
      "[[2 2 1 13 8 1 1 0 0]\n",
      " [1 2 1 11 4 1 1 0 0]\n",
      " [1 2 1 11 4 1 0 0 0]\n",
      " [2 2 1 13 8 1 1 1 0]\n",
      " [2 2 1 13 8 1 0 0 2]\n",
      " [2 2 1 10 8 1 0 1 0]\n",
      " [2 2 1 12 4 1 0 1 0]\n",
      " [1 2 1 3 8 1 0 0 0]\n",
      " [2 3 3 9 4 1 0 0 0]\n",
      " [2 3 3 13 8 1 0 1 0]\n",
      " [2 2 1 2 4 0 0 1 0]\n",
      " [2 2 1 2 4 1 0 0 0]\n",
      " [1 2 1 9 8 1 0 1 0]\n",
      " [2 2 1 9 8 0 0 0 0]\n",
      " [1 2 1 11 8 1 1 1 0]\n",
      " [2 3 3 9 8 1 1 1 0]\n",
      " [2 2 1 10 8 1 1 1 0]\n",
      " [1 2 1 11 8 1 1 0 0]\n",
      " [2 2 1 4 4 1 0 1 0]\n",
      " [1 2 1 3 4 1 1 0 0]\n",
      " [2 2 1 2 8 1 1 0 0]\n",
      " [2 2 1 2 8 1 0 0 2]\n",
      " [1 2 1 2 8 1 1 1 0]\n",
      " [1 2 1 14 4 1 1 0 0]\n",
      " [1 2 1 11 8 1 1 1 0]\n",
      " [1 2 1 2 4 1 1 0 0]\n",
      " [1 2 1 7 1 1 1 1 0]\n",
      " [2 2 1 4 1 1 1 1 0]\n",
      " [2 2 1 5 4 1 1 0 0]\n",
      " [2 2 1 13 8 1 1 1 0]\n",
      " [2 2 1 1 8 1 1 1 0]\n",
      " [2 2 1 14 4 1 1 0 0]\n",
      " [2 2 1 7 1 1 1 1 0]\n",
      " [1 2 1 5 8 1 0 1 0]\n",
      " [1 2 1 11 8 1 1 1 0]\n",
      " [2 2 1 13 8 1 1 1 0]\n",
      " [2 2 1 3 4 1 1 1 0]\n",
      " [1 2 1 14 4 1 1 1 0]\n",
      " [2 3 3 3 8 1 1 0 0]\n",
      " [2 2 1 6 3 1 1 1 0]\n",
      " [2 2 1 2 8 1 1 1 0]\n",
      " [2 2 1 2 4 1 1 0 0]\n",
      " [2 2 1 13 4 1 1 0 0]\n",
      " [2 2 1 13 8 1 1 1 0]\n",
      " [2 3 3 2 8 1 1 0 0]\n",
      " [2 2 1 2 4 1 1 1 0]\n",
      " [1 3 3 11 4 1 1 1 0]\n",
      " [2 2 1 3 4 1 1 0 0]\n",
      " [2 2 1 7 1 0 0 0 0]\n",
      " [2 2 1 2 8 0 0 0 0]\n",
      " [1 2 1 2 4 1 0 1 0]\n",
      " [2 2 1 11 8 1 0 1 0]\n",
      " [2 2 1 13 8 1 0 1 0]\n",
      " [2 2 1 13 8 1 0 1 0]\n",
      " [2 2 1 3 4 1 0 1 0]\n",
      " [2 3 3 13 8 1 0 1 0]\n",
      " [2 2 1 3 8 1 0 0 0]\n",
      " [2 2 1 7 4 1 0 1 0]\n",
      " [2 2 1 14 4 0 0 1 2]\n",
      " [2 2 1 11 4 1 1 0 0]\n",
      " [2 2 1 10 8 1 1 1 0]\n",
      " [2 2 1 4 8 1 1 0 0]\n",
      " [1 3 3 11 8 1 1 1 0]\n",
      " [1 2 1 11 8 1 1 0 0]\n",
      " [2 2 1 3 8 1 1 1 0]\n",
      " [2 2 1 3 8 1 1 1 0]\n",
      " [1 2 1 2 8 1 1 0 0]\n",
      " [2 2 1 10 8 1 1 0 0]\n",
      " [2 2 1 13 4 1 1 0 0]\n",
      " [2 2 1 14 4 1 1 1 0]\n",
      " [2 2 1 5 1 1 0 1 2]\n",
      " [2 2 1 4 1 1 0 1 0]\n",
      " [1 2 1 3 8 1 0 1 0]\n",
      " [2 2 1 10 8 1 0 0 2]\n",
      " [2 3 3 2 8 0 0 0 0]\n",
      " [2 2 1 11 8 1 1 0 0]\n",
      " [2 2 1 1 8 1 0 1 0]\n",
      " [1 3 3 1 8 1 0 1 0]\n",
      " [2 3 3 9 8 1 1 0 0]\n",
      " [2 2 1 2 8 1 0 0 0]\n",
      " [2 2 1 6 3 1 1 0 0]\n",
      " [1 2 1 10 8 1 0 0 2]\n",
      " [2 2 1 10 8 1 0 0 2]\n",
      " [1 2 1 4 8 1 0 1 0]\n",
      " [2 2 1 1 8 1 0 1 0]\n",
      " [2 2 1 2 1 1 0 1 2]\n",
      " [2 2 1 4 8 1 0 1 2]\n",
      " [2 3 3 1 8 1 0 0 0]\n",
      " [2 2 1 1 8 1 0 1 0]\n",
      " [1 2 1 8 5 1 0 1 0]\n",
      " [2 3 3 2 4 1 0 0 0]\n",
      " [2 2 1 2 8 1 0 0 0]\n",
      " [2 3 3 1 8 1 0 0 0]\n",
      " [2 3 3 2 4 1 0 1 0]\n",
      " [2 3 3 2 8 1 0 1 0]\n",
      " [1 2 1 7 1 1 0 1 0]\n",
      " [2 3 3 1 8 1 0 0 0]\n",
      " [2 2 1 2 1 1 0 1 2]\n",
      " [1 3 3 11 8 1 0 1 0]\n",
      " [1 2 1 11 8 1 1 1 0]\n",
      " [2 3 3 2 1 1 0 1 0]\n",
      " [2 3 3 2 8 1 0 0 0]\n",
      " [2 2 1 11 8 1 1 0 0]\n",
      " [2 2 1 9 8 1 1 1 0]\n",
      " [2 3 3 7 4 1 1 1 0]\n",
      " [2 2 1 5 9 1 1 0 0]\n",
      " [2 2 1 9 8 1 0 0 2]\n",
      " [1 3 3 1 8 1 0 0 0]\n",
      " [2 3 3 14 4 1 0 1 0]\n",
      " [1 2 1 2 8 1 1 1 0]\n",
      " [2 2 1 13 8 1 1 1 0]\n",
      " [1 3 3 6 3 1 1 0 0]\n",
      " [2 2 1 13 8 1 0 1 0]\n",
      " [1 2 1 9 1 1 1 1 0]\n",
      " [2 3 3 2 4 1 1 1 0]\n",
      " [1 2 1 11 8 1 1 0 0]\n",
      " [2 2 1 11 4 1 1 1 0]\n",
      " [2 2 1 9 8 1 1 0 0]\n",
      " [2 2 1 10 8 1 1 1 0]\n",
      " [1 2 1 3 4 1 1 1 0]\n",
      " [2 2 1 11 8 1 1 0 0]\n",
      " [2 2 1 3 8 1 1 1 0]\n",
      " [1 2 1 1 8 1 1 1 0]\n",
      " [1 2 1 11 8 1 1 1 0]\n",
      " [1 2 1 11 8 1 1 1 0]\n",
      " [2 2 1 14 4 1 1 1 0]\n",
      " [2 2 1 10 1 1 1 1 0]\n",
      " [2 2 1 11 8 1 1 1 0]\n",
      " [2 2 1 7 1 1 1 0 0]\n",
      " [1 2 1 13 8 1 0 0 2]\n",
      " [2 2 1 5 9 1 1 1 0]\n",
      " [2 2 1 2 8 1 1 0 0]\n",
      " [1 2 1 5 1 1 1 0 0]\n",
      " [2 2 1 2 1 1 1 0 0]\n",
      " [2 2 1 11 4 1 1 1 0]\n",
      " [2 2 1 11 4 1 0 1 0]\n",
      " [2 3 3 1 8 1 1 0 0]\n",
      " [2 2 1 10 8 1 1 0 0]\n",
      " [1 2 1 13 8 1 1 1 0]\n",
      " [1 2 1 11 4 1 1 0 0]\n",
      " [1 2 1 3 4 1 1 1 0]\n",
      " [1 2 1 8 3 1 1 0 0]\n",
      " [2 3 3 3 4 1 1 0 0]\n",
      " [2 2 1 13 8 1 1 0 0]\n",
      " [2 2 1 3 4 1 1 0 0]\n",
      " [2 2 1 3 4 1 1 0 0]\n",
      " [2 2 1 11 8 1 1 1 0]\n",
      " [1 3 3 11 4 1 1 0 0]\n",
      " [1 2 1 2 1 1 1 1 0]\n",
      " [1 2 1 2 8 1 1 0 0]\n",
      " [1 2 1 3 4 1 1 1 0]\n",
      " [1 2 1 11 8 1 1 0 0]\n",
      " [2 2 1 10 4 1 1 1 0]\n",
      " [2 2 1 2 8 1 1 1 0]\n",
      " [2 2 1 3 4 1 1 1 0]\n",
      " [1 3 3 8 5 1 1 1 0]\n",
      " [1 3 3 14 4 1 1 0 0]\n",
      " [1 2 1 5 9 1 1 0 0]\n",
      " [2 2 1 9 4 1 1 1 0]\n",
      " [2 3 3 10 1 1 1 1 0]\n",
      " [2 2 1 14 4 1 1 0 0]\n",
      " [2 2 1 10 8 1 1 1 0]\n",
      " [2 2 1 14 8 1 1 1 0]\n",
      " [2 3 3 5 4 1 0 1 0]\n",
      " [1 2 1 11 8 1 0 1 0]\n",
      " [1 2 1 11 4 1 0 0 0]\n",
      " [2 2 1 11 8 1 0 1 0]\n",
      " [1 2 1 3 8 1 0 0 0]\n",
      " [2 2 1 11 4 1 0 1 0]\n",
      " [2 3 3 4 8 0 0 1 0]\n",
      " [1 3 3 1 8 1 0 1 0]\n",
      " [2 2 1 2 1 1 0 0 0]\n",
      " [2 2 1 9 4 1 0 1 0]\n",
      " [1 2 1 9 4 1 0 1 0]\n",
      " [2 2 1 11 4 1 0 0 0]\n",
      " [2 3 3 13 8 1 0 1 0]\n",
      " [2 2 1 1 8 1 0 1 2]\n",
      " [1 2 1 1 8 1 0 0 0]\n",
      " [1 2 1 11 8 1 1 0 0]\n",
      " [2 2 1 1 8 1 1 0 0]\n",
      " [2 2 1 2 1 1 1 0 0]\n",
      " [1 2 1 7 1 1 1 0 2]\n",
      " [1 2 1 11 8 1 1 0 0]\n",
      " [1 2 1 2 8 1 1 0 0]\n",
      " [1 2 1 11 8 1 1 0 0]\n",
      " [2 2 1 2 4 1 1 0 0]\n",
      " [2 2 1 1 1 1 1 0 0]\n",
      " [2 2 1 2 8 1 1 0 0]\n",
      " [1 2 1 2 8 1 1 1 0]\n",
      " [1 2 1 11 4 1 1 0 0]\n",
      " [2 2 1 2 8 1 0 1 0]\n",
      " [2 2 1 7 4 1 0 0 0]\n",
      " [2 2 1 14 8 1 0 0 0]\n",
      " [2 3 3 13 8 1 1 0 0]\n",
      " [2 3 3 7 1 1 1 1 0]\n",
      " [2 3 3 2 1 1 1 1 0]\n",
      " [2 3 3 14 8 1 1 1 0]\n",
      " [2 2 1 13 4 1 1 0 0]\n",
      " [2 3 3 1 8 1 1 1 0]\n",
      " [2 2 1 14 8 1 1 0 0]\n",
      " [1 2 1 11 4 1 1 0 0]\n",
      " [1 2 1 7 1 1 0 1 0]\n",
      " [1 2 1 11 8 1 1 1 0]\n",
      " [2 3 3 13 8 1 1 0 0]\n",
      " [1 2 1 11 4 1 1 0 0]\n",
      " [2 2 1 11 4 1 1 0 0]\n",
      " [2 2 1 9 8 1 1 0 0]\n",
      " [2 2 1 2 1 1 1 0 0]\n",
      " [2 2 1 3 4 1 1 1 0]\n",
      " [2 3 3 4 8 1 0 1 2]\n",
      " [2 2 1 6 3 1 1 1 0]\n",
      " [2 2 1 7 8 1 1 0 0]\n",
      " [2 3 3 3 8 1 1 0 0]\n",
      " [2 2 1 1 8 1 0 0 2]\n",
      " [2 2 1 3 4 1 1 0 0]\n",
      " [2 2 1 6 3 1 1 0 0]\n",
      " [2 2 1 5 8 1 1 0 0]\n",
      " [1 3 3 2 8 1 1 1 0]\n",
      " [1 2 1 1 8 1 1 1 0]\n",
      " [2 2 1 5 9 1 1 1 0]\n",
      " [1 2 1 1 8 1 0 1 0]\n",
      " [1 2 1 1 8 1 0 0 0]\n",
      " [1 2 1 11 8 1 0 1 0]\n",
      " [2 2 1 2 1 1 0 1 0]\n",
      " [2 2 1 9 8 1 0 0 0]\n",
      " [1 3 3 14 8 0 0 0 0]\n",
      " [2 2 1 11 8 1 1 1 0]\n",
      " [2 2 1 3 8 1 0 0 0]\n",
      " [2 2 1 3 8 1 1 0 0]\n",
      " [1 2 1 14 8 1 1 1 0]\n",
      " [2 2 1 14 4 1 1 1 0]\n",
      " [2 2 1 13 8 1 0 1 0]\n",
      " [1 2 1 7 1 1 1 0 0]\n",
      " [1 2 1 11 8 1 1 0 0]\n",
      " [2 2 1 7 1 1 0 1 0]\n",
      " [2 2 1 1 8 1 1 0 0]\n",
      " [2 2 1 11 8 1 0 0 2]\n",
      " [2 2 1 14 8 1 1 0 0]\n",
      " [2 3 3 2 8 1 0 0 2]\n",
      " [2 2 1 13 8 1 1 0 0]\n",
      " [2 2 1 13 8 1 0 1 0]\n",
      " [1 2 1 11 8 1 1 0 0]\n",
      " [2 2 1 7 8 1 1 0 0]\n",
      " [2 3 3 2 4 1 1 1 0]\n",
      " [2 2 1 3 4 1 1 1 0]\n",
      " [1 2 1 11 4 1 1 0 0]\n",
      " [2 2 1 2 1 1 1 0 0]\n",
      " [2 2 1 14 8 1 1 0 0]\n",
      " [2 2 1 5 9 1 1 0 0]\n",
      " [2 2 1 11 4 1 1 1 0]\n",
      " [1 2 1 14 4 1 1 0 0]\n",
      " [2 2 1 14 4 1 1 0 0]\n",
      " [2 2 1 9 8 0 0 0 0]\n",
      " [2 2 1 2 4 0 0 0 0]\n",
      " [2 2 1 2 8 0 0 1 0]\n",
      " [2 2 1 4 8 0 0 0 0]\n",
      " [1 2 1 7 8 0 0 0 0]\n",
      " [1 3 3 2 8 0 0 0 0]\n",
      " [2 2 1 4 4 0 0 1 0]\n",
      " [1 3 3 6 3 0 0 0 0]\n",
      " [1 2 1 7 7 0 0 0 0]\n",
      " [1 3 3 14 4 0 0 1 0]\n",
      " [2 2 1 6 3 0 0 0 0]\n",
      " [2 3 3 2 8 0 0 0 0]\n",
      " [2 3 3 5 2 0 0 0 0]\n",
      " [1 2 1 4 8 0 0 0 0]\n",
      " [2 2 1 11 8 1 0 1 0]\n",
      " [2 2 1 11 6 0 0 0 0]\n",
      " [2 2 1 2 8 0 0 0 1]\n",
      " [2 2 1 2 8 0 0 1 0]\n",
      " [2 3 3 10 8 0 0 0 0]\n",
      " [2 3 3 9 8 0 0 0 0]\n",
      " [2 2 1 3 4 0 0 1 2]\n",
      " [2 2 1 4 8 0 0 0 0]\n",
      " [1 2 1 7 4 0 0 0 0]\n",
      " [1 3 3 11 4 0 0 0 0]\n",
      " [2 3 3 6 3 0 0 0 0]\n",
      " [2 2 1 10 8 1 0 0 2]\n",
      " [2 3 3 2 4 0 0 0 0]\n",
      " [2 3 3 3 4 0 0 0 0]\n",
      " [2 2 1 2 8 0 0 0 2]\n",
      " [1 2 1 11 8 0 1 0 0]\n",
      " [2 2 1 2 8 0 1 0 0]\n",
      " [2 2 1 13 4 0 1 0 0]\n",
      " [1 2 1 6 3 0 1 1 0]\n",
      " [2 2 1 13 8 0 1 0 0]\n",
      " [2 3 3 2 8 0 1 0 0]\n",
      " [1 3 3 8 5 0 0 0 0]\n",
      " [2 2 1 10 8 0 0 1 2]\n",
      " [1 2 1 13 8 0 1 0 0]\n",
      " [2 2 1 13 8 0 1 0 0]\n",
      " [2 2 1 13 8 0 1 0 0]\n",
      " [1 2 1 6 3 0 1 0 0]\n",
      " [1 2 1 6 3 0 1 1 0]\n",
      " [2 2 1 6 3 0 1 0 0]\n",
      " [2 2 1 1 8 0 1 1 0]\n",
      " [2 2 1 1 8 0 1 0 0]\n",
      " [2 2 1 2 8 0 1 1 0]\n",
      " [1 2 1 6 3 0 1 0 0]\n",
      " [2 2 1 4 8 0 0 1 2]\n",
      " [2 2 1 2 8 0 0 1 2]\n",
      " [1 2 1 11 8 0 0 0 0]\n",
      " [1 2 1 11 4 0 0 0 0]\n",
      " [2 3 3 6 3 1 0 1 0]\n",
      " [2 2 1 6 3 0 0 0 0]\n",
      " [2 2 1 6 3 0 0 0 0]\n",
      " [2 2 1 9 4 0 0 1 2]\n",
      " [1 3 3 8 5 0 0 0 0]\n",
      " [1 2 1 13 8 0 0 1 0]\n",
      " [2 3 3 2 8 0 0 1 0]\n",
      " [1 2 1 1 8 0 0 0 0]\n",
      " [1 2 1 4 8 0 0 0 0]\n",
      " [2 3 3 1 8 0 0 0 0]\n",
      " [2 2 1 10 8 1 0 1 2]\n",
      " [2 3 3 2 4 0 0 0 0]\n",
      " [2 1 2 6 7 0 0 1 1]\n",
      " [2 3 3 10 1 0 0 1 2]\n",
      " [2 3 3 2 8 0 0 1 0]\n",
      " [2 2 1 13 8 0 0 0 0]\n",
      " [1 1 2 3 3 0 0 1 2]\n",
      " [1 2 1 3 8 0 0 0 0]\n",
      " [2 3 3 9 8 1 1 0 0]\n",
      " [2 2 1 13 8 0 0 0 0]\n",
      " [1 3 3 14 8 0 0 0 0]\n",
      " [2 3 3 2 8 0 0 0 0]\n",
      " [2 2 1 7 1 0 0 0 2]\n",
      " [2 3 3 13 8 0 0 0 2]\n",
      " [2 3 3 7 8 0 0 1 0]\n",
      " [2 2 1 2 8 0 0 0 1]\n",
      " [1 3 3 2 8 0 0 1 0]\n",
      " [2 2 1 2 8 0 0 0 0]\n",
      " [1 2 1 4 8 0 0 1 0]\n",
      " [2 2 1 3 1 0 0 0 0]\n",
      " [2 2 1 11 4 0 0 1 0]\n",
      " [2 2 1 2 8 0 0 1 0]\n",
      " [1 3 3 7 4 0 0 1 0]\n",
      " [1 3 3 1 8 0 0 0 0]\n",
      " [2 2 1 13 8 0 0 1 0]\n",
      " [1 2 1 2 8 0 0 0 0]\n",
      " [2 2 1 1 8 0 0 0 0]\n",
      " [2 2 1 7 1 0 0 1 0]\n",
      " [2 2 1 7 1 0 0 0 0]\n",
      " [2 2 1 9 8 0 0 1 0]\n",
      " [2 2 1 5 9 0 0 0 0]\n",
      " [2 2 1 2 8 0 0 1 0]\n",
      " [2 3 3 2 1 0 0 0 0]\n",
      " [2 2 1 2 8 1 1 1 0]\n",
      " [2 2 1 13 8 0 1 1 0]\n",
      " [1 2 1 8 5 0 0 1 0]\n",
      " [2 3 3 6 3 0 0 0 0]\n",
      " [2 3 3 10 8 0 0 1 0]\n",
      " [2 2 1 4 8 0 0 1 2]\n",
      " [2 2 1 7 8 0 0 1 0]\n",
      " [1 2 1 1 8 0 1 1 0]\n",
      " [2 2 1 4 8 0 0 0 0]\n",
      " [1 2 1 11 8 0 0 1 0]\n",
      " [2 2 1 4 8 0 0 1 0]\n",
      " [1 2 1 6 3 0 0 0 0]\n",
      " [1 2 1 9 8 0 0 1 2]\n",
      " [2 2 1 6 3 0 0 1 0]\n",
      " [2 2 1 9 3 0 0 0 0]\n",
      " [2 3 3 9 8 0 0 0 2]\n",
      " [2 2 1 5 2 0 1 0 0]\n",
      " [2 2 1 10 8 0 1 1 0]\n",
      " [1 2 1 1 8 0 0 0 0]\n",
      " [2 3 3 10 8 0 0 0 2]\n",
      " [1 3 3 9 4 0 0 1 0]\n",
      " [2 3 3 12 6 0 0 1 0]\n",
      " [2 3 3 13 8 0 0 1 0]\n",
      " [2 2 1 5 2 0 0 1 0]\n",
      " [1 2 1 9 4 0 0 1 2]\n",
      " [2 2 1 13 8 0 0 0 0]\n",
      " [2 2 1 1 8 0 0 0 0]\n",
      " [1 3 3 5 2 0 0 0 0]\n",
      " [2 2 1 4 8 0 0 0 0]\n",
      " [2 3 3 2 8 0 0 1 2]\n",
      " [2 2 1 7 1 0 0 1 0]\n",
      " [2 2 1 7 1 0 0 1 2]\n",
      " [2 2 1 7 1 0 0 1 0]\n",
      " [1 2 1 2 8 0 0 0 0]\n",
      " [1 3 3 7 1 0 0 0 0]\n",
      " [1 3 3 6 3 0 0 1 0]\n",
      " [2 2 1 9 8 0 0 1 0]\n",
      " [2 3 3 2 8 0 0 1 0]\n",
      " [2 3 3 1 8 0 0 1 0]\n",
      " [2 2 1 2 8 0 0 1 2]\n",
      " [2 2 1 7 1 0 0 1 0]\n",
      " [2 2 1 10 8 0 0 0 2]\n",
      " [2 2 1 5 8 0 0 0 0]\n",
      " [2 2 1 7 1 0 0 0 0]\n",
      " [2 2 1 1 1 0 0 1 0]\n",
      " [2 2 1 10 8 0 0 1 0]\n",
      " [2 3 3 13 8 0 0 0 0]\n",
      " [1 2 1 4 8 0 0 1 0]\n",
      " [2 3 3 14 4 0 0 0 0]\n",
      " [1 3 3 6 3 0 0 0 0]\n",
      " [2 3 3 9 4 0 0 1 0]\n",
      " [2 2 1 2 8 0 0 0 0]\n",
      " [2 3 3 8 8 0 0 0 0]\n",
      " [2 2 1 2 8 0 0 0 0]\n",
      " [1 2 1 7 1 0 0 1 0]\n",
      " [1 2 1 11 8 0 0 0 2]\n",
      " [2 3 3 7 1 0 0 1 0]\n",
      " [1 2 1 6 3 0 0 0 2]\n",
      " [1 3 3 9 8 0 1 0 0]\n",
      " [1 3 3 2 8 0 1 0 0]\n",
      " [2 2 1 13 8 0 1 0 0]\n",
      " [2 2 1 11 8 0 1 0 0]\n",
      " [2 2 1 6 3 0 1 0 0]\n",
      " [2 2 1 2 8 0 1 0 0]\n",
      " [1 2 1 7 8 0 0 0 0]\n",
      " [2 2 1 7 1 0 0 0 2]\n",
      " [2 2 1 9 8 0 0 1 0]\n",
      " [1 3 3 6 3 0 0 0 0]\n",
      " [2 3 3 9 8 0 0 0 0]\n",
      " [2 2 1 2 8 0 0 1 0]\n",
      " [2 2 1 2 8 0 1 0 0]\n",
      " [1 3 3 6 3 0 0 1 0]\n",
      " [2 2 1 7 8 0 0 1 0]\n",
      " [2 2 1 11 8 0 0 0 0]\n",
      " [2 2 1 13 8 0 0 0 0]\n",
      " [2 2 1 3 8 0 0 0 0]\n",
      " [2 2 1 2 8 0 0 0 1]\n",
      " [2 2 1 2 8 0 0 0 0]\n",
      " [1 2 1 13 8 0 0 1 0]\n",
      " [2 2 1 5 8 0 0 0 0]\n",
      " [2 2 1 6 3 0 0 0 0]\n",
      " [2 3 3 3 8 0 0 0 0]\n",
      " [2 3 3 6 3 0 0 0 0]\n",
      " [2 3 3 2 8 0 0 0 0]\n",
      " [2 2 1 9 8 0 0 1 0]\n",
      " [2 2 1 1 8 0 0 0 0]\n",
      " [2 2 1 2 8 0 0 1 0]\n",
      " [2 3 3 6 3 0 1 0 0]\n",
      " [2 2 1 6 3 0 1 0 0]\n",
      " [1 2 1 6 3 0 0 1 2]\n",
      " [1 2 1 6 3 0 1 0 0]\n",
      " [2 2 1 9 8 0 1 1 0]\n",
      " [2 2 1 9 8 0 1 0 2]\n",
      " [2 2 1 6 3 0 1 0 0]\n",
      " [2 3 3 10 8 0 0 1 2]\n",
      " [2 2 1 9 8 0 0 1 0]\n",
      " [1 3 3 8 3 0 0 0 0]\n",
      " [1 2 1 6 3 0 0 0 0]\n",
      " [2 2 1 2 8 0 0 0 0]\n",
      " [1 2 1 6 3 0 0 0 0]\n",
      " [2 2 1 6 3 0 1 0 0]\n",
      " [2 2 1 2 8 0 0 0 0]\n",
      " [2 3 3 7 1 0 0 0 0]\n",
      " [2 2 1 2 8 0 0 0 0]\n",
      " [2 2 1 11 8 0 0 0 0]\n",
      " [2 2 1 13 8 0 0 1 0]\n",
      " [2 2 1 4 8 0 0 1 0]\n",
      " [2 2 1 13 8 0 0 0 0]\n",
      " [2 2 1 2 8 0 0 0 1]\n",
      " [2 3 3 2 8 0 0 0 0]\n",
      " [2 2 1 7 1 0 0 0 0]\n",
      " [2 3 3 2 8 0 0 1 0]\n",
      " [1 3 3 2 8 0 0 0 0]\n",
      " [2 2 1 10 8 0 1 0 0]\n",
      " [2 2 1 2 8 0 0 0 0]\n",
      " [1 2 1 6 3 0 1 0 0]\n",
      " [1 2 1 8 5 0 1 0 0]\n",
      " [1 2 1 10 8 0 1 1 0]\n",
      " [2 2 1 2 8 0 1 1 0]\n",
      " [1 2 1 13 4 0 1 0 0]\n",
      " [2 2 1 9 8 0 0 0 0]\n",
      " [2 2 1 7 4 0 0 1 0]\n",
      " [1 2 1 9 4 0 0 0 0]\n",
      " [2 3 3 7 4 0 0 0 0]\n",
      " [2 2 1 7 8 0 0 0 0]\n",
      " [2 3 3 7 8 0 0 1 0]\n",
      " [2 2 1 2 8 0 0 0 0]\n",
      " [2 2 1 4 8 0 0 1 0]\n",
      " [2 2 1 7 4 0 0 1 0]\n",
      " [2 3 3 7 4 0 0 1 2]\n",
      " [2 2 1 7 8 0 0 0 0]\n",
      " [2 3 3 2 8 0 0 0 2]\n",
      " [1 2 1 7 8 0 1 1 0]\n",
      " [2 3 3 9 8 0 1 1 0]\n",
      " [1 2 1 1 8 0 1 1 0]\n",
      " [2 3 3 2 8 0 1 0 0]\n",
      " [2 2 1 10 8 0 0 0 2]\n",
      " [2 3 3 6 3 0 1 0 0]\n",
      " [2 3 3 9 8 0 0 0 0]\n",
      " [2 3 3 1 8 0 0 1 0]\n",
      " [2 3 3 6 3 0 0 1 0]\n",
      " [2 2 1 11 8 0 0 1 0]\n",
      " [1 2 1 11 4 1 1 0 0]\n",
      " [2 2 1 11 8 1 1 1 0]\n",
      " [2 2 1 10 8 1 1 0 0]\n",
      " [1 2 1 2 4 1 0 0 0]\n",
      " [1 3 3 2 4 1 0 0 0]\n",
      " [2 2 1 13 8 1 0 0 0]\n",
      " [1 2 1 14 4 1 0 1 0]\n",
      " [2 2 1 2 8 1 1 1 0]\n",
      " [2 2 1 2 8 1 1 1 0]\n",
      " [2 2 1 2 8 1 1 0 0]\n",
      " [2 2 1 14 8 1 1 1 0]\n",
      " [2 2 1 3 8 1 1 1 0]\n",
      " [1 2 1 6 3 1 1 0 0]\n",
      " [2 2 1 14 8 1 1 0 0]\n",
      " [1 2 1 2 8 1 1 1 0]\n",
      " [2 2 1 2 8 1 1 0 0]\n",
      " [1 2 1 1 8 1 1 0 0]\n",
      " [1 2 1 11 4 1 1 0 0]\n",
      " [1 2 1 2 8 1 1 0 0]\n",
      " [2 3 3 13 8 1 1 1 0]\n",
      " [2 3 3 13 8 1 1 1 0]\n",
      " [1 2 1 8 5 1 0 0 0]\n",
      " [1 2 1 2 8 1 0 0 0]\n",
      " [2 2 1 5 2 1 0 0 0]\n",
      " [2 3 3 2 4 1 0 0 0]\n",
      " [2 2 1 14 8 1 0 0 0]\n",
      " [1 2 1 1 8 1 1 0 0]\n",
      " [2 2 1 2 8 1 1 1 0]\n",
      " [1 2 1 11 8 1 1 0 0]\n",
      " [2 2 1 14 8 1 1 1 0]\n",
      " [2 2 1 9 8 1 1 0 0]\n",
      " [1 2 1 5 2 1 1 1 0]\n",
      " [2 2 1 10 8 1 1 0 0]\n",
      " [1 2 1 11 8 1 1 0 0]\n",
      " [1 2 1 11 8 1 0 1 0]\n",
      " [2 2 1 2 8 1 0 1 0]\n",
      " [2 2 1 9 8 1 0 0 0]\n",
      " [1 2 1 7 1 1 0 1 0]\n",
      " [1 2 1 9 4 1 1 1 0]\n",
      " [2 2 1 11 4 1 1 0 0]\n",
      " [1 2 1 2 4 1 0 1 0]\n",
      " [1 2 1 1 4 1 0 0 0]\n",
      " [2 2 1 7 1 1 0 0 0]\n",
      " [2 2 1 6 3 1 0 0 0]\n",
      " [2 2 1 1 8 1 0 1 0]\n",
      " [1 3 3 6 3 1 0 0 0]\n",
      " [1 2 1 6 3 1 0 0 0]\n",
      " [2 2 1 14 4 1 0 1 0]\n",
      " [2 2 1 13 1 1 0 1 0]\n",
      " [2 2 1 2 8 1 0 0 0]\n",
      " [2 3 3 3 8 1 0 1 0]\n",
      " [2 2 1 7 1 1 0 0 0]\n",
      " [2 3 3 9 4 1 0 1 0]\n",
      " [2 2 1 13 8 1 0 1 0]\n",
      " [2 3 3 7 1 1 1 1 0]\n",
      " [2 3 3 4 8 1 0 0 2]\n",
      " [2 3 3 13 8 1 1 1 0]\n",
      " [2 2 1 4 4 1 1 0 0]\n",
      " [2 2 1 14 8 1 1 1 0]\n",
      " [2 2 1 10 8 1 0 0 2]\n",
      " [2 2 1 5 9 1 1 1 0]\n",
      " [2 2 1 7 1 1 1 0 0]\n",
      " [2 2 1 12 6 1 1 1 0]\n",
      " [2 2 1 13 8 1 1 0 0]\n",
      " [1 3 3 14 4 1 1 0 0]\n",
      " [2 2 1 2 4 1 1 0 0]\n",
      " [2 2 1 13 8 1 1 1 0]\n",
      " [1 2 1 13 8 1 1 0 0]\n",
      " [2 2 1 14 4 1 0 0 0]\n",
      " [1 2 1 11 4 1 1 1 0]\n",
      " [1 2 1 3 4 1 1 0 0]\n",
      " [2 2 1 14 4 1 0 0 0]\n",
      " [2 2 1 2 4 1 0 0 0]\n",
      " [2 2 1 11 4 1 0 1 0]\n",
      " [2 2 1 11 4 1 0 1 0]\n",
      " [1 2 1 1 8 1 0 0 0]\n",
      " [2 2 1 13 4 1 1 1 0]\n",
      " [1 2 1 14 4 1 0 0 0]\n",
      " [2 3 3 2 8 1 1 1 0]\n",
      " [1 2 1 1 8 1 1 0 0]\n",
      " [2 2 1 13 8 1 1 1 0]\n",
      " [2 3 3 4 8 1 1 1 0]\n",
      " [2 3 3 14 8 1 1 1 0]\n",
      " [1 2 1 6 3 1 1 1 0]\n",
      " [1 2 1 2 4 1 1 0 0]\n",
      " [2 3 3 2 4 1 1 1 0]\n",
      " [2 2 1 2 8 1 1 0 0]\n",
      " [2 2 1 2 8 1 1 0 0]\n",
      " [2 2 1 2 8 1 1 0 0]\n",
      " [2 2 1 10 8 1 1 1 0]\n",
      " [2 2 1 14 8 1 1 1 0]\n",
      " [2 2 1 5 8 0 1 0 2]\n",
      " [2 2 1 10 8 1 0 1 0]\n",
      " [2 3 3 13 4 1 0 1 0]\n",
      " [1 3 3 5 9 1 0 0 0]\n",
      " [2 2 1 6 3 1 0 1 0]\n",
      " [2 2 1 14 4 1 1 1 0]\n",
      " [2 2 1 2 8 1 1 0 0]\n",
      " [2 3 3 2 8 1 1 1 0]\n",
      " [2 2 1 2 8 1 1 1 0]\n",
      " [2 2 1 3 8 1 1 0 0]\n",
      " [2 2 1 2 4 1 1 1 0]\n",
      " [2 2 1 2 8 0 0 0 1]\n",
      " [2 2 1 13 8 0 0 1 0]\n",
      " [2 2 1 9 8 1 0 1 0]\n",
      " [2 2 1 2 1 1 0 0 0]\n",
      " [1 2 1 2 8 1 1 1 0]\n",
      " [1 2 1 1 8 1 1 0 0]\n",
      " [2 2 1 11 8 0 1 0 0]\n",
      " [2 2 1 2 8 1 1 1 0]\n",
      " [1 2 1 9 8 1 1 0 0]\n",
      " [2 3 3 2 8 0 0 1 0]\n",
      " [2 3 3 9 8 0 0 0 0]\n",
      " [2 2 1 11 8 0 0 0 0]\n",
      " [2 2 1 2 4 1 0 0 0]\n",
      " [1 3 3 9 8 0 0 1 0]\n",
      " [2 2 1 2 8 0 0 0 0]\n",
      " [2 2 1 9 8 0 0 1 0]\n",
      " [2 3 3 4 8 0 0 1 0]\n",
      " [2 2 1 14 1 0 0 1 0]\n",
      " [2 3 3 9 8 0 0 0 0]\n",
      " [2 3 3 11 4 0 1 1 0]\n",
      " [2 2 1 13 8 0 1 0 0]\n",
      " [2 2 1 2 1 0 1 1 0]\n",
      " [1 2 1 2 8 0 0 0 0]\n",
      " [2 2 1 2 4 0 1 1 0]\n",
      " [2 2 1 7 8 0 1 1 0]\n",
      " [2 3 3 6 3 0 1 0 0]\n",
      " [2 2 1 10 8 0 1 1 0]\n",
      " [2 3 3 1 8 1 0 0 0]\n",
      " [2 2 1 7 8 0 0 0 0]\n",
      " [2 2 1 2 5 0 0 1 2]\n",
      " [1 2 1 2 8 0 0 0 1]\n",
      " [2 2 1 11 8 0 0 0 0]\n",
      " [2 3 3 3 8 0 0 0 0]\n",
      " [2 2 1 2 8 0 0 0 2]\n",
      " [2 3 3 7 1 0 0 1 0]\n",
      " [2 2 1 6 3 0 0 0 0]\n",
      " [2 2 1 4 4 0 0 0 0]\n",
      " [1 2 1 13 8 0 0 0 0]\n",
      " [1 2 1 11 8 0 0 1 0]\n",
      " [1 2 1 10 4 0 1 1 0]\n",
      " [1 2 1 6 3 0 0 0 0]\n",
      " [2 3 3 9 3 0 0 0 0]\n",
      " [1 2 1 13 8 0 1 1 0]\n",
      " [2 2 1 2 6 0 1 1 0]\n",
      " [2 3 3 10 8 0 0 1 0]\n",
      " [2 2 1 1 8 0 0 0 0]\n",
      " [2 2 1 1 8 0 0 1 0]\n",
      " [2 2 1 9 8 0 0 1 0]\n",
      " [2 2 1 7 1 0 0 1 0]\n",
      " [2 3 3 3 8 0 0 1 0]\n",
      " [2 3 3 1 8 0 0 1 0]\n",
      " [1 2 1 1 4 0 0 0 0]\n",
      " [2 3 3 13 8 0 0 1 0]\n",
      " [2 2 1 3 8 0 0 1 0]\n",
      " [1 2 1 2 8 0 0 0 0]\n",
      " [2 2 1 1 8 0 0 1 0]\n",
      " [2 2 1 9 4 0 0 1 0]\n",
      " [1 2 1 6 3 0 1 0 0]\n",
      " [2 2 1 7 1 0 0 0 0]\n",
      " [1 2 1 11 8 0 1 1 0]\n",
      " [1 2 1 7 8 0 0 1 2]\n",
      " [2 2 1 7 8 1 0 1 0]\n",
      " [1 2 1 11 8 0 1 1 0]\n",
      " [1 3 3 6 3 0 0 0 0]\n",
      " [2 2 1 2 4 0 1 1 0]\n",
      " [1 2 1 1 8 0 0 0 0]\n",
      " [1 2 1 2 8 0 0 0 0]\n",
      " [1 2 1 2 8 0 1 1 0]\n",
      " [2 2 1 1 8 0 0 0 0]\n",
      " [2 2 1 2 8 0 0 0 0]\n",
      " [1 2 1 13 8 0 0 1 0]\n",
      " [2 3 3 3 8 0 0 1 0]\n",
      " [2 3 3 13 8 0 0 0 2]\n",
      " [2 3 3 10 8 0 0 0 0]\n",
      " [1 2 1 2 8 0 0 1 0]\n",
      " [1 2 1 2 8 0 1 1 0]\n",
      " [2 2 1 4 4 0 0 1 2]\n",
      " [2 3 3 6 3 0 0 0 0]\n",
      " [2 2 1 13 8 0 0 0 0]\n",
      " [2 2 1 3 8 0 0 0 0]\n",
      " [1 2 1 1 8 0 0 1 0]\n",
      " [2 3 3 5 4 0 0 0 0]\n",
      " [1 2 1 7 4 0 0 0 0]\n",
      " [1 2 1 1 8 0 0 0 0]\n",
      " [1 2 1 11 4 0 1 1 0]\n",
      " [2 2 1 10 8 0 1 0 0]\n",
      " [1 2 1 6 3 0 0 0 0]\n",
      " [1 2 1 2 8 0 0 0 0]\n",
      " [2 2 1 9 8 0 0 0 0]\n",
      " [2 3 3 4 4 0 0 0 0]\n",
      " [2 2 1 7 8 0 0 1 0]\n",
      " [2 3 3 4 8 0 0 0 0]\n",
      " [2 2 1 10 8 0 0 1 2]\n",
      " [2 3 3 5 4 0 0 0 0]\n",
      " [1 2 1 2 8 0 1 1 0]\n",
      " [1 3 3 6 3 0 1 1 0]\n",
      " [2 2 1 1 8 0 0 0 0]\n",
      " [2 2 1 2 4 0 0 1 0]]\n"
     ]
    }
   ],
   "source": [
    "print(X_cat)"
   ],
   "metadata": {
    "collapsed": false,
    "pycharm": {
     "name": "#%%\n"
    }
   }
  },
  {
   "cell_type": "code",
   "execution_count": 304,
   "outputs": [
    {
     "name": "stdout",
     "output_type": "stream",
     "text": [
      "(688, 6)\n"
     ]
    }
   ],
   "source": [
    "X_num = np.copy(credit_data.loc[:,col_num].to_numpy())\n",
    "X_num[X_num == '?'] = np.nan\n",
    "X_num = X_num.astype(float)\n",
    "imp_num = Imputer(missing_values=np.nan, strategy='mean')\n",
    "X_num = imp_num.fit_transform(X_num)\n",
    "print(np.shape(X_num))"
   ],
   "metadata": {
    "collapsed": false,
    "pycharm": {
     "name": "#%%\n"
    }
   }
  },
  {
   "cell_type": "code",
   "execution_count": 305,
   "outputs": [
    {
     "name": "stdout",
     "output_type": "stream",
     "text": [
      "[[0. 1. 0. ... 1. 0. 0.]\n",
      " [1. 0. 0. ... 1. 0. 0.]\n",
      " [1. 0. 0. ... 1. 0. 0.]\n",
      " ...\n",
      " [1. 0. 0. ... 1. 0. 0.]\n",
      " [0. 1. 0. ... 1. 0. 0.]\n",
      " [0. 1. 0. ... 1. 0. 0.]]\n"
     ]
    }
   ],
   "source": [
    "from sklearn.preprocessing import OneHotEncoder\n",
    "X_cat_bin = OneHotEncoder().fit_transform(X_cat).toarray()\n",
    "print(X_cat_bin)"
   ],
   "metadata": {
    "collapsed": false,
    "pycharm": {
     "name": "#%%\n"
    }
   }
  },
  {
   "cell_type": "code",
   "execution_count": 306,
   "outputs": [],
   "source": [
    "processed_data = np.column_stack((X_cat_bin,X_num))"
   ],
   "metadata": {
    "collapsed": false,
    "pycharm": {
     "name": "#%%\n"
    }
   }
  },
  {
   "cell_type": "code",
   "execution_count": 307,
   "outputs": [
    {
     "data": {
      "text/plain": "array([[  0.  ,   1.  ,   0.  , ...,   1.  ,  30.83,   0.  ],\n       [  1.  ,   0.  ,   0.  , ...,   6.  ,  58.67, 560.  ],\n       [  1.  ,   0.  ,   0.  , ...,   0.  ,  24.5 , 824.  ],\n       ...,\n       [  1.  ,   0.  ,   0.  , ...,   1.  ,  25.25,   1.  ],\n       [  0.  ,   1.  ,   0.  , ...,   0.  ,  17.92, 750.  ],\n       [  0.  ,   1.  ,   0.  , ...,   0.  ,  35.  ,   0.  ]])"
     },
     "execution_count": 307,
     "metadata": {},
     "output_type": "execute_result"
    }
   ],
   "source": [
    "processed_data"
   ],
   "metadata": {
    "collapsed": false,
    "pycharm": {
     "name": "#%%\n"
    }
   }
  },
  {
   "cell_type": "code",
   "execution_count": 308,
   "outputs": [
    {
     "name": "stdout",
     "output_type": "stream",
     "text": [
      "Accuracy for TREE is: 0.821 +/- 0.069 roc is: 0.895 +/- 0.019\n",
      "Accuracy for KNN is: 0.740 +/- 0.110 roc is: 0.764 +/- 0.056\n",
      "Accuracy for Bayes is: 0.849 +/- 0.062 roc is: 0.915 +/- 0.038\n",
      "Accuracy for CART is: 0.777 +/- 0.045 roc is: 0.804 +/- 0.035\n",
      "Accuracy for ID30 is: 0.770 +/- 0.054 roc is: 0.794 +/- 0.034\n",
      "Accuracy for MLP is: 0.804 +/- 0.112 roc is: 0.835 +/- 0.094\n",
      "Accuracy for neihgbors is: 0.744 +/- 0.080 roc is: 0.753 +/- 0.056\n",
      "Accuracy for bagging is: 0.851 +/- 0.063 roc is: 0.920 +/- 0.026\n",
      "Accuracy for ADA is: 0.821 +/- 0.068 roc is: 0.916 +/- 0.032\n",
      "Accuracy for RNDForest is: 0.852 +/- 0.065 roc is: 0.931 +/- 0.026\n"
     ]
    }
   ],
   "source": [
    "run_classifiers(clfs, processed_data, y)"
   ],
   "metadata": {
    "collapsed": false,
    "pycharm": {
     "name": "#%%\n"
    }
   }
  },
  {
   "cell_type": "markdown",
   "source": [
    "## TODO analyse result"
   ],
   "metadata": {
    "collapsed": false,
    "pycharm": {
     "name": "#%% md\n"
    }
   }
  },
  {
   "cell_type": "markdown",
   "source": [
    "# Feature engeneering et Classification"
   ],
   "metadata": {
    "collapsed": false
   }
  },
  {
   "cell_type": "code",
   "execution_count": 311,
   "outputs": [
    {
     "name": "stdout",
     "output_type": "stream",
     "text": [
      "         0                                                  1\n",
      "0      ham  Go until jurong point, crazy.. Available only ...\n",
      "1      ham                      Ok lar... Joking wif u oni...\n",
      "2     spam  Free entry in 2 a wkly comp to win FA Cup fina...\n",
      "3      ham  U dun say so early hor... U c already then say...\n",
      "4      ham  Nah I don't think he goes to usf, he lives aro...\n",
      "...    ...                                                ...\n",
      "5567  spam  This is the 2nd time we have tried 2 contact u...\n",
      "5568   ham               Will ü b going to esplanade fr home?\n",
      "5569   ham  Pity, * was in mood for that. So...any other s...\n",
      "5570   ham  The guy did some bitching but I acted like i'd...\n",
      "5571   ham                         Rofl. Its true to its name\n",
      "\n",
      "[5572 rows x 2 columns]\n"
     ]
    }
   ],
   "source": [
    "sms_data = pd.read_csv(\"SMSSpamCollection.data\", sep = '\\t', header = None)\n",
    "print(sms_data)"
   ],
   "metadata": {
    "collapsed": false,
    "pycharm": {
     "name": "#%%\n"
    }
   }
  },
  {
   "cell_type": "code",
   "execution_count": 320,
   "outputs": [],
   "source": [
    "sms_data.replace({'ham':1,'spam':0}, inplace=True)"
   ],
   "metadata": {
    "collapsed": false,
    "pycharm": {
     "name": "#%%\n"
    }
   }
  },
  {
   "cell_type": "code",
   "execution_count": 315,
   "outputs": [],
   "source": [
    "text_array = sms_data.iloc[:,1].to_numpy()"
   ],
   "metadata": {
    "collapsed": false,
    "pycharm": {
     "name": "#%%\n"
    }
   }
  },
  {
   "cell_type": "code",
   "execution_count": 357,
   "outputs": [],
   "source": [
    "from sklearn.feature_extraction.text import CountVectorizer\n",
    "count_vect = CountVectorizer(stop_words='english', max_features = 500)\n",
    "X_train_counts = count_vect.fit_transform(text_array)"
   ],
   "metadata": {
    "collapsed": false,
    "pycharm": {
     "name": "#%%\n"
    }
   }
  },
  {
   "cell_type": "code",
   "execution_count": 330,
   "outputs": [
    {
     "name": "stdout",
     "output_type": "stream",
     "text": [
      "Accuracy for TREE is: 0.930 +/- 0.013 roc is: 0.754 +/- 0.037\n",
      "Accuracy for KNN is: 0.918 +/- 0.014 roc is: 0.919 +/- 0.018\n",
      "Accuracy for Bayes is: nan +/- nan roc is: nan +/- nan\n",
      "Accuracy for CART is: 0.978 +/- 0.007 roc is: 0.928 +/- 0.021\n",
      "Accuracy for ID30 is: 0.976 +/- 0.008 roc is: 0.921 +/- 0.023\n",
      "Accuracy for MLP is: 0.985 +/- 0.003 roc is: 0.978 +/- 0.010\n",
      "Accuracy for neihgbors is: 0.933 +/- 0.013 roc is: 0.909 +/- 0.024\n",
      "Accuracy for bagging is: 0.981 +/- 0.007 roc is: 0.979 +/- 0.005\n",
      "Accuracy for ADA is: 0.976 +/- 0.006 roc is: 0.967 +/- 0.010\n",
      "Accuracy for RNDForest is: 0.897 +/- 0.011 roc is: 0.962 +/- 0.011\n"
     ]
    }
   ],
   "source": [
    "run_classifiers(clfs, X_train_counts, sms_data.iloc[:,0])"
   ],
   "metadata": {
    "collapsed": false,
    "pycharm": {
     "name": "#%%\n"
    }
   }
  },
  {
   "cell_type": "code",
   "execution_count": 369,
   "outputs": [],
   "source": [
    "from sklearn.feature_extraction.text import TfidfTransformer\n",
    "tfid = TfidfTransformer(smooth_idf=False)\n",
    "weigh = tfid.fit_transform(X_train_counts)"
   ],
   "metadata": {
    "collapsed": false,
    "pycharm": {
     "name": "#%%\n"
    }
   }
  },
  {
   "cell_type": "code",
   "execution_count": 409,
   "outputs": [],
   "source": [
    "pipe = Pipeline([('count', CountVectorizer(stop_words='english', max_features = 500)),\n",
    "                 ('tfid', TfidfTransformer(smooth_idf=False))])"
   ],
   "metadata": {
    "collapsed": false,
    "pycharm": {
     "name": "#%%\n"
    }
   }
  },
  {
   "cell_type": "code",
   "execution_count": 410,
   "outputs": [],
   "source": [
    "result = pipe.fit_transform(text_array)"
   ],
   "metadata": {
    "collapsed": false,
    "pycharm": {
     "name": "#%%\n"
    }
   }
  },
  {
   "cell_type": "code",
   "execution_count": 412,
   "outputs": [
    {
     "name": "stdout",
     "output_type": "stream",
     "text": [
      "Accuracy for TREE is: 0.930 +/- 0.012 roc is: 0.756 +/- 0.031\n",
      "Accuracy for KNN is: 0.916 +/- 0.014 roc is: 0.907 +/- 0.028\n",
      "Accuracy for Bayes is: nan +/- nan roc is: nan +/- nan\n",
      "Accuracy for CART is: 0.979 +/- 0.006 roc is: 0.923 +/- 0.025\n",
      "Accuracy for ID30 is: 0.976 +/- 0.007 roc is: 0.914 +/- 0.025\n",
      "Accuracy for MLP is: 0.985 +/- 0.003 roc is: 0.982 +/- 0.008\n",
      "Accuracy for neihgbors is: 0.936 +/- 0.012 roc is: 0.908 +/- 0.025\n",
      "Accuracy for bagging is: 0.983 +/- 0.006 roc is: 0.980 +/- 0.005\n",
      "Accuracy for ADA is: 0.976 +/- 0.005 roc is: 0.964 +/- 0.008\n",
      "Accuracy for RNDForest is: 0.899 +/- 0.010 roc is: 0.962 +/- 0.009\n"
     ]
    }
   ],
   "source": [
    "run_classifiers(clfs, result, sms_data.iloc[:,0])"
   ],
   "metadata": {
    "collapsed": false,
    "pycharm": {
     "name": "#%%\n"
    }
   }
  },
  {
   "cell_type": "code",
   "execution_count": 413,
   "outputs": [],
   "source": [
    "from sklearn.decomposition import TruncatedSVD\n",
    "pipe = Pipeline([('count', CountVectorizer(stop_words='english', max_features = 500)),\n",
    "                 ('tfid', TfidfTransformer(smooth_idf=False)),\n",
    "                 ('svdt', TruncatedSVD(n_components=143))])"
   ],
   "metadata": {
    "collapsed": false,
    "pycharm": {
     "name": "#%%\n"
    }
   }
  },
  {
   "cell_type": "code",
   "execution_count": 414,
   "outputs": [
    {
     "name": "stdout",
     "output_type": "stream",
     "text": [
      "Accuracy for TREE is: 0.967 +/- 0.006 roc is: 0.920 +/- 0.019\n",
      "Accuracy for KNN is: 0.962 +/- 0.007 roc is: 0.963 +/- 0.011\n",
      "Accuracy for Bayes is: 0.977 +/- 0.008 roc is: 0.933 +/- 0.016\n",
      "Accuracy for CART is: 0.975 +/- 0.007 roc is: 0.903 +/- 0.028\n",
      "Accuracy for ID30 is: 0.975 +/- 0.006 roc is: 0.904 +/- 0.026\n",
      "Accuracy for MLP is: 0.984 +/- 0.004 roc is: 0.986 +/- 0.008\n",
      "Accuracy for neihgbors is: 0.966 +/- 0.005 roc is: 0.953 +/- 0.009\n",
      "Accuracy for bagging is: 0.976 +/- 0.008 roc is: 0.970 +/- 0.010\n",
      "Accuracy for ADA is: 0.978 +/- 0.008 roc is: 0.976 +/- 0.011\n",
      "Accuracy for RNDForest is: 0.944 +/- 0.011 roc is: 0.966 +/- 0.014\n"
     ]
    }
   ],
   "source": [
    "result = pipe.fit_transform(text_array)\n",
    "run_classifiers(clfs, result, sms_data.iloc[:,0])"
   ],
   "metadata": {
    "collapsed": false,
    "pycharm": {
     "name": "#%%\n"
    }
   }
  },
  {
   "cell_type": "code",
   "execution_count": 417,
   "outputs": [
    {
     "name": "stdout",
     "output_type": "stream",
     "text": [
      "       Stars                                               Text\n",
      "0          1  Boarded my English Mastiff here over New Year'...\n",
      "1          1  Another case of the Emperor's New Clothes.  So...\n",
      "2          1  Came on Valentine's Day night having pre-bough...\n",
      "3          1  2Nd time eating here today.1st time was great ...\n",
      "4          1  Allegiant is a disaster.  Their fares are chea...\n",
      "...      ...                                                ...\n",
      "47366      5  This is our favorite coffee place in Montreal!...\n",
      "47367      5  Had to visit the Carlos bakery and went on a s...\n",
      "47368      5  Some of the best Tom Yum we've ever had. Also ...\n",
      "47369      5  This is the best groomer in the valley, she is...\n",
      "47370      5  I agree with the other reviewers: this is a gr...\n",
      "\n",
      "[47371 rows x 2 columns]\n"
     ]
    }
   ],
   "source": [
    "data = pd.read_csv(\"yelp-text-by-stars.csv\", sep =';')\n",
    "print(data)"
   ],
   "metadata": {
    "collapsed": false,
    "pycharm": {
     "name": "#%%\n"
    }
   }
  },
  {
   "cell_type": "code",
   "execution_count": 421,
   "outputs": [],
   "source": [
    "text = data.iloc[:,1]\n",
    "result = pipe.fit_transform(text)"
   ],
   "metadata": {
    "collapsed": false,
    "pycharm": {
     "name": "#%%\n"
    }
   }
  },
  {
   "cell_type": "code",
   "execution_count": 422,
   "outputs": [
    {
     "ename": "KeyboardInterrupt",
     "evalue": "",
     "output_type": "error",
     "traceback": [
      "\u001B[1;31m---------------------------------------------------------------------------\u001B[0m",
      "\u001B[1;31mKeyboardInterrupt\u001B[0m                         Traceback (most recent call last)",
      "\u001B[1;32m<ipython-input-422-e1216b49e4cb>\u001B[0m in \u001B[0;36m<module>\u001B[1;34m\u001B[0m\n\u001B[1;32m----> 1\u001B[1;33m \u001B[0mrun_classifiers\u001B[0m\u001B[1;33m(\u001B[0m\u001B[0mclfs\u001B[0m\u001B[1;33m,\u001B[0m \u001B[0mresult\u001B[0m\u001B[1;33m,\u001B[0m \u001B[0mdata\u001B[0m\u001B[1;33m.\u001B[0m\u001B[0miloc\u001B[0m\u001B[1;33m[\u001B[0m\u001B[1;33m:\u001B[0m\u001B[1;33m,\u001B[0m\u001B[1;36m0\u001B[0m\u001B[1;33m]\u001B[0m\u001B[1;33m)\u001B[0m\u001B[1;33m\u001B[0m\u001B[1;33m\u001B[0m\u001B[0m\n\u001B[0m",
      "\u001B[1;32m<ipython-input-97-f493355d547f>\u001B[0m in \u001B[0;36mrun_classifiers\u001B[1;34m(_clfs, _X, _y)\u001B[0m\n\u001B[0;32m     23\u001B[0m         \u001B[0mclf\u001B[0m \u001B[1;33m=\u001B[0m \u001B[0m_clfs\u001B[0m\u001B[1;33m[\u001B[0m\u001B[0mi\u001B[0m\u001B[1;33m]\u001B[0m\u001B[1;33m\u001B[0m\u001B[1;33m\u001B[0m\u001B[0m\n\u001B[0;32m     24\u001B[0m         \u001B[0mcv_acc\u001B[0m \u001B[1;33m=\u001B[0m \u001B[0mcross_val_score\u001B[0m\u001B[1;33m(\u001B[0m\u001B[0mclf\u001B[0m\u001B[1;33m,\u001B[0m \u001B[0m_X\u001B[0m\u001B[1;33m,\u001B[0m \u001B[0m_y\u001B[0m\u001B[1;33m,\u001B[0m \u001B[0mcv\u001B[0m\u001B[1;33m=\u001B[0m\u001B[0mkf\u001B[0m\u001B[1;33m,\u001B[0m \u001B[0mscoring\u001B[0m\u001B[1;33m=\u001B[0m \u001B[1;34m\"precision\"\u001B[0m\u001B[1;33m)\u001B[0m\u001B[1;33m\u001B[0m\u001B[1;33m\u001B[0m\u001B[0m\n\u001B[1;32m---> 25\u001B[1;33m         \u001B[0mauc\u001B[0m \u001B[1;33m=\u001B[0m \u001B[0mcross_val_score\u001B[0m\u001B[1;33m(\u001B[0m\u001B[0mclf\u001B[0m\u001B[1;33m,\u001B[0m \u001B[0m_X\u001B[0m\u001B[1;33m,\u001B[0m \u001B[0m_y\u001B[0m\u001B[1;33m,\u001B[0m \u001B[0mcv\u001B[0m\u001B[1;33m=\u001B[0m\u001B[0mkf\u001B[0m\u001B[1;33m,\u001B[0m \u001B[0mscoring\u001B[0m\u001B[1;33m=\u001B[0m \u001B[1;34m'roc_auc'\u001B[0m\u001B[1;33m)\u001B[0m\u001B[1;33m\u001B[0m\u001B[1;33m\u001B[0m\u001B[0m\n\u001B[0m\u001B[0;32m     26\u001B[0m         \u001B[0mprint\u001B[0m\u001B[1;33m(\u001B[0m\u001B[1;34m\"Accuracy for {0} is: {1:.3f} +/- {2:.3f} roc is: {3:.3f} +/- {4:.3f}\"\u001B[0m\u001B[1;33m.\u001B[0m\u001B[0mformat\u001B[0m\u001B[1;33m(\u001B[0m\u001B[0mi\u001B[0m\u001B[1;33m,\u001B[0m \u001B[0mnp\u001B[0m\u001B[1;33m.\u001B[0m\u001B[0mmean\u001B[0m\u001B[1;33m(\u001B[0m\u001B[0mcv_acc\u001B[0m\u001B[1;33m)\u001B[0m\u001B[1;33m,\u001B[0m \u001B[0mnp\u001B[0m\u001B[1;33m.\u001B[0m\u001B[0mstd\u001B[0m\u001B[1;33m(\u001B[0m\u001B[0mcv_acc\u001B[0m\u001B[1;33m)\u001B[0m\u001B[1;33m,\u001B[0m \u001B[0mnp\u001B[0m\u001B[1;33m.\u001B[0m\u001B[0mmean\u001B[0m\u001B[1;33m(\u001B[0m\u001B[0mauc\u001B[0m\u001B[1;33m)\u001B[0m\u001B[1;33m,\u001B[0m \u001B[0mnp\u001B[0m\u001B[1;33m.\u001B[0m\u001B[0mstd\u001B[0m\u001B[1;33m(\u001B[0m\u001B[0mauc\u001B[0m\u001B[1;33m)\u001B[0m\u001B[1;33m)\u001B[0m\u001B[1;33m)\u001B[0m\u001B[1;33m\u001B[0m\u001B[1;33m\u001B[0m\u001B[0m\n\u001B[0;32m     27\u001B[0m \u001B[1;33m\u001B[0m\u001B[0m\n",
      "\u001B[1;32m~\\anaconda3\\lib\\site-packages\\sklearn\\utils\\validation.py\u001B[0m in \u001B[0;36minner_f\u001B[1;34m(*args, **kwargs)\u001B[0m\n\u001B[0;32m     61\u001B[0m             \u001B[0mextra_args\u001B[0m \u001B[1;33m=\u001B[0m \u001B[0mlen\u001B[0m\u001B[1;33m(\u001B[0m\u001B[0margs\u001B[0m\u001B[1;33m)\u001B[0m \u001B[1;33m-\u001B[0m \u001B[0mlen\u001B[0m\u001B[1;33m(\u001B[0m\u001B[0mall_args\u001B[0m\u001B[1;33m)\u001B[0m\u001B[1;33m\u001B[0m\u001B[1;33m\u001B[0m\u001B[0m\n\u001B[0;32m     62\u001B[0m             \u001B[1;32mif\u001B[0m \u001B[0mextra_args\u001B[0m \u001B[1;33m<=\u001B[0m \u001B[1;36m0\u001B[0m\u001B[1;33m:\u001B[0m\u001B[1;33m\u001B[0m\u001B[1;33m\u001B[0m\u001B[0m\n\u001B[1;32m---> 63\u001B[1;33m                 \u001B[1;32mreturn\u001B[0m \u001B[0mf\u001B[0m\u001B[1;33m(\u001B[0m\u001B[1;33m*\u001B[0m\u001B[0margs\u001B[0m\u001B[1;33m,\u001B[0m \u001B[1;33m**\u001B[0m\u001B[0mkwargs\u001B[0m\u001B[1;33m)\u001B[0m\u001B[1;33m\u001B[0m\u001B[1;33m\u001B[0m\u001B[0m\n\u001B[0m\u001B[0;32m     64\u001B[0m \u001B[1;33m\u001B[0m\u001B[0m\n\u001B[0;32m     65\u001B[0m             \u001B[1;31m# extra_args > 0\u001B[0m\u001B[1;33m\u001B[0m\u001B[1;33m\u001B[0m\u001B[1;33m\u001B[0m\u001B[0m\n",
      "\u001B[1;32m~\\anaconda3\\lib\\site-packages\\sklearn\\model_selection\\_validation.py\u001B[0m in \u001B[0;36mcross_val_score\u001B[1;34m(estimator, X, y, groups, scoring, cv, n_jobs, verbose, fit_params, pre_dispatch, error_score)\u001B[0m\n\u001B[0;32m    438\u001B[0m     \u001B[0msklearn\u001B[0m\u001B[1;33m.\u001B[0m\u001B[0mmetrics\u001B[0m\u001B[1;33m.\u001B[0m\u001B[0mmake_scorer\u001B[0m \u001B[1;33m:\u001B[0m \u001B[0mMake\u001B[0m \u001B[0ma\u001B[0m \u001B[0mscorer\u001B[0m \u001B[1;32mfrom\u001B[0m \u001B[0ma\u001B[0m \u001B[0mperformance\u001B[0m \u001B[0mmetric\u001B[0m \u001B[1;32mor\u001B[0m\u001B[1;33m\u001B[0m\u001B[1;33m\u001B[0m\u001B[0m\n\u001B[0;32m    439\u001B[0m         \u001B[0mloss\u001B[0m \u001B[0mfunction\u001B[0m\u001B[1;33m.\u001B[0m\u001B[1;33m\u001B[0m\u001B[1;33m\u001B[0m\u001B[0m\n\u001B[1;32m--> 440\u001B[1;33m \u001B[1;33m\u001B[0m\u001B[0m\n\u001B[0m\u001B[0;32m    441\u001B[0m     \"\"\"\n\u001B[0;32m    442\u001B[0m     \u001B[1;31m# To ensure multimetric format is not supported\u001B[0m\u001B[1;33m\u001B[0m\u001B[1;33m\u001B[0m\u001B[1;33m\u001B[0m\u001B[0m\n",
      "\u001B[1;32m~\\anaconda3\\lib\\site-packages\\sklearn\\utils\\validation.py\u001B[0m in \u001B[0;36minner_f\u001B[1;34m(*args, **kwargs)\u001B[0m\n\u001B[0;32m     61\u001B[0m             \u001B[0mextra_args\u001B[0m \u001B[1;33m=\u001B[0m \u001B[0mlen\u001B[0m\u001B[1;33m(\u001B[0m\u001B[0margs\u001B[0m\u001B[1;33m)\u001B[0m \u001B[1;33m-\u001B[0m \u001B[0mlen\u001B[0m\u001B[1;33m(\u001B[0m\u001B[0mall_args\u001B[0m\u001B[1;33m)\u001B[0m\u001B[1;33m\u001B[0m\u001B[1;33m\u001B[0m\u001B[0m\n\u001B[0;32m     62\u001B[0m             \u001B[1;32mif\u001B[0m \u001B[0mextra_args\u001B[0m \u001B[1;33m<=\u001B[0m \u001B[1;36m0\u001B[0m\u001B[1;33m:\u001B[0m\u001B[1;33m\u001B[0m\u001B[1;33m\u001B[0m\u001B[0m\n\u001B[1;32m---> 63\u001B[1;33m                 \u001B[1;32mreturn\u001B[0m \u001B[0mf\u001B[0m\u001B[1;33m(\u001B[0m\u001B[1;33m*\u001B[0m\u001B[0margs\u001B[0m\u001B[1;33m,\u001B[0m \u001B[1;33m**\u001B[0m\u001B[0mkwargs\u001B[0m\u001B[1;33m)\u001B[0m\u001B[1;33m\u001B[0m\u001B[1;33m\u001B[0m\u001B[0m\n\u001B[0m\u001B[0;32m     64\u001B[0m \u001B[1;33m\u001B[0m\u001B[0m\n\u001B[0;32m     65\u001B[0m             \u001B[1;31m# extra_args > 0\u001B[0m\u001B[1;33m\u001B[0m\u001B[1;33m\u001B[0m\u001B[1;33m\u001B[0m\u001B[0m\n",
      "\u001B[1;32m~\\anaconda3\\lib\\site-packages\\sklearn\\model_selection\\_validation.py\u001B[0m in \u001B[0;36mcross_validate\u001B[1;34m(estimator, X, y, groups, scoring, cv, n_jobs, verbose, fit_params, pre_dispatch, return_train_score, return_estimator, error_score)\u001B[0m\n\u001B[0;32m    244\u001B[0m         \u001B[0mscorers\u001B[0m \u001B[1;33m=\u001B[0m \u001B[0m_check_multimetric_scoring\u001B[0m\u001B[1;33m(\u001B[0m\u001B[0mestimator\u001B[0m\u001B[1;33m,\u001B[0m \u001B[0mscoring\u001B[0m\u001B[1;33m)\u001B[0m\u001B[1;33m\u001B[0m\u001B[1;33m\u001B[0m\u001B[0m\n\u001B[0;32m    245\u001B[0m \u001B[1;33m\u001B[0m\u001B[0m\n\u001B[1;32m--> 246\u001B[1;33m     \u001B[1;31m# We clone the estimator to make sure that all the folds are\u001B[0m\u001B[1;33m\u001B[0m\u001B[1;33m\u001B[0m\u001B[1;33m\u001B[0m\u001B[0m\n\u001B[0m\u001B[0;32m    247\u001B[0m     \u001B[1;31m# independent, and that it is pickle-able.\u001B[0m\u001B[1;33m\u001B[0m\u001B[1;33m\u001B[0m\u001B[1;33m\u001B[0m\u001B[0m\n\u001B[0;32m    248\u001B[0m     parallel = Parallel(n_jobs=n_jobs, verbose=verbose,\n",
      "\u001B[1;32m~\\anaconda3\\lib\\site-packages\\joblib\\parallel.py\u001B[0m in \u001B[0;36m__call__\u001B[1;34m(self, iterable)\u001B[0m\n\u001B[0;32m   1042\u001B[0m                 \u001B[0mself\u001B[0m\u001B[1;33m.\u001B[0m\u001B[0m_iterating\u001B[0m \u001B[1;33m=\u001B[0m \u001B[0mself\u001B[0m\u001B[1;33m.\u001B[0m\u001B[0m_original_iterator\u001B[0m \u001B[1;32mis\u001B[0m \u001B[1;32mnot\u001B[0m \u001B[1;32mNone\u001B[0m\u001B[1;33m\u001B[0m\u001B[1;33m\u001B[0m\u001B[0m\n\u001B[0;32m   1043\u001B[0m \u001B[1;33m\u001B[0m\u001B[0m\n\u001B[1;32m-> 1044\u001B[1;33m             \u001B[1;32mwhile\u001B[0m \u001B[0mself\u001B[0m\u001B[1;33m.\u001B[0m\u001B[0mdispatch_one_batch\u001B[0m\u001B[1;33m(\u001B[0m\u001B[0miterator\u001B[0m\u001B[1;33m)\u001B[0m\u001B[1;33m:\u001B[0m\u001B[1;33m\u001B[0m\u001B[1;33m\u001B[0m\u001B[0m\n\u001B[0m\u001B[0;32m   1045\u001B[0m                 \u001B[1;32mpass\u001B[0m\u001B[1;33m\u001B[0m\u001B[1;33m\u001B[0m\u001B[0m\n\u001B[0;32m   1046\u001B[0m \u001B[1;33m\u001B[0m\u001B[0m\n",
      "\u001B[1;32m~\\anaconda3\\lib\\site-packages\\joblib\\parallel.py\u001B[0m in \u001B[0;36mdispatch_one_batch\u001B[1;34m(self, iterator)\u001B[0m\n\u001B[0;32m    857\u001B[0m                 \u001B[1;32mreturn\u001B[0m \u001B[1;32mFalse\u001B[0m\u001B[1;33m\u001B[0m\u001B[1;33m\u001B[0m\u001B[0m\n\u001B[0;32m    858\u001B[0m             \u001B[1;32melse\u001B[0m\u001B[1;33m:\u001B[0m\u001B[1;33m\u001B[0m\u001B[1;33m\u001B[0m\u001B[0m\n\u001B[1;32m--> 859\u001B[1;33m                 \u001B[0mself\u001B[0m\u001B[1;33m.\u001B[0m\u001B[0m_dispatch\u001B[0m\u001B[1;33m(\u001B[0m\u001B[0mtasks\u001B[0m\u001B[1;33m)\u001B[0m\u001B[1;33m\u001B[0m\u001B[1;33m\u001B[0m\u001B[0m\n\u001B[0m\u001B[0;32m    860\u001B[0m                 \u001B[1;32mreturn\u001B[0m \u001B[1;32mTrue\u001B[0m\u001B[1;33m\u001B[0m\u001B[1;33m\u001B[0m\u001B[0m\n\u001B[0;32m    861\u001B[0m \u001B[1;33m\u001B[0m\u001B[0m\n",
      "\u001B[1;32m~\\anaconda3\\lib\\site-packages\\joblib\\parallel.py\u001B[0m in \u001B[0;36m_dispatch\u001B[1;34m(self, batch)\u001B[0m\n\u001B[0;32m    775\u001B[0m         \u001B[1;32mwith\u001B[0m \u001B[0mself\u001B[0m\u001B[1;33m.\u001B[0m\u001B[0m_lock\u001B[0m\u001B[1;33m:\u001B[0m\u001B[1;33m\u001B[0m\u001B[1;33m\u001B[0m\u001B[0m\n\u001B[0;32m    776\u001B[0m             \u001B[0mjob_idx\u001B[0m \u001B[1;33m=\u001B[0m \u001B[0mlen\u001B[0m\u001B[1;33m(\u001B[0m\u001B[0mself\u001B[0m\u001B[1;33m.\u001B[0m\u001B[0m_jobs\u001B[0m\u001B[1;33m)\u001B[0m\u001B[1;33m\u001B[0m\u001B[1;33m\u001B[0m\u001B[0m\n\u001B[1;32m--> 777\u001B[1;33m             \u001B[0mjob\u001B[0m \u001B[1;33m=\u001B[0m \u001B[0mself\u001B[0m\u001B[1;33m.\u001B[0m\u001B[0m_backend\u001B[0m\u001B[1;33m.\u001B[0m\u001B[0mapply_async\u001B[0m\u001B[1;33m(\u001B[0m\u001B[0mbatch\u001B[0m\u001B[1;33m,\u001B[0m \u001B[0mcallback\u001B[0m\u001B[1;33m=\u001B[0m\u001B[0mcb\u001B[0m\u001B[1;33m)\u001B[0m\u001B[1;33m\u001B[0m\u001B[1;33m\u001B[0m\u001B[0m\n\u001B[0m\u001B[0;32m    778\u001B[0m             \u001B[1;31m# A job can complete so quickly than its callback is\u001B[0m\u001B[1;33m\u001B[0m\u001B[1;33m\u001B[0m\u001B[1;33m\u001B[0m\u001B[0m\n\u001B[0;32m    779\u001B[0m             \u001B[1;31m# called before we get here, causing self._jobs to\u001B[0m\u001B[1;33m\u001B[0m\u001B[1;33m\u001B[0m\u001B[1;33m\u001B[0m\u001B[0m\n",
      "\u001B[1;32m~\\anaconda3\\lib\\site-packages\\joblib\\_parallel_backends.py\u001B[0m in \u001B[0;36mapply_async\u001B[1;34m(self, func, callback)\u001B[0m\n\u001B[0;32m    206\u001B[0m     \u001B[1;32mdef\u001B[0m \u001B[0mapply_async\u001B[0m\u001B[1;33m(\u001B[0m\u001B[0mself\u001B[0m\u001B[1;33m,\u001B[0m \u001B[0mfunc\u001B[0m\u001B[1;33m,\u001B[0m \u001B[0mcallback\u001B[0m\u001B[1;33m=\u001B[0m\u001B[1;32mNone\u001B[0m\u001B[1;33m)\u001B[0m\u001B[1;33m:\u001B[0m\u001B[1;33m\u001B[0m\u001B[1;33m\u001B[0m\u001B[0m\n\u001B[0;32m    207\u001B[0m         \u001B[1;34m\"\"\"Schedule a func to be run\"\"\"\u001B[0m\u001B[1;33m\u001B[0m\u001B[1;33m\u001B[0m\u001B[0m\n\u001B[1;32m--> 208\u001B[1;33m         \u001B[0mresult\u001B[0m \u001B[1;33m=\u001B[0m \u001B[0mImmediateResult\u001B[0m\u001B[1;33m(\u001B[0m\u001B[0mfunc\u001B[0m\u001B[1;33m)\u001B[0m\u001B[1;33m\u001B[0m\u001B[1;33m\u001B[0m\u001B[0m\n\u001B[0m\u001B[0;32m    209\u001B[0m         \u001B[1;32mif\u001B[0m \u001B[0mcallback\u001B[0m\u001B[1;33m:\u001B[0m\u001B[1;33m\u001B[0m\u001B[1;33m\u001B[0m\u001B[0m\n\u001B[0;32m    210\u001B[0m             \u001B[0mcallback\u001B[0m\u001B[1;33m(\u001B[0m\u001B[0mresult\u001B[0m\u001B[1;33m)\u001B[0m\u001B[1;33m\u001B[0m\u001B[1;33m\u001B[0m\u001B[0m\n",
      "\u001B[1;32m~\\anaconda3\\lib\\site-packages\\joblib\\_parallel_backends.py\u001B[0m in \u001B[0;36m__init__\u001B[1;34m(self, batch)\u001B[0m\n\u001B[0;32m    570\u001B[0m         \u001B[1;31m# Don't delay the application, to avoid keeping the input\u001B[0m\u001B[1;33m\u001B[0m\u001B[1;33m\u001B[0m\u001B[1;33m\u001B[0m\u001B[0m\n\u001B[0;32m    571\u001B[0m         \u001B[1;31m# arguments in memory\u001B[0m\u001B[1;33m\u001B[0m\u001B[1;33m\u001B[0m\u001B[1;33m\u001B[0m\u001B[0m\n\u001B[1;32m--> 572\u001B[1;33m         \u001B[0mself\u001B[0m\u001B[1;33m.\u001B[0m\u001B[0mresults\u001B[0m \u001B[1;33m=\u001B[0m \u001B[0mbatch\u001B[0m\u001B[1;33m(\u001B[0m\u001B[1;33m)\u001B[0m\u001B[1;33m\u001B[0m\u001B[1;33m\u001B[0m\u001B[0m\n\u001B[0m\u001B[0;32m    573\u001B[0m \u001B[1;33m\u001B[0m\u001B[0m\n\u001B[0;32m    574\u001B[0m     \u001B[1;32mdef\u001B[0m \u001B[0mget\u001B[0m\u001B[1;33m(\u001B[0m\u001B[0mself\u001B[0m\u001B[1;33m)\u001B[0m\u001B[1;33m:\u001B[0m\u001B[1;33m\u001B[0m\u001B[1;33m\u001B[0m\u001B[0m\n",
      "\u001B[1;32m~\\anaconda3\\lib\\site-packages\\joblib\\parallel.py\u001B[0m in \u001B[0;36m__call__\u001B[1;34m(self)\u001B[0m\n\u001B[0;32m    260\u001B[0m         \u001B[1;31m# change the default number of processes to -1\u001B[0m\u001B[1;33m\u001B[0m\u001B[1;33m\u001B[0m\u001B[1;33m\u001B[0m\u001B[0m\n\u001B[0;32m    261\u001B[0m         \u001B[1;32mwith\u001B[0m \u001B[0mparallel_backend\u001B[0m\u001B[1;33m(\u001B[0m\u001B[0mself\u001B[0m\u001B[1;33m.\u001B[0m\u001B[0m_backend\u001B[0m\u001B[1;33m,\u001B[0m \u001B[0mn_jobs\u001B[0m\u001B[1;33m=\u001B[0m\u001B[0mself\u001B[0m\u001B[1;33m.\u001B[0m\u001B[0m_n_jobs\u001B[0m\u001B[1;33m)\u001B[0m\u001B[1;33m:\u001B[0m\u001B[1;33m\u001B[0m\u001B[1;33m\u001B[0m\u001B[0m\n\u001B[1;32m--> 262\u001B[1;33m             return [func(*args, **kwargs)\n\u001B[0m\u001B[0;32m    263\u001B[0m                     for func, args, kwargs in self.items]\n\u001B[0;32m    264\u001B[0m \u001B[1;33m\u001B[0m\u001B[0m\n",
      "\u001B[1;32m~\\anaconda3\\lib\\site-packages\\joblib\\parallel.py\u001B[0m in \u001B[0;36m<listcomp>\u001B[1;34m(.0)\u001B[0m\n\u001B[0;32m    260\u001B[0m         \u001B[1;31m# change the default number of processes to -1\u001B[0m\u001B[1;33m\u001B[0m\u001B[1;33m\u001B[0m\u001B[1;33m\u001B[0m\u001B[0m\n\u001B[0;32m    261\u001B[0m         \u001B[1;32mwith\u001B[0m \u001B[0mparallel_backend\u001B[0m\u001B[1;33m(\u001B[0m\u001B[0mself\u001B[0m\u001B[1;33m.\u001B[0m\u001B[0m_backend\u001B[0m\u001B[1;33m,\u001B[0m \u001B[0mn_jobs\u001B[0m\u001B[1;33m=\u001B[0m\u001B[0mself\u001B[0m\u001B[1;33m.\u001B[0m\u001B[0m_n_jobs\u001B[0m\u001B[1;33m)\u001B[0m\u001B[1;33m:\u001B[0m\u001B[1;33m\u001B[0m\u001B[1;33m\u001B[0m\u001B[0m\n\u001B[1;32m--> 262\u001B[1;33m             return [func(*args, **kwargs)\n\u001B[0m\u001B[0;32m    263\u001B[0m                     for func, args, kwargs in self.items]\n\u001B[0;32m    264\u001B[0m \u001B[1;33m\u001B[0m\u001B[0m\n",
      "\u001B[1;32m~\\anaconda3\\lib\\site-packages\\sklearn\\utils\\fixes.py\u001B[0m in \u001B[0;36m__call__\u001B[1;34m(self, *args, **kwargs)\u001B[0m\n\u001B[0;32m    220\u001B[0m     \u001B[1;32mdef\u001B[0m \u001B[0m__call__\u001B[0m\u001B[1;33m(\u001B[0m\u001B[0mself\u001B[0m\u001B[1;33m,\u001B[0m \u001B[1;33m*\u001B[0m\u001B[0margs\u001B[0m\u001B[1;33m,\u001B[0m \u001B[1;33m**\u001B[0m\u001B[0mkwargs\u001B[0m\u001B[1;33m)\u001B[0m\u001B[1;33m:\u001B[0m\u001B[1;33m\u001B[0m\u001B[1;33m\u001B[0m\u001B[0m\n\u001B[0;32m    221\u001B[0m         \u001B[1;32mwith\u001B[0m \u001B[0mconfig_context\u001B[0m\u001B[1;33m(\u001B[0m\u001B[1;33m**\u001B[0m\u001B[0mself\u001B[0m\u001B[1;33m.\u001B[0m\u001B[0mconfig\u001B[0m\u001B[1;33m)\u001B[0m\u001B[1;33m:\u001B[0m\u001B[1;33m\u001B[0m\u001B[1;33m\u001B[0m\u001B[0m\n\u001B[1;32m--> 222\u001B[1;33m             \u001B[1;32mreturn\u001B[0m \u001B[0mself\u001B[0m\u001B[1;33m.\u001B[0m\u001B[0mfunction\u001B[0m\u001B[1;33m(\u001B[0m\u001B[1;33m*\u001B[0m\u001B[0margs\u001B[0m\u001B[1;33m,\u001B[0m \u001B[1;33m**\u001B[0m\u001B[0mkwargs\u001B[0m\u001B[1;33m)\u001B[0m\u001B[1;33m\u001B[0m\u001B[1;33m\u001B[0m\u001B[0m\n\u001B[0m",
      "\u001B[1;32m~\\anaconda3\\lib\\site-packages\\sklearn\\model_selection\\_validation.py\u001B[0m in \u001B[0;36m_fit_and_score\u001B[1;34m(estimator, X, y, scorer, train, test, verbose, parameters, fit_params, return_train_score, return_parameters, return_n_test_samples, return_times, return_estimator, split_progress, candidate_progress, error_score)\u001B[0m\n\u001B[0;32m    591\u001B[0m     \u001B[0mX_test\u001B[0m\u001B[1;33m,\u001B[0m \u001B[0my_test\u001B[0m \u001B[1;33m=\u001B[0m \u001B[0m_safe_split\u001B[0m\u001B[1;33m(\u001B[0m\u001B[0mestimator\u001B[0m\u001B[1;33m,\u001B[0m \u001B[0mX\u001B[0m\u001B[1;33m,\u001B[0m \u001B[0my\u001B[0m\u001B[1;33m,\u001B[0m \u001B[0mtest\u001B[0m\u001B[1;33m,\u001B[0m \u001B[0mtrain\u001B[0m\u001B[1;33m)\u001B[0m\u001B[1;33m\u001B[0m\u001B[1;33m\u001B[0m\u001B[0m\n\u001B[0;32m    592\u001B[0m \u001B[1;33m\u001B[0m\u001B[0m\n\u001B[1;32m--> 593\u001B[1;33m     \u001B[0mresult\u001B[0m \u001B[1;33m=\u001B[0m \u001B[1;33m{\u001B[0m\u001B[1;33m}\u001B[0m\u001B[1;33m\u001B[0m\u001B[1;33m\u001B[0m\u001B[0m\n\u001B[0m\u001B[0;32m    594\u001B[0m     \u001B[1;32mtry\u001B[0m\u001B[1;33m:\u001B[0m\u001B[1;33m\u001B[0m\u001B[1;33m\u001B[0m\u001B[0m\n\u001B[0;32m    595\u001B[0m         \u001B[1;32mif\u001B[0m \u001B[0my_train\u001B[0m \u001B[1;32mis\u001B[0m \u001B[1;32mNone\u001B[0m\u001B[1;33m:\u001B[0m\u001B[1;33m\u001B[0m\u001B[1;33m\u001B[0m\u001B[0m\n",
      "\u001B[1;32m~\\anaconda3\\lib\\site-packages\\sklearn\\tree\\_classes.py\u001B[0m in \u001B[0;36mfit\u001B[1;34m(self, X, y, sample_weight, check_input, X_idx_sorted)\u001B[0m\n\u001B[0;32m    896\u001B[0m \u001B[1;33m\u001B[0m\u001B[0m\n\u001B[0;32m    897\u001B[0m         \u001B[0mReturns\u001B[0m\u001B[1;33m\u001B[0m\u001B[1;33m\u001B[0m\u001B[0m\n\u001B[1;32m--> 898\u001B[1;33m         \u001B[1;33m-\u001B[0m\u001B[1;33m-\u001B[0m\u001B[1;33m-\u001B[0m\u001B[1;33m-\u001B[0m\u001B[1;33m-\u001B[0m\u001B[1;33m-\u001B[0m\u001B[1;33m-\u001B[0m\u001B[1;33m\u001B[0m\u001B[1;33m\u001B[0m\u001B[0m\n\u001B[0m\u001B[0;32m    899\u001B[0m         \u001B[0mself\u001B[0m \u001B[1;33m:\u001B[0m \u001B[0mDecisionTreeClassifier\u001B[0m\u001B[1;33m\u001B[0m\u001B[1;33m\u001B[0m\u001B[0m\n\u001B[0;32m    900\u001B[0m             \u001B[0mFitted\u001B[0m \u001B[0mestimator\u001B[0m\u001B[1;33m.\u001B[0m\u001B[1;33m\u001B[0m\u001B[1;33m\u001B[0m\u001B[0m\n",
      "\u001B[1;32m~\\anaconda3\\lib\\site-packages\\sklearn\\tree\\_classes.py\u001B[0m in \u001B[0;36mfit\u001B[1;34m(self, X, y, sample_weight, check_input, X_idx_sorted)\u001B[0m\n\u001B[0;32m    387\u001B[0m                                            \u001B[0mmin_samples_leaf\u001B[0m\u001B[1;33m,\u001B[0m\u001B[1;33m\u001B[0m\u001B[1;33m\u001B[0m\u001B[0m\n\u001B[0;32m    388\u001B[0m                                            \u001B[0mmin_weight_leaf\u001B[0m\u001B[1;33m,\u001B[0m\u001B[1;33m\u001B[0m\u001B[1;33m\u001B[0m\u001B[0m\n\u001B[1;32m--> 389\u001B[1;33m                                            \u001B[0mmax_depth\u001B[0m\u001B[1;33m,\u001B[0m\u001B[1;33m\u001B[0m\u001B[1;33m\u001B[0m\u001B[0m\n\u001B[0m\u001B[0;32m    390\u001B[0m                                            \u001B[0mmax_leaf_nodes\u001B[0m\u001B[1;33m,\u001B[0m\u001B[1;33m\u001B[0m\u001B[1;33m\u001B[0m\u001B[0m\n\u001B[0;32m    391\u001B[0m                                            \u001B[0mself\u001B[0m\u001B[1;33m.\u001B[0m\u001B[0mmin_impurity_decrease\u001B[0m\u001B[1;33m,\u001B[0m\u001B[1;33m\u001B[0m\u001B[1;33m\u001B[0m\u001B[0m\n",
      "\u001B[1;31mKeyboardInterrupt\u001B[0m: "
     ]
    }
   ],
   "source": [
    "run_classifiers(clfs, result, data.iloc[:,0])"
   ],
   "metadata": {
    "collapsed": false,
    "pycharm": {
     "name": "#%%\n"
    }
   }
  }
 ],
 "metadata": {
  "kernelspec": {
   "display_name": "Python 3",
   "language": "python",
   "name": "python3"
  },
  "language_info": {
   "codemirror_mode": {
    "name": "ipython",
    "version": 2
   },
   "file_extension": ".py",
   "mimetype": "text/x-python",
   "name": "python",
   "nbconvert_exporter": "python",
   "pygments_lexer": "ipython2",
   "version": "2.7.6"
  }
 },
 "nbformat": 4,
 "nbformat_minor": 0
}