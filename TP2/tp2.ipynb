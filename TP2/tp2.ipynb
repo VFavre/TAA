{
 "cells": [
  {
   "cell_type": "markdown",
   "metadata": {
    "collapsed": true,
    "pycharm": {
     "name": "#%% md\n"
    }
   },
   "source": [
    "## Favre Victor et Badiel Dane"
   ]
  },
  {
   "cell_type": "code",
   "execution_count": 125,
   "outputs": [],
   "source": [
    "import numpy as np\n",
    "np.set_printoptions(threshold=10000,suppress=True)\n",
    "import pandas as pd\n",
    "import warnings\n",
    "import matplotlib.pyplot as plt\n",
    "warnings.filterwarnings('ignore')\n",
    "from sklearn.pipeline import Pipeline"
   ],
   "metadata": {
    "collapsed": false,
    "pycharm": {
     "name": "#%%\n"
    }
   }
  },
  {
   "cell_type": "code",
   "execution_count": 126,
   "outputs": [
    {
     "name": "stdout",
     "output_type": "stream",
     "text": [
      "(4375, 14)\n"
     ]
    },
    {
     "data": {
      "text/plain": "<Figure size 432x288 with 1 Axes>",
      "image/png": "[encoded data removed]"
     },
     "metadata": {
      "needs_background": "light"
     },
     "output_type": "display_data"
    }
   ],
   "source": [
    "data = pd.read_csv(\"credit_scoring.csv\",sep = ';')\n",
    "data_ar = data.to_numpy()\n",
    "print(np.shape(data_ar))\n",
    "\n",
    "positive = data_ar[data_ar[:,13] == 1]\n",
    "negative = data_ar[data_ar[:,13] == 0]\n",
    "\n",
    "plt.hist(data_ar[:,13], ec=\"k\")\n",
    "plt.xticks((0,1))\n",
    "plt.title(\"histogram\")\n",
    "plt.show()"
   ],
   "metadata": {
    "collapsed": false,
    "pycharm": {
     "name": "#%%\n"
    }
   }
  },
  {
   "cell_type": "code",
   "execution_count": 127,
   "outputs": [],
   "source": [
    "from sklearn.model_selection import train_test_split\n",
    "X = data_ar[:,:13]\n",
    "y = data_ar[:,13]\n",
    "X_train, X_test, y_train, y_test = train_test_split(X, y, test_size=0.5, random_state=1)"
   ],
   "metadata": {
    "collapsed": false,
    "pycharm": {
     "name": "#%%\n"
    }
   }
  },
  {
   "cell_type": "code",
   "execution_count": 128,
   "outputs": [
    {
     "name": "stdout",
     "output_type": "stream",
     "text": [
      "              precision    recall  f1-score   support\n",
      "\n",
      "         0.0       0.51      0.54      0.52       604\n",
      "         1.0       0.82      0.80      0.81      1584\n",
      "\n",
      "    accuracy                           0.73      2188\n",
      "   macro avg       0.66      0.67      0.67      2188\n",
      "weighted avg       0.73      0.73      0.73      2188\n",
      "\n"
     ]
    }
   ],
   "source": [
    "from sklearn import tree\n",
    "from sklearn import metrics\n",
    "\n",
    "clf = tree.DecisionTreeClassifier(random_state=1)\n",
    "clf = clf.fit(X_train,y_train)\n",
    "y_pred = clf.predict(X_test)\n",
    "print(metrics.classification_report(y_test,y_pred))"
   ],
   "metadata": {
    "collapsed": false,
    "pycharm": {
     "name": "#%%\n"
    }
   }
  },
  {
   "cell_type": "markdown",
   "source": [
    "KNeighbors"
   ],
   "metadata": {
    "collapsed": false
   }
  },
  {
   "cell_type": "code",
   "execution_count": 129,
   "outputs": [
    {
     "name": "stdout",
     "output_type": "stream",
     "text": [
      "              precision    recall  f1-score   support\n",
      "\n",
      "         0.0       0.50      0.31      0.39       604\n",
      "         1.0       0.77      0.88      0.82      1584\n",
      "\n",
      "    accuracy                           0.72      2188\n",
      "   macro avg       0.64      0.60      0.60      2188\n",
      "weighted avg       0.70      0.72      0.70      2188\n",
      "\n"
     ]
    }
   ],
   "source": [
    "from sklearn.neighbors import KNeighborsClassifier\n",
    "neigh = KNeighborsClassifier(n_neighbors=5)\n",
    "neigh.fit(X_train, y_train)\n",
    "y_pred = neigh.predict(X_test)\n",
    "print(metrics.classification_report(y_test,y_pred))"
   ],
   "metadata": {
    "collapsed": false,
    "pycharm": {
     "name": "#%%\n"
    }
   }
  },
  {
   "cell_type": "code",
   "execution_count": 130,
   "outputs": [
    {
     "name": "stdout",
     "output_type": "stream",
     "text": [
      "              precision    recall  f1-score   support\n",
      "\n",
      "         0.0       0.39      0.61      0.47       604\n",
      "         1.0       0.81      0.63      0.71      1584\n",
      "\n",
      "    accuracy                           0.63      2188\n",
      "   macro avg       0.60      0.62      0.59      2188\n",
      "weighted avg       0.69      0.63      0.64      2188\n",
      "\n"
     ]
    }
   ],
   "source": [
    "from sklearn.neural_network import MLPClassifier\n",
    "\n",
    "mlp = MLPClassifier(hidden_layer_sizes=(40,20),activation=\"relu\").fit(X_train, y_train)\n",
    "y_pred = mlp.predict(X_test)\n",
    "print(metrics.classification_report(y_test,y_pred))"
   ],
   "metadata": {
    "collapsed": false,
    "pycharm": {
     "name": "#%%\n"
    }
   }
  },
  {
   "cell_type": "markdown",
   "source": [
    "# normalisation et standardisation"
   ],
   "metadata": {
    "collapsed": false
   }
  },
  {
   "cell_type": "code",
   "execution_count": 131,
   "outputs": [],
   "source": [
    "from sklearn.preprocessing import StandardScaler\n",
    "sc_X = StandardScaler()\n",
    "X_train_standar = sc_X.fit_transform(X_train)\n",
    "X_test_standar = sc_X.transform(X_test)\n",
    "#TODO copy the algo when done\n",
    "\n",
    "from sklearn.preprocessing import MinMaxScaler\n",
    "scaler = MinMaxScaler()\n",
    "X_train_minmax = scaler.fit_transform(X_train)\n",
    "X_test_minmax = scaler.transform(X_test)"
   ],
   "metadata": {
    "collapsed": false,
    "pycharm": {
     "name": "#%%\n"
    }
   }
  },
  {
   "cell_type": "code",
   "execution_count": 132,
   "outputs": [
    {
     "name": "stdout",
     "output_type": "stream",
     "text": [
      "              precision    recall  f1-score   support\n",
      "\n",
      "         0.0       0.51      0.53      0.52       604\n",
      "         1.0       0.82      0.80      0.81      1584\n",
      "\n",
      "    accuracy                           0.73      2188\n",
      "   macro avg       0.66      0.67      0.66      2188\n",
      "weighted avg       0.73      0.73      0.73      2188\n",
      "\n"
     ]
    }
   ],
   "source": [
    "from sklearn import tree\n",
    "from sklearn import metrics\n",
    "\n",
    "clf = tree.DecisionTreeClassifier(random_state=1)\n",
    "clf = clf.fit(X_train_standar,y_train)\n",
    "y_pred = clf.predict(X_test_standar)\n",
    "print(metrics.classification_report(y_test,y_pred))"
   ],
   "metadata": {
    "collapsed": false,
    "pycharm": {
     "name": "#%%\n"
    }
   }
  },
  {
   "cell_type": "code",
   "execution_count": 133,
   "outputs": [
    {
     "name": "stdout",
     "output_type": "stream",
     "text": [
      "              precision    recall  f1-score   support\n",
      "\n",
      "         0.0       0.51      0.54      0.52       604\n",
      "         1.0       0.82      0.80      0.81      1584\n",
      "\n",
      "    accuracy                           0.73      2188\n",
      "   macro avg       0.66      0.67      0.67      2188\n",
      "weighted avg       0.73      0.73      0.73      2188\n",
      "\n"
     ]
    }
   ],
   "source": [
    "clf = tree.DecisionTreeClassifier(random_state=1)\n",
    "clf = clf.fit(X_train_minmax,y_train)\n",
    "y_pred = clf.predict(X_test_minmax)\n",
    "print(metrics.classification_report(y_test,y_pred))"
   ],
   "metadata": {
    "collapsed": false,
    "pycharm": {
     "name": "#%%\n"
    }
   }
  },
  {
   "cell_type": "code",
   "execution_count": 134,
   "outputs": [
    {
     "name": "stdout",
     "output_type": "stream",
     "text": [
      "              precision    recall  f1-score   support\n",
      "\n",
      "         0.0       0.50      0.31      0.39       604\n",
      "         1.0       0.77      0.88      0.82      1584\n",
      "\n",
      "    accuracy                           0.72      2188\n",
      "   macro avg       0.64      0.60      0.60      2188\n",
      "weighted avg       0.70      0.72      0.70      2188\n",
      "\n"
     ]
    }
   ],
   "source": [
    "neigh = KNeighborsClassifier(n_neighbors=5)\n",
    "neigh.fit(X_train, y_train)\n",
    "y_pred = neigh.predict(X_test)\n",
    "print(metrics.classification_report(y_test,y_pred))"
   ],
   "metadata": {
    "collapsed": false,
    "pycharm": {
     "name": "#%%\n"
    }
   }
  },
  {
   "cell_type": "code",
   "execution_count": 135,
   "outputs": [
    {
     "name": "stdout",
     "output_type": "stream",
     "text": [
      "              precision    recall  f1-score   support\n",
      "\n",
      "         0.0       0.51      0.54      0.52       604\n",
      "         1.0       0.82      0.80      0.81      1584\n",
      "\n",
      "    accuracy                           0.73      2188\n",
      "   macro avg       0.66      0.67      0.67      2188\n",
      "weighted avg       0.73      0.73      0.73      2188\n",
      "\n"
     ]
    }
   ],
   "source": [
    "neigh.fit(X_train, y_train)\n",
    "y_pred = clf.predict(X_test_minmax)\n",
    "print(metrics.classification_report(y_test,y_pred))"
   ],
   "metadata": {
    "collapsed": false,
    "pycharm": {
     "name": "#%%\n"
    }
   }
  },
  {
   "cell_type": "code",
   "execution_count": 136,
   "outputs": [
    {
     "name": "stdout",
     "output_type": "stream",
     "text": [
      "              precision    recall  f1-score   support\n",
      "\n",
      "         0.0       0.51      0.54      0.52       604\n",
      "         1.0       0.82      0.80      0.81      1584\n",
      "\n",
      "    accuracy                           0.73      2188\n",
      "   macro avg       0.66      0.67      0.67      2188\n",
      "weighted avg       0.73      0.73      0.73      2188\n",
      "\n"
     ]
    }
   ],
   "source": [
    "print(metrics.classification_report(y_test,y_pred))"
   ],
   "metadata": {
    "collapsed": false,
    "pycharm": {
     "name": "#%%\n"
    }
   }
  },
  {
   "cell_type": "code",
   "execution_count": 137,
   "outputs": [
    {
     "name": "stdout",
     "output_type": "stream",
     "text": [
      "              precision    recall  f1-score   support\n",
      "\n",
      "         0.0       0.61      0.56      0.58       604\n",
      "         1.0       0.84      0.87      0.85      1584\n",
      "\n",
      "    accuracy                           0.78      2188\n",
      "   macro avg       0.72      0.71      0.72      2188\n",
      "weighted avg       0.78      0.78      0.78      2188\n",
      "\n"
     ]
    }
   ],
   "source": [
    "mlp = MLPClassifier(hidden_layer_sizes=(40,20),activation=\"relu\")\n",
    "mlp.fit(X_train_standar, y_train)\n",
    "y_pred = mlp.predict(X_test_standar)\n",
    "print(metrics.classification_report(y_test,y_pred))"
   ],
   "metadata": {
    "collapsed": false,
    "pycharm": {
     "name": "#%%\n"
    }
   }
  },
  {
   "cell_type": "code",
   "execution_count": 138,
   "outputs": [
    {
     "name": "stdout",
     "output_type": "stream",
     "text": [
      "              precision    recall  f1-score   support\n",
      "\n",
      "         0.0       0.65      0.52      0.58       604\n",
      "         1.0       0.83      0.89      0.86      1584\n",
      "\n",
      "    accuracy                           0.79      2188\n",
      "   macro avg       0.74      0.71      0.72      2188\n",
      "weighted avg       0.78      0.79      0.78      2188\n",
      "\n"
     ]
    }
   ],
   "source": [
    "mlp.fit(X_train_minmax, y_train)\n",
    "y_pred = mlp.predict(X_test_minmax)\n",
    "print(metrics.classification_report(y_test,y_pred))"
   ],
   "metadata": {
    "collapsed": false,
    "pycharm": {
     "name": "#%%\n"
    }
   }
  },
  {
   "cell_type": "markdown",
   "source": [
    "PCA"
   ],
   "metadata": {
    "collapsed": false
   }
  },
  {
   "cell_type": "code",
   "execution_count": 139,
   "outputs": [],
   "source": [
    "from sklearn.decomposition import PCA\n",
    "pca = PCA()\n",
    "pca_train = pca.fit_transform(X_train_standar)\n",
    "X_train_pca = np.concatenate([X_train_standar,pca_train[:,:3]], axis = 1)\n",
    "pca_test = pca.transform(X_test_standar)\n",
    "X_test_pca = np.concatenate([X_test_standar,pca_test[:,:3]], axis = 1)"
   ],
   "metadata": {
    "collapsed": false,
    "pycharm": {
     "name": "#%%\n"
    }
   }
  },
  {
   "cell_type": "code",
   "execution_count": 140,
   "outputs": [
    {
     "name": "stdout",
     "output_type": "stream",
     "text": [
      "              precision    recall  f1-score   support\n",
      "\n",
      "         0.0       0.52      0.58      0.55       604\n",
      "         1.0       0.83      0.80      0.81      1584\n",
      "\n",
      "    accuracy                           0.74      2188\n",
      "   macro avg       0.68      0.69      0.68      2188\n",
      "weighted avg       0.75      0.74      0.74      2188\n",
      "\n"
     ]
    }
   ],
   "source": [
    "clf = tree.DecisionTreeClassifier(random_state=1)\n",
    "clf = clf.fit(X_train_pca, y_train)\n",
    "y_pred = clf.predict(X_test_pca)\n",
    "print(metrics.classification_report(y_test, y_pred))"
   ],
   "metadata": {
    "collapsed": false,
    "pycharm": {
     "name": "#%%\n"
    }
   }
  },
  {
   "cell_type": "code",
   "execution_count": 141,
   "outputs": [
    {
     "name": "stdout",
     "output_type": "stream",
     "text": [
      "              precision    recall  f1-score   support\n",
      "\n",
      "         0.0       0.57      0.47      0.52       604\n",
      "         1.0       0.81      0.87      0.84      1584\n",
      "\n",
      "    accuracy                           0.76      2188\n",
      "   macro avg       0.69      0.67      0.68      2188\n",
      "weighted avg       0.74      0.76      0.75      2188\n",
      "\n"
     ]
    }
   ],
   "source": [
    "neigh.fit(X_train_pca, y_train)\n",
    "y_pred = neigh.predict(X_test_pca)\n",
    "print(metrics.classification_report(y_test, y_pred))"
   ],
   "metadata": {
    "collapsed": false,
    "pycharm": {
     "name": "#%%\n"
    }
   }
  },
  {
   "cell_type": "code",
   "execution_count": 142,
   "outputs": [
    {
     "name": "stdout",
     "output_type": "stream",
     "text": [
      "              precision    recall  f1-score   support\n",
      "\n",
      "         0.0       0.61      0.54      0.57       604\n",
      "         1.0       0.83      0.86      0.85      1584\n",
      "\n",
      "    accuracy                           0.78      2188\n",
      "   macro avg       0.72      0.70      0.71      2188\n",
      "weighted avg       0.77      0.78      0.77      2188\n",
      "\n"
     ]
    }
   ],
   "source": [
    "mlp = MLPClassifier(hidden_layer_sizes=(40,20),activation=\"relu\")\n",
    "mlp.fit(X_train_pca, y_train)\n",
    "y_pred = mlp.predict(X_test_pca)\n",
    "print(metrics.classification_report(y_test,y_pred))"
   ],
   "metadata": {
    "collapsed": false,
    "pycharm": {
     "name": "#%%\n"
    }
   }
  },
  {
   "cell_type": "markdown",
   "source": [
    "# Sélection de variables"
   ],
   "metadata": {
    "collapsed": false
   }
  },
  {
   "cell_type": "code",
   "execution_count": 143,
   "outputs": [
    {
     "name": "stdout",
     "output_type": "stream",
     "text": [
      "Index(['Income', 'Seniority', 'Price', 'Amount', 'Age', 'Assets', 'Expenses',\n",
      "       'Records', 'Time', 'Job', 'Debt', 'Home', 'Marital'],\n",
      "      dtype='object')\n"
     ]
    },
    {
     "data": {
      "text/plain": "<Figure size 432x288 with 1 Axes>",
      "image/png": "[encoded data removed]"
     },
     "metadata": {
      "needs_background": "light"
     },
     "output_type": "display_data"
    }
   ],
   "source": [
    "from sklearn.ensemble import RandomForestClassifier\n",
    "clf = RandomForestClassifier(n_estimators=100)\n",
    "clf.fit(X_train_standar,y_train)\n",
    "importances=clf.feature_importances_\n",
    "std = np.std([tree.feature_importances_ for tree in clf.estimators_],axis=0)\n",
    "sorted_idx = np.argsort(importances)[::-1]\n",
    "nom_cols = data.columns\n",
    "features = nom_cols #see if it's well organized\n",
    "print(features[sorted_idx])\n",
    "padding = np.arange(X_train_standar.size/len(X_train_standar)) + 0.5\n",
    "plt.barh(padding, importances[sorted_idx],xerr=std[sorted_idx], align='center')\n",
    "plt.yticks(padding, features[sorted_idx])\n",
    "plt.xlabel(\"Relative Importance\")\n",
    "plt.title(\"Variable Importance\")\n",
    "plt.show()"
   ],
   "metadata": {
    "collapsed": false,
    "pycharm": {
     "name": "#%%\n"
    }
   }
  },
  {
   "cell_type": "code",
   "execution_count": 144,
   "outputs": [
    {
     "data": {
      "text/plain": "<Figure size 432x288 with 1 Axes>",
      "image/png": "[encoded data removed]"
     },
     "metadata": {
      "needs_background": "light"
     },
     "output_type": "display_data"
    }
   ],
   "source": [
    "from sklearn.neighbors import KNeighborsClassifier\n",
    "KNN=KNeighborsClassifier(n_neighbors=5)\n",
    "scores=np.zeros(X_train_standar.shape[1]+1)\n",
    "for f in np.arange(0, X_train_standar.shape[1]+1):\n",
    "    X1_f = X_train_standar[:,sorted_idx[:f+1]]\n",
    "    X2_f = X_test_standar[:,sorted_idx[:f+1]]\n",
    "    KNN.fit(X1_f,y_train)\n",
    "    YKNN=KNN.predict(X2_f)\n",
    "    scores[f]=np.round(metrics.accuracy_score(y_test,YKNN),3)\n",
    "plt.plot(scores)\n",
    "plt.xlabel(\"Nombre de Variables\")\n",
    "plt.ylabel(\"Accuracy\")\n",
    "plt.title(\"Evolution de l'accuracy en fonction des variables\")\n",
    "plt.show()"
   ],
   "metadata": {
    "collapsed": false,
    "pycharm": {
     "name": "#%%\n"
    }
   }
  },
  {
   "cell_type": "markdown",
   "source": [
    "Suite au graph précedent on peut conclure que la nombre optimale de variable est de 7 car l'ajout de variable entraien ou une perte d'accuracy de l'odre de 0.01 ou aucune amélioration"
   ],
   "metadata": {
    "collapsed": false
   }
  },
  {
   "cell_type": "markdown",
   "source": [
    "retest with only the 7 best features"
   ],
   "metadata": {
    "collapsed": false
   }
  },
  {
   "cell_type": "code",
   "execution_count": 193,
   "outputs": [
    {
     "name": "stdout",
     "output_type": "stream",
     "text": [
      "(2188, 7)\n"
     ]
    }
   ],
   "source": [
    "X_train_best = X_train_standar[:,sorted_idx[:7]]\n",
    "X_test_best = X_test_standar[:,sorted_idx[:7]]"
   ],
   "metadata": {
    "collapsed": false,
    "pycharm": {
     "name": "#%%\n"
    }
   }
  },
  {
   "cell_type": "markdown",
   "source": [
    "# GridSearch"
   ],
   "metadata": {
    "collapsed": false
   }
  },
  {
   "cell_type": "markdown",
   "source": [
    "### Decision tree grid search"
   ],
   "metadata": {
    "collapsed": false
   }
  },
  {
   "cell_type": "code",
   "execution_count": 145,
   "outputs": [
    {
     "data": {
      "text/plain": "{'max_depth': 4, 'min_samples_leaf': 1}"
     },
     "execution_count": 145,
     "metadata": {},
     "output_type": "execute_result"
    }
   ],
   "source": [
    "from sklearn.model_selection import GridSearchCV\n",
    "parameters = {\n",
    "    'max_depth':[2,3,4,5,6,7],\n",
    "    'min_samples_leaf' : [1,2,3]\n",
    "}\n",
    "\n",
    "clf = tree.DecisionTreeClassifier(random_state=1)\n",
    "'''\n",
    "clf = clf.fit(X_train_pca, y_train)\n",
    "y_pred = clf.predict(X_test_pca)\n",
    "print(metrics.classification_report(y_test, y_pred))\n",
    "'''\n",
    "clf = GridSearchCV(clf, parameters, scoring='accuracy',cv=10, verbose=False)\n",
    "clf.fit(X_train_pca, y_train)\n",
    "scoring = clf.cv_results_\n",
    "clf.best_params_"
   ],
   "metadata": {
    "collapsed": false,
    "pycharm": {
     "name": "#%%\n"
    }
   }
  },
  {
   "cell_type": "markdown",
   "source": [
    "### grid search KN neighbours"
   ],
   "metadata": {
    "collapsed": false
   }
  },
  {
   "cell_type": "code",
   "execution_count": 146,
   "outputs": [
    {
     "data": {
      "text/plain": "{'algorithm': 'ball_tree', 'leaf_size': 1, 'n_neighbors': 9, 'p': 2}"
     },
     "execution_count": 146,
     "metadata": {},
     "output_type": "execute_result"
    }
   ],
   "source": [
    "parameters = {\n",
    "    'n_neighbors':[2,3,4,5,6,7,8,9,10],\n",
    "    'leaf_size' : [1,2,3,4,5,10,30,40],\n",
    "    'p':[1,2],\n",
    "    'algorithm':['ball_tree', 'kd_tree', 'brute']\n",
    "}\n",
    "neigh = KNeighborsClassifier()\n",
    "'''\n",
    "clf = clf.fit(X_train_pca, y_train)\n",
    "y_pred = clf.predict(X_test_pca)\n",
    "print(metrics.classification_report(y_test, y_pred))\n",
    "'''\n",
    "clf = GridSearchCV(neigh, parameters, scoring='accuracy',cv=10, verbose=False)\n",
    "clf.fit(X_train_pca, y_train)\n",
    "scoring = clf.cv_results_\n",
    "clf.best_params_"
   ],
   "metadata": {
    "collapsed": false,
    "pycharm": {
     "name": "#%%\n"
    }
   }
  },
  {
   "cell_type": "markdown",
   "source": [
    "### GridSearch multi layer perceptron"
   ],
   "metadata": {
    "collapsed": false
   }
  },
  {
   "cell_type": "code",
   "execution_count": 147,
   "outputs": [
    {
     "data": {
      "text/plain": "{'activation': 'identity', 'alpha': 0.001, 'hidden_layer_sizes': (60, 40)}"
     },
     "execution_count": 147,
     "metadata": {},
     "output_type": "execute_result"
    }
   ],
   "source": [
    "\n",
    "parameters = {\n",
    "    'activation' : [\"identity\",\"logistic\",\"tanh\",\"relu\"],\n",
    "    'hidden_layer_sizes':[(80,40),(50,15),(60,40),(60,30)],\n",
    "    'alpha':[0.001,0.00005,0.0001,0.0005]\n",
    "}\n",
    "\n",
    "mlp = MLPClassifier(random_state = 1,solver = 'adam',learning_rate = \"adaptive\")\n",
    "'''\n",
    "mlp.fit(X_train_pca, y_train)\n",
    "y_pred = mlp.predict(X_test_pca)\n",
    "'''\n",
    "clf = GridSearchCV(mlp, parameters, scoring='accuracy',cv=10, verbose=False)\n",
    "clf.fit(X_train_pca, y_train)\n",
    "scoring = clf.cv_results_\n",
    "clf.best_params_"
   ],
   "metadata": {
    "collapsed": false,
    "pycharm": {
     "name": "#%%\n"
    }
   }
  },
  {
   "cell_type": "markdown",
   "source": [
    "# Pipeline"
   ],
   "metadata": {
    "collapsed": false
   }
  },
  {
   "cell_type": "code",
   "execution_count": 162,
   "outputs": [],
   "source": [
    "from sklearn.pipeline import Pipeline\n",
    "from sklearn.preprocessing import FunctionTransformer\n",
    "import pickle\n",
    "\n",
    "pipe = Pipeline([\n",
    "    ('scaler',StandardScaler),\n",
    "    ('pca', PCA(n_components = 3)),\n",
    "    ('tree', tree.DecisionTreeClassifier(random_state=1, max_depth= 4, min_samples_leaf= 1))\n",
    "])\n",
    "\n",
    "with open('pipeline.pickle', 'wb') as handle:\n",
    "    pickle.dump(pipe, handle, protocol=pickle.HIGHEST_PROTOCOL)\n",
    "\n",
    "# or if we can use joblib\n",
    "#import joblib\n",
    "#from sklearn.externals import joblib\n",
    "#joblib.dump(pipeline, 'pipeline.pkl')"
   ],
   "metadata": {
    "collapsed": false,
    "pycharm": {
     "name": "#%%\n"
    }
   }
  },
  {
   "cell_type": "markdown",
   "source": [
    "# Comparaison d'algorithmes"
   ],
   "metadata": {
    "collapsed": false,
    "pycharm": {
     "name": "#%% md\n"
    }
   }
  },
  {
   "cell_type": "code",
   "execution_count": 172,
   "outputs": [
    {
     "name": "stdout",
     "output_type": "stream",
     "text": [
      "Accuracy for TREE is: 0.804 +/- 0.030 roc is: 0.646 +/- 0.028\n",
      "Accuracy for KNN is: 0.796 +/- 0.032 roc is: 0.766 +/- 0.018\n",
      "Accuracy for Bayes is: 0.820 +/- 0.032 roc is: 0.773 +/- 0.033\n",
      "Accuracy for CART is: 0.804 +/- 0.030 roc is: 0.646 +/- 0.028\n",
      "Accuracy for ID30 is: 0.790 +/- 0.036 roc is: 0.627 +/- 0.032\n",
      "Accuracy for MLP is: 0.834 +/- 0.029 roc is: 0.834 +/- 0.019\n",
      "Accuracy for neihgbors is: 0.797 +/- 0.032 roc is: 0.741 +/- 0.019\n",
      "Accuracy for bagging is: 0.808 +/- 0.030 roc is: 0.792 +/- 0.024\n",
      "Accuracy for ADA is: 0.815 +/- 0.029 roc is: 0.818 +/- 0.029\n",
      "Accuracy for RNDForest is: 0.778 +/- 0.034 roc is: 0.818 +/- 0.022\n"
     ]
    }
   ],
   "source": [
    "from sklearn.model_selection import KFold\n",
    "from sklearn.model_selection import cross_val_score\n",
    "from sklearn.naive_bayes import GaussianNB\n",
    "from sklearn.ensemble import BaggingClassifier\n",
    "from sklearn.ensemble import AdaBoostClassifier\n",
    "from sklearn.ensemble import RandomForestClassifier\n",
    "\n",
    "clfs = {\n",
    "    'TREE': tree.DecisionTreeClassifier(max_depth= 4, min_samples_leaf= 1, random_state=1),\n",
    "    'KNN': KNeighborsClassifier(algorithm= 'ball_tree', leaf_size= 1, n_neighbors= 9, p= 2),\n",
    "    'Bayes': GaussianNB(),\n",
    "    'CART': tree.DecisionTreeClassifier(random_state=1),\n",
    "    'ID30': tree.DecisionTreeClassifier(random_state=1,criterion = \"entropy\"),\n",
    "    'MLP': MLPClassifier(random_state = 1,solver = 'adam',learning_rate = \"adaptive\"),\n",
    "    'neihgbors':KNeighborsClassifier(),\n",
    "    'bagging':BaggingClassifier(n_estimators=50, random_state=1),\n",
    "    'ADA': AdaBoostClassifier(n_estimators=50, random_state=0),\n",
    "    'RNDForest':RandomForestClassifier(n_estimators=50, max_depth=5, random_state=1)\n",
    "}\n",
    "def run_classifiers(_clfs, _X, _y):\n",
    "    kf = KFold(n_splits=10, shuffle=True, random_state=0)\n",
    "    for i in _clfs:\n",
    "        clf = _clfs[i]\n",
    "        cv_acc = cross_val_score(clf, _X, _y, cv=kf, scoring= \"precision\")\n",
    "        auc = cross_val_score(clf, _X, _y, cv=kf, scoring= 'roc_auc')\n",
    "        print(\"Accuracy for {0} is: {1:.3f} +/- {2:.3f} roc is: {3:.3f} +/- {4:.3f}\".format(i, np.mean(cv_acc), np.std(cv_acc), np.mean(auc), np.std(auc)))\n",
    "\n",
    "run_classifiers(clfs,X_train_pca,y_train)"
   ],
   "metadata": {
    "collapsed": false,
    "pycharm": {
     "name": "#%%\n"
    }
   }
  },
  {
   "cell_type": "markdown",
   "source": [
    "# Données hétérogènes"
   ],
   "metadata": {
    "collapsed": false
   }
  },
  {
   "cell_type": "code",
   "execution_count": 186,
   "outputs": [
    {
     "name": "stdout",
     "output_type": "stream",
     "text": [
      "     b  30.83       0  u  g   w   v  1.25  t t.1  1  f g.1  202  0.1  +\n",
      "0    a  58.67   4.460  u  g   q   h  3.04  t   t  6  f   g   43  560  +\n",
      "1    a  24.50   0.500  u  g   q   h  1.50  t   f  0  f   g  280  824  +\n",
      "2    b  27.83   1.540  u  g   w   v  3.75  t   t  5  t   g  100    3  +\n",
      "3    b  20.17   5.625  u  g   w   v  1.71  t   f  0  f   s  120    0  +\n",
      "4    b  32.08   4.000  u  g   m   v  2.50  t   f  0  t   g  360    0  +\n",
      "..  ..    ...     ... .. ..  ..  ..   ... ..  .. .. ..  ..  ...  ... ..\n",
      "682  b  21.08  10.085  y  p   e   h  1.25  f   f  0  f   g  260    0  -\n",
      "683  a  22.67   0.750  u  g   c   v  2.00  f   t  2  t   g  200  394  -\n",
      "684  a  25.25  13.500  y  p  ff  ff  2.00  f   t  1  t   g  200    1  -\n",
      "685  b  17.92   0.205  u  g  aa   v  0.04  f   f  0  f   g  280  750  -\n",
      "686  b  35.00   3.375  u  g   c   h  8.29  f   f  0  t   g    0    0  -\n",
      "\n",
      "[687 rows x 16 columns]\n"
     ]
    }
   ],
   "source": [
    "credit_data = pd.read_csv(\"credit.data\", sep = '\\t')\n",
    "print(credit_data)"
   ],
   "metadata": {
    "collapsed": false,
    "pycharm": {
     "name": "#%%\n"
    }
   }
  },
  {
   "cell_type": "code",
   "execution_count": 187,
   "outputs": [
    {
     "name": "stdout",
     "output_type": "stream",
     "text": [
      "(4375, 14)\n"
     ]
    }
   ],
   "source": [
    "data_ar = data.to_numpy()\n",
    "print(np.shape(data_ar))"
   ],
   "metadata": {
    "collapsed": false,
    "pycharm": {
     "name": "#%%\n"
    }
   }
  },
  {
   "cell_type": "code",
   "execution_count": 192,
   "outputs": [
    {
     "name": "stdout",
     "output_type": "stream",
     "text": [
      "          0  1.25  1  0.1\n",
      "0     4.460  3.04  6  560\n",
      "1     0.500  1.50  0  824\n",
      "2     1.540  3.75  5    3\n",
      "3     5.625  1.71  0    0\n",
      "4     4.000  2.50  0    0\n",
      "..      ...   ... ..  ...\n",
      "682  10.085  1.25  0    0\n",
      "683   0.750  2.00  2  394\n",
      "684  13.500  2.00  1    1\n",
      "685   0.205  0.04  0  750\n",
      "686   3.375  8.29  0    0\n",
      "\n",
      "[687 rows x 4 columns]\n"
     ]
    }
   ],
   "source": [
    "X = data_ar[:,:13]\n",
    "y = data_ar[:,13]\n",
    "number = credit_data.select_dtypes(include='number')\n"
   ],
   "metadata": {
    "collapsed": false,
    "pycharm": {
     "name": "#%%\n"
    }
   }
  }
 ],
 "metadata": {
  "kernelspec": {
   "display_name": "Python 3",
   "language": "python",
   "name": "python3"
  },
  "language_info": {
   "codemirror_mode": {
    "name": "ipython",
    "version": 2
   },
   "file_extension": ".py",
   "mimetype": "text/x-python",
   "name": "python",
   "nbconvert_exporter": "python",
   "pygments_lexer": "ipython2",
   "version": "2.7.6"
  }
 },
 "nbformat": 4,
 "nbformat_minor": 0
}